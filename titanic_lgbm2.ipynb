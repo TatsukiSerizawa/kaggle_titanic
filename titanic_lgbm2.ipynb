{
 "cells": [
  {
   "cell_type": "code",
   "execution_count": 88,
   "metadata": {},
   "outputs": [],
   "source": [
    "import warnings\n",
    "warnings.filterwarnings('ignore') # warningが出ないように設定\n",
    "\n",
    "import pandas as pd\n",
    "import numpy as np\n",
    "import matplotlib.pyplot as plt\n",
    "import missingno as msno\n",
    "from sklearn.preprocessing import LabelEncoder\n",
    "\n",
    "%matplotlib inline\n",
    "\n",
    "\n",
    "pd.set_option(\"display.max_rows\", None) # pandasの表示上限をなくす\n",
    "pd.set_option(\"display.max_columns\", None) # pandasの表示上限をなくす"
   ]
  },
  {
   "cell_type": "code",
   "execution_count": 89,
   "metadata": {},
   "outputs": [],
   "source": [
    "#lgbSubmission.csv: PassengerId\tPclass\tSex\tSibSp\tParch\tFare で学習\n",
    "#lgbSubmission2.csv: Pclass\tSex\tAge\tSibSp\tParch\tFare で学習\n",
    "#lgbSubmission3.csv: Pclass\tSex\tAge\tSibSp\tParch\tFare\tEmbarked で学習\n",
    "#lgbSubmission4.csv: SFSによる特徴選択をして学習\n",
    "#lgbSubmission5.csv: 3.csvのSibSpとParchを合わせたSibSpParchを用いて学習\n",
    "#lgbSubmission6.csv: 5.csvの予測結果のtest dataをtrain dataと結合させて再学習\n",
    "#lgbSubmission7.csv: 右舷と左舷の部屋番号を分けたカラムを追加してAgeをカテゴライズして学習(TicketとCabin間違えた)\n",
    "#lgbSubmission8.csv: 7.csvでFareもカテゴライズして学習(TicketとCabin間違えた)\n",
    "#lgbSubmission9.csv: 右舷と左舷の部屋番号を分けたものと階層ごとの部屋を分けたものの特徴量を追加してFareはカテゴライズせずTitle特徴量を追加して学習"
   ]
  },
  {
   "cell_type": "code",
   "execution_count": 90,
   "metadata": {},
   "outputs": [],
   "source": [
    "data_path = './data/'\n",
    "\n",
    "train = pd.read_csv(data_path + 'train.csv')\n",
    "test = pd.read_csv(data_path + 'test.csv')\n",
    "pd.set_option(\"display.max_columns\",1000)"
   ]
  },
  {
   "cell_type": "code",
   "execution_count": 91,
   "metadata": {},
   "outputs": [
    {
     "data": {
      "text/html": [
       "<div>\n",
       "<style scoped>\n",
       "    .dataframe tbody tr th:only-of-type {\n",
       "        vertical-align: middle;\n",
       "    }\n",
       "\n",
       "    .dataframe tbody tr th {\n",
       "        vertical-align: top;\n",
       "    }\n",
       "\n",
       "    .dataframe thead th {\n",
       "        text-align: right;\n",
       "    }\n",
       "</style>\n",
       "<table border=\"1\" class=\"dataframe\">\n",
       "  <thead>\n",
       "    <tr style=\"text-align: right;\">\n",
       "      <th></th>\n",
       "      <th>PassengerId</th>\n",
       "      <th>Survived</th>\n",
       "      <th>Pclass</th>\n",
       "      <th>Name</th>\n",
       "      <th>Sex</th>\n",
       "      <th>Age</th>\n",
       "      <th>SibSp</th>\n",
       "      <th>Parch</th>\n",
       "      <th>Ticket</th>\n",
       "      <th>Fare</th>\n",
       "      <th>Cabin</th>\n",
       "      <th>Embarked</th>\n",
       "    </tr>\n",
       "  </thead>\n",
       "  <tbody>\n",
       "    <tr>\n",
       "      <th>0</th>\n",
       "      <td>1</td>\n",
       "      <td>0</td>\n",
       "      <td>3</td>\n",
       "      <td>Braund, Mr. Owen Harris</td>\n",
       "      <td>male</td>\n",
       "      <td>22.0</td>\n",
       "      <td>1</td>\n",
       "      <td>0</td>\n",
       "      <td>A/5 21171</td>\n",
       "      <td>7.2500</td>\n",
       "      <td>NaN</td>\n",
       "      <td>S</td>\n",
       "    </tr>\n",
       "    <tr>\n",
       "      <th>1</th>\n",
       "      <td>2</td>\n",
       "      <td>1</td>\n",
       "      <td>1</td>\n",
       "      <td>Cumings, Mrs. John Bradley (Florence Briggs Th...</td>\n",
       "      <td>female</td>\n",
       "      <td>38.0</td>\n",
       "      <td>1</td>\n",
       "      <td>0</td>\n",
       "      <td>PC 17599</td>\n",
       "      <td>71.2833</td>\n",
       "      <td>C85</td>\n",
       "      <td>C</td>\n",
       "    </tr>\n",
       "    <tr>\n",
       "      <th>2</th>\n",
       "      <td>3</td>\n",
       "      <td>1</td>\n",
       "      <td>3</td>\n",
       "      <td>Heikkinen, Miss. Laina</td>\n",
       "      <td>female</td>\n",
       "      <td>26.0</td>\n",
       "      <td>0</td>\n",
       "      <td>0</td>\n",
       "      <td>STON/O2. 3101282</td>\n",
       "      <td>7.9250</td>\n",
       "      <td>NaN</td>\n",
       "      <td>S</td>\n",
       "    </tr>\n",
       "    <tr>\n",
       "      <th>3</th>\n",
       "      <td>4</td>\n",
       "      <td>1</td>\n",
       "      <td>1</td>\n",
       "      <td>Futrelle, Mrs. Jacques Heath (Lily May Peel)</td>\n",
       "      <td>female</td>\n",
       "      <td>35.0</td>\n",
       "      <td>1</td>\n",
       "      <td>0</td>\n",
       "      <td>113803</td>\n",
       "      <td>53.1000</td>\n",
       "      <td>C123</td>\n",
       "      <td>S</td>\n",
       "    </tr>\n",
       "    <tr>\n",
       "      <th>4</th>\n",
       "      <td>5</td>\n",
       "      <td>0</td>\n",
       "      <td>3</td>\n",
       "      <td>Allen, Mr. William Henry</td>\n",
       "      <td>male</td>\n",
       "      <td>35.0</td>\n",
       "      <td>0</td>\n",
       "      <td>0</td>\n",
       "      <td>373450</td>\n",
       "      <td>8.0500</td>\n",
       "      <td>NaN</td>\n",
       "      <td>S</td>\n",
       "    </tr>\n",
       "    <tr>\n",
       "      <th>5</th>\n",
       "      <td>6</td>\n",
       "      <td>0</td>\n",
       "      <td>3</td>\n",
       "      <td>Moran, Mr. James</td>\n",
       "      <td>male</td>\n",
       "      <td>NaN</td>\n",
       "      <td>0</td>\n",
       "      <td>0</td>\n",
       "      <td>330877</td>\n",
       "      <td>8.4583</td>\n",
       "      <td>NaN</td>\n",
       "      <td>Q</td>\n",
       "    </tr>\n",
       "    <tr>\n",
       "      <th>6</th>\n",
       "      <td>7</td>\n",
       "      <td>0</td>\n",
       "      <td>1</td>\n",
       "      <td>McCarthy, Mr. Timothy J</td>\n",
       "      <td>male</td>\n",
       "      <td>54.0</td>\n",
       "      <td>0</td>\n",
       "      <td>0</td>\n",
       "      <td>17463</td>\n",
       "      <td>51.8625</td>\n",
       "      <td>E46</td>\n",
       "      <td>S</td>\n",
       "    </tr>\n",
       "    <tr>\n",
       "      <th>7</th>\n",
       "      <td>8</td>\n",
       "      <td>0</td>\n",
       "      <td>3</td>\n",
       "      <td>Palsson, Master. Gosta Leonard</td>\n",
       "      <td>male</td>\n",
       "      <td>2.0</td>\n",
       "      <td>3</td>\n",
       "      <td>1</td>\n",
       "      <td>349909</td>\n",
       "      <td>21.0750</td>\n",
       "      <td>NaN</td>\n",
       "      <td>S</td>\n",
       "    </tr>\n",
       "    <tr>\n",
       "      <th>8</th>\n",
       "      <td>9</td>\n",
       "      <td>1</td>\n",
       "      <td>3</td>\n",
       "      <td>Johnson, Mrs. Oscar W (Elisabeth Vilhelmina Berg)</td>\n",
       "      <td>female</td>\n",
       "      <td>27.0</td>\n",
       "      <td>0</td>\n",
       "      <td>2</td>\n",
       "      <td>347742</td>\n",
       "      <td>11.1333</td>\n",
       "      <td>NaN</td>\n",
       "      <td>S</td>\n",
       "    </tr>\n",
       "    <tr>\n",
       "      <th>9</th>\n",
       "      <td>10</td>\n",
       "      <td>1</td>\n",
       "      <td>2</td>\n",
       "      <td>Nasser, Mrs. Nicholas (Adele Achem)</td>\n",
       "      <td>female</td>\n",
       "      <td>14.0</td>\n",
       "      <td>1</td>\n",
       "      <td>0</td>\n",
       "      <td>237736</td>\n",
       "      <td>30.0708</td>\n",
       "      <td>NaN</td>\n",
       "      <td>C</td>\n",
       "    </tr>\n",
       "  </tbody>\n",
       "</table>\n",
       "</div>"
      ],
      "text/plain": [
       "   PassengerId  Survived  Pclass  \\\n",
       "0            1         0       3   \n",
       "1            2         1       1   \n",
       "2            3         1       3   \n",
       "3            4         1       1   \n",
       "4            5         0       3   \n",
       "5            6         0       3   \n",
       "6            7         0       1   \n",
       "7            8         0       3   \n",
       "8            9         1       3   \n",
       "9           10         1       2   \n",
       "\n",
       "                                                Name     Sex   Age  SibSp  \\\n",
       "0                            Braund, Mr. Owen Harris    male  22.0      1   \n",
       "1  Cumings, Mrs. John Bradley (Florence Briggs Th...  female  38.0      1   \n",
       "2                             Heikkinen, Miss. Laina  female  26.0      0   \n",
       "3       Futrelle, Mrs. Jacques Heath (Lily May Peel)  female  35.0      1   \n",
       "4                           Allen, Mr. William Henry    male  35.0      0   \n",
       "5                                   Moran, Mr. James    male   NaN      0   \n",
       "6                            McCarthy, Mr. Timothy J    male  54.0      0   \n",
       "7                     Palsson, Master. Gosta Leonard    male   2.0      3   \n",
       "8  Johnson, Mrs. Oscar W (Elisabeth Vilhelmina Berg)  female  27.0      0   \n",
       "9                Nasser, Mrs. Nicholas (Adele Achem)  female  14.0      1   \n",
       "\n",
       "   Parch            Ticket     Fare Cabin Embarked  \n",
       "0      0         A/5 21171   7.2500   NaN        S  \n",
       "1      0          PC 17599  71.2833   C85        C  \n",
       "2      0  STON/O2. 3101282   7.9250   NaN        S  \n",
       "3      0            113803  53.1000  C123        S  \n",
       "4      0            373450   8.0500   NaN        S  \n",
       "5      0            330877   8.4583   NaN        Q  \n",
       "6      0             17463  51.8625   E46        S  \n",
       "7      1            349909  21.0750   NaN        S  \n",
       "8      2            347742  11.1333   NaN        S  \n",
       "9      0            237736  30.0708   NaN        C  "
      ]
     },
     "execution_count": 91,
     "metadata": {},
     "output_type": "execute_result"
    }
   ],
   "source": [
    "train.head(10)"
   ]
  },
  {
   "cell_type": "code",
   "execution_count": 92,
   "metadata": {},
   "outputs": [
    {
     "data": {
      "text/html": [
       "<div>\n",
       "<style scoped>\n",
       "    .dataframe tbody tr th:only-of-type {\n",
       "        vertical-align: middle;\n",
       "    }\n",
       "\n",
       "    .dataframe tbody tr th {\n",
       "        vertical-align: top;\n",
       "    }\n",
       "\n",
       "    .dataframe thead th {\n",
       "        text-align: right;\n",
       "    }\n",
       "</style>\n",
       "<table border=\"1\" class=\"dataframe\">\n",
       "  <thead>\n",
       "    <tr style=\"text-align: right;\">\n",
       "      <th></th>\n",
       "      <th>PassengerId</th>\n",
       "      <th>Pclass</th>\n",
       "      <th>Name</th>\n",
       "      <th>Sex</th>\n",
       "      <th>Age</th>\n",
       "      <th>SibSp</th>\n",
       "      <th>Parch</th>\n",
       "      <th>Ticket</th>\n",
       "      <th>Fare</th>\n",
       "      <th>Cabin</th>\n",
       "      <th>Embarked</th>\n",
       "    </tr>\n",
       "  </thead>\n",
       "  <tbody>\n",
       "    <tr>\n",
       "      <th>0</th>\n",
       "      <td>892</td>\n",
       "      <td>3</td>\n",
       "      <td>Kelly, Mr. James</td>\n",
       "      <td>male</td>\n",
       "      <td>34.5</td>\n",
       "      <td>0</td>\n",
       "      <td>0</td>\n",
       "      <td>330911</td>\n",
       "      <td>7.8292</td>\n",
       "      <td>NaN</td>\n",
       "      <td>Q</td>\n",
       "    </tr>\n",
       "    <tr>\n",
       "      <th>1</th>\n",
       "      <td>893</td>\n",
       "      <td>3</td>\n",
       "      <td>Wilkes, Mrs. James (Ellen Needs)</td>\n",
       "      <td>female</td>\n",
       "      <td>47.0</td>\n",
       "      <td>1</td>\n",
       "      <td>0</td>\n",
       "      <td>363272</td>\n",
       "      <td>7.0000</td>\n",
       "      <td>NaN</td>\n",
       "      <td>S</td>\n",
       "    </tr>\n",
       "    <tr>\n",
       "      <th>2</th>\n",
       "      <td>894</td>\n",
       "      <td>2</td>\n",
       "      <td>Myles, Mr. Thomas Francis</td>\n",
       "      <td>male</td>\n",
       "      <td>62.0</td>\n",
       "      <td>0</td>\n",
       "      <td>0</td>\n",
       "      <td>240276</td>\n",
       "      <td>9.6875</td>\n",
       "      <td>NaN</td>\n",
       "      <td>Q</td>\n",
       "    </tr>\n",
       "    <tr>\n",
       "      <th>3</th>\n",
       "      <td>895</td>\n",
       "      <td>3</td>\n",
       "      <td>Wirz, Mr. Albert</td>\n",
       "      <td>male</td>\n",
       "      <td>27.0</td>\n",
       "      <td>0</td>\n",
       "      <td>0</td>\n",
       "      <td>315154</td>\n",
       "      <td>8.6625</td>\n",
       "      <td>NaN</td>\n",
       "      <td>S</td>\n",
       "    </tr>\n",
       "    <tr>\n",
       "      <th>4</th>\n",
       "      <td>896</td>\n",
       "      <td>3</td>\n",
       "      <td>Hirvonen, Mrs. Alexander (Helga E Lindqvist)</td>\n",
       "      <td>female</td>\n",
       "      <td>22.0</td>\n",
       "      <td>1</td>\n",
       "      <td>1</td>\n",
       "      <td>3101298</td>\n",
       "      <td>12.2875</td>\n",
       "      <td>NaN</td>\n",
       "      <td>S</td>\n",
       "    </tr>\n",
       "  </tbody>\n",
       "</table>\n",
       "</div>"
      ],
      "text/plain": [
       "   PassengerId  Pclass                                          Name     Sex  \\\n",
       "0          892       3                              Kelly, Mr. James    male   \n",
       "1          893       3              Wilkes, Mrs. James (Ellen Needs)  female   \n",
       "2          894       2                     Myles, Mr. Thomas Francis    male   \n",
       "3          895       3                              Wirz, Mr. Albert    male   \n",
       "4          896       3  Hirvonen, Mrs. Alexander (Helga E Lindqvist)  female   \n",
       "\n",
       "    Age  SibSp  Parch   Ticket     Fare Cabin Embarked  \n",
       "0  34.5      0      0   330911   7.8292   NaN        Q  \n",
       "1  47.0      1      0   363272   7.0000   NaN        S  \n",
       "2  62.0      0      0   240276   9.6875   NaN        Q  \n",
       "3  27.0      0      0   315154   8.6625   NaN        S  \n",
       "4  22.0      1      1  3101298  12.2875   NaN        S  "
      ]
     },
     "execution_count": 92,
     "metadata": {},
     "output_type": "execute_result"
    }
   ],
   "source": [
    "test.head()"
   ]
  },
  {
   "cell_type": "code",
   "execution_count": 93,
   "metadata": {},
   "outputs": [
    {
     "data": {
      "text/html": [
       "<div>\n",
       "<style scoped>\n",
       "    .dataframe tbody tr th:only-of-type {\n",
       "        vertical-align: middle;\n",
       "    }\n",
       "\n",
       "    .dataframe tbody tr th {\n",
       "        vertical-align: top;\n",
       "    }\n",
       "\n",
       "    .dataframe thead th {\n",
       "        text-align: right;\n",
       "    }\n",
       "</style>\n",
       "<table border=\"1\" class=\"dataframe\">\n",
       "  <thead>\n",
       "    <tr style=\"text-align: right;\">\n",
       "      <th></th>\n",
       "      <th>PassengerId</th>\n",
       "      <th>Survived</th>\n",
       "      <th>Pclass</th>\n",
       "      <th>Age</th>\n",
       "      <th>SibSp</th>\n",
       "      <th>Parch</th>\n",
       "      <th>Fare</th>\n",
       "    </tr>\n",
       "  </thead>\n",
       "  <tbody>\n",
       "    <tr>\n",
       "      <th>PassengerId</th>\n",
       "      <td>1.000000</td>\n",
       "      <td>-0.005007</td>\n",
       "      <td>-0.035144</td>\n",
       "      <td>0.036847</td>\n",
       "      <td>-0.057527</td>\n",
       "      <td>-0.001652</td>\n",
       "      <td>0.012658</td>\n",
       "    </tr>\n",
       "    <tr>\n",
       "      <th>Survived</th>\n",
       "      <td>-0.005007</td>\n",
       "      <td>1.000000</td>\n",
       "      <td>-0.338481</td>\n",
       "      <td>-0.077221</td>\n",
       "      <td>-0.035322</td>\n",
       "      <td>0.081629</td>\n",
       "      <td>0.257307</td>\n",
       "    </tr>\n",
       "    <tr>\n",
       "      <th>Pclass</th>\n",
       "      <td>-0.035144</td>\n",
       "      <td>-0.338481</td>\n",
       "      <td>1.000000</td>\n",
       "      <td>-0.369226</td>\n",
       "      <td>0.083081</td>\n",
       "      <td>0.018443</td>\n",
       "      <td>-0.549500</td>\n",
       "    </tr>\n",
       "    <tr>\n",
       "      <th>Age</th>\n",
       "      <td>0.036847</td>\n",
       "      <td>-0.077221</td>\n",
       "      <td>-0.369226</td>\n",
       "      <td>1.000000</td>\n",
       "      <td>-0.308247</td>\n",
       "      <td>-0.189119</td>\n",
       "      <td>0.096067</td>\n",
       "    </tr>\n",
       "    <tr>\n",
       "      <th>SibSp</th>\n",
       "      <td>-0.057527</td>\n",
       "      <td>-0.035322</td>\n",
       "      <td>0.083081</td>\n",
       "      <td>-0.308247</td>\n",
       "      <td>1.000000</td>\n",
       "      <td>0.414838</td>\n",
       "      <td>0.159651</td>\n",
       "    </tr>\n",
       "    <tr>\n",
       "      <th>Parch</th>\n",
       "      <td>-0.001652</td>\n",
       "      <td>0.081629</td>\n",
       "      <td>0.018443</td>\n",
       "      <td>-0.189119</td>\n",
       "      <td>0.414838</td>\n",
       "      <td>1.000000</td>\n",
       "      <td>0.216225</td>\n",
       "    </tr>\n",
       "    <tr>\n",
       "      <th>Fare</th>\n",
       "      <td>0.012658</td>\n",
       "      <td>0.257307</td>\n",
       "      <td>-0.549500</td>\n",
       "      <td>0.096067</td>\n",
       "      <td>0.159651</td>\n",
       "      <td>0.216225</td>\n",
       "      <td>1.000000</td>\n",
       "    </tr>\n",
       "  </tbody>\n",
       "</table>\n",
       "</div>"
      ],
      "text/plain": [
       "             PassengerId  Survived    Pclass       Age     SibSp     Parch  \\\n",
       "PassengerId     1.000000 -0.005007 -0.035144  0.036847 -0.057527 -0.001652   \n",
       "Survived       -0.005007  1.000000 -0.338481 -0.077221 -0.035322  0.081629   \n",
       "Pclass         -0.035144 -0.338481  1.000000 -0.369226  0.083081  0.018443   \n",
       "Age             0.036847 -0.077221 -0.369226  1.000000 -0.308247 -0.189119   \n",
       "SibSp          -0.057527 -0.035322  0.083081 -0.308247  1.000000  0.414838   \n",
       "Parch          -0.001652  0.081629  0.018443 -0.189119  0.414838  1.000000   \n",
       "Fare            0.012658  0.257307 -0.549500  0.096067  0.159651  0.216225   \n",
       "\n",
       "                 Fare  \n",
       "PassengerId  0.012658  \n",
       "Survived     0.257307  \n",
       "Pclass      -0.549500  \n",
       "Age          0.096067  \n",
       "SibSp        0.159651  \n",
       "Parch        0.216225  \n",
       "Fare         1.000000  "
      ]
     },
     "execution_count": 93,
     "metadata": {},
     "output_type": "execute_result"
    }
   ],
   "source": [
    "train.corr()"
   ]
  },
  {
   "cell_type": "code",
   "execution_count": 94,
   "metadata": {},
   "outputs": [
    {
     "data": {
      "text/plain": [
       "<matplotlib.axes._subplots.AxesSubplot at 0x7f7ad34fff28>"
      ]
     },
     "execution_count": 94,
     "metadata": {},
     "output_type": "execute_result"
    },
    {
     "data": {
      "image/png": "[encoded data removed]",
      "text/plain": [
       "<matplotlib.figure.Figure at 0x7f7ad2e5f828>"
      ]
     },
     "metadata": {},
     "output_type": "display_data"
    }
   ],
   "source": [
    "msno.matrix(train)"
   ]
  },
  {
   "cell_type": "code",
   "execution_count": 95,
   "metadata": {},
   "outputs": [],
   "source": [
    "## 欠損値の数と割合を返す\n",
    "def missing_columns(df):\n",
    "    total = df.isnull().sum().sort_values(ascending = False)\n",
    "    percent = (df.isnull().sum()/df.isnull().count()*100).sort_values(ascending = False)\n",
    "    missing_data  = pd.concat([total, percent], axis=1, keys=['Total', 'Percent'])\n",
    "    return missing_data"
   ]
  },
  {
   "cell_type": "code",
   "execution_count": 96,
   "metadata": {},
   "outputs": [
    {
     "data": {
      "text/html": [
       "<div>\n",
       "<style scoped>\n",
       "    .dataframe tbody tr th:only-of-type {\n",
       "        vertical-align: middle;\n",
       "    }\n",
       "\n",
       "    .dataframe tbody tr th {\n",
       "        vertical-align: top;\n",
       "    }\n",
       "\n",
       "    .dataframe thead th {\n",
       "        text-align: right;\n",
       "    }\n",
       "</style>\n",
       "<table border=\"1\" class=\"dataframe\">\n",
       "  <thead>\n",
       "    <tr style=\"text-align: right;\">\n",
       "      <th></th>\n",
       "      <th>Total</th>\n",
       "      <th>Percent</th>\n",
       "    </tr>\n",
       "  </thead>\n",
       "  <tbody>\n",
       "    <tr>\n",
       "      <th>Cabin</th>\n",
       "      <td>687</td>\n",
       "      <td>77.104377</td>\n",
       "    </tr>\n",
       "    <tr>\n",
       "      <th>Age</th>\n",
       "      <td>177</td>\n",
       "      <td>19.865320</td>\n",
       "    </tr>\n",
       "    <tr>\n",
       "      <th>Embarked</th>\n",
       "      <td>2</td>\n",
       "      <td>0.224467</td>\n",
       "    </tr>\n",
       "    <tr>\n",
       "      <th>Fare</th>\n",
       "      <td>0</td>\n",
       "      <td>0.000000</td>\n",
       "    </tr>\n",
       "    <tr>\n",
       "      <th>Ticket</th>\n",
       "      <td>0</td>\n",
       "      <td>0.000000</td>\n",
       "    </tr>\n",
       "    <tr>\n",
       "      <th>Parch</th>\n",
       "      <td>0</td>\n",
       "      <td>0.000000</td>\n",
       "    </tr>\n",
       "    <tr>\n",
       "      <th>SibSp</th>\n",
       "      <td>0</td>\n",
       "      <td>0.000000</td>\n",
       "    </tr>\n",
       "    <tr>\n",
       "      <th>Sex</th>\n",
       "      <td>0</td>\n",
       "      <td>0.000000</td>\n",
       "    </tr>\n",
       "    <tr>\n",
       "      <th>Name</th>\n",
       "      <td>0</td>\n",
       "      <td>0.000000</td>\n",
       "    </tr>\n",
       "    <tr>\n",
       "      <th>Pclass</th>\n",
       "      <td>0</td>\n",
       "      <td>0.000000</td>\n",
       "    </tr>\n",
       "    <tr>\n",
       "      <th>Survived</th>\n",
       "      <td>0</td>\n",
       "      <td>0.000000</td>\n",
       "    </tr>\n",
       "    <tr>\n",
       "      <th>PassengerId</th>\n",
       "      <td>0</td>\n",
       "      <td>0.000000</td>\n",
       "    </tr>\n",
       "  </tbody>\n",
       "</table>\n",
       "</div>"
      ],
      "text/plain": [
       "             Total    Percent\n",
       "Cabin          687  77.104377\n",
       "Age            177  19.865320\n",
       "Embarked         2   0.224467\n",
       "Fare             0   0.000000\n",
       "Ticket           0   0.000000\n",
       "Parch            0   0.000000\n",
       "SibSp            0   0.000000\n",
       "Sex              0   0.000000\n",
       "Name             0   0.000000\n",
       "Pclass           0   0.000000\n",
       "Survived         0   0.000000\n",
       "PassengerId      0   0.000000"
      ]
     },
     "execution_count": 96,
     "metadata": {},
     "output_type": "execute_result"
    }
   ],
   "source": [
    "missing_columns(train)"
   ]
  },
  {
   "cell_type": "code",
   "execution_count": 97,
   "metadata": {},
   "outputs": [
    {
     "data": {
      "text/html": [
       "<div>\n",
       "<style scoped>\n",
       "    .dataframe tbody tr th:only-of-type {\n",
       "        vertical-align: middle;\n",
       "    }\n",
       "\n",
       "    .dataframe tbody tr th {\n",
       "        vertical-align: top;\n",
       "    }\n",
       "\n",
       "    .dataframe thead th {\n",
       "        text-align: right;\n",
       "    }\n",
       "</style>\n",
       "<table border=\"1\" class=\"dataframe\">\n",
       "  <thead>\n",
       "    <tr style=\"text-align: right;\">\n",
       "      <th></th>\n",
       "      <th>Total</th>\n",
       "      <th>Percent</th>\n",
       "    </tr>\n",
       "  </thead>\n",
       "  <tbody>\n",
       "    <tr>\n",
       "      <th>Cabin</th>\n",
       "      <td>327</td>\n",
       "      <td>78.229665</td>\n",
       "    </tr>\n",
       "    <tr>\n",
       "      <th>Age</th>\n",
       "      <td>86</td>\n",
       "      <td>20.574163</td>\n",
       "    </tr>\n",
       "    <tr>\n",
       "      <th>Fare</th>\n",
       "      <td>1</td>\n",
       "      <td>0.239234</td>\n",
       "    </tr>\n",
       "    <tr>\n",
       "      <th>Embarked</th>\n",
       "      <td>0</td>\n",
       "      <td>0.000000</td>\n",
       "    </tr>\n",
       "    <tr>\n",
       "      <th>Ticket</th>\n",
       "      <td>0</td>\n",
       "      <td>0.000000</td>\n",
       "    </tr>\n",
       "    <tr>\n",
       "      <th>Parch</th>\n",
       "      <td>0</td>\n",
       "      <td>0.000000</td>\n",
       "    </tr>\n",
       "    <tr>\n",
       "      <th>SibSp</th>\n",
       "      <td>0</td>\n",
       "      <td>0.000000</td>\n",
       "    </tr>\n",
       "    <tr>\n",
       "      <th>Sex</th>\n",
       "      <td>0</td>\n",
       "      <td>0.000000</td>\n",
       "    </tr>\n",
       "    <tr>\n",
       "      <th>Name</th>\n",
       "      <td>0</td>\n",
       "      <td>0.000000</td>\n",
       "    </tr>\n",
       "    <tr>\n",
       "      <th>Pclass</th>\n",
       "      <td>0</td>\n",
       "      <td>0.000000</td>\n",
       "    </tr>\n",
       "    <tr>\n",
       "      <th>PassengerId</th>\n",
       "      <td>0</td>\n",
       "      <td>0.000000</td>\n",
       "    </tr>\n",
       "  </tbody>\n",
       "</table>\n",
       "</div>"
      ],
      "text/plain": [
       "             Total    Percent\n",
       "Cabin          327  78.229665\n",
       "Age             86  20.574163\n",
       "Fare             1   0.239234\n",
       "Embarked         0   0.000000\n",
       "Ticket           0   0.000000\n",
       "Parch            0   0.000000\n",
       "SibSp            0   0.000000\n",
       "Sex              0   0.000000\n",
       "Name             0   0.000000\n",
       "Pclass           0   0.000000\n",
       "PassengerId      0   0.000000"
      ]
     },
     "execution_count": 97,
     "metadata": {},
     "output_type": "execute_result"
    }
   ],
   "source": [
    "missing_columns(test)"
   ]
  },
  {
   "cell_type": "code",
   "execution_count": 98,
   "metadata": {},
   "outputs": [],
   "source": [
    "#Cabinは欠損値が多すぎる、PassengerId, Nameは関係ない、Ticketはよくわからないので特徴削除\n",
    "#Cabin, Nameも使う\n",
    "train = train.drop(columns=['PassengerId', 'Ticket'])\n",
    "test = test.drop(columns=['PassengerId', 'Ticket'])"
   ]
  },
  {
   "cell_type": "code",
   "execution_count": 99,
   "metadata": {},
   "outputs": [],
   "source": [
    "#Nameを頭の文字で処理\n",
    "title = [train]\n",
    "for train in title: \n",
    "        train['Title'] = train.Name.str.extract(' ([A-Za-z]+).', expand=False) \n",
    "for train in title: \n",
    "        train['Title'] = train['Title'].replace(['Lady', 'Countess','Capt', 'Col','Don', 'Dr', 'Major', 'Rev', 'Sir', 'Jonkheer', 'Dona'], 'Rare')\n",
    "        train['Title'] = train['Title'].replace('Mlle', 'Miss')\n",
    "        train['Title'] = train['Title'].replace('Ms', 'Miss')\n",
    "        train['Title'] = train['Title'].replace('Mme', 'Mrs')\n",
    "        del train['Name']\n",
    "SalutationMapping = {\"Mr\": 1, \"Miss\": 2, \"Mrs\": 3, \"Master\": 4, \"Rare\": 5} \n",
    "for train in title: \n",
    "        train['Title'] = train['Title'].map(SalutationMapping) \n",
    "        train['Title'] = train['Title'].fillna(0)\n",
    "\n",
    "title = [test]\n",
    "for test in title: \n",
    "        test['Title'] = test.Name.str.extract(' ([A-Za-z]+).', expand=False) \n",
    "for test in title: \n",
    "        test['Title'] = test['Title'].replace(['Lady', 'Countess','Capt', 'Col','Don', 'Dr', 'Major', 'Rev', 'Sir', 'Jonkheer', 'Dona'], 'Rare')\n",
    "        test['Title'] = test['Title'].replace('Mlle', 'Miss')\n",
    "        test['Title'] = test['Title'].replace('Ms', 'Miss')\n",
    "        test['Title'] = test['Title'].replace('Mme', 'Mrs')\n",
    "        del test['Name']\n",
    "SalutationMapping = {\"Mr\": 1, \"Miss\": 2, \"Mrs\": 3, \"Master\": 4, \"Rare\": 5} \n",
    "for test in title: \n",
    "        test['Title'] = test['Title'].map(SalutationMapping) \n",
    "        test['Title'] = test['Title'].fillna(0)"
   ]
  },
  {
   "cell_type": "code",
   "execution_count": 100,
   "metadata": {},
   "outputs": [
    {
     "data": {
      "text/html": [
       "<div>\n",
       "<style scoped>\n",
       "    .dataframe tbody tr th:only-of-type {\n",
       "        vertical-align: middle;\n",
       "    }\n",
       "\n",
       "    .dataframe tbody tr th {\n",
       "        vertical-align: top;\n",
       "    }\n",
       "\n",
       "    .dataframe thead th {\n",
       "        text-align: right;\n",
       "    }\n",
       "</style>\n",
       "<table border=\"1\" class=\"dataframe\">\n",
       "  <thead>\n",
       "    <tr style=\"text-align: right;\">\n",
       "      <th></th>\n",
       "      <th>Survived</th>\n",
       "      <th>Pclass</th>\n",
       "      <th>Sex</th>\n",
       "      <th>Age</th>\n",
       "      <th>SibSp</th>\n",
       "      <th>Parch</th>\n",
       "      <th>Fare</th>\n",
       "      <th>Cabin</th>\n",
       "      <th>Embarked</th>\n",
       "      <th>Title</th>\n",
       "    </tr>\n",
       "  </thead>\n",
       "  <tbody>\n",
       "    <tr>\n",
       "      <th>0</th>\n",
       "      <td>0</td>\n",
       "      <td>3</td>\n",
       "      <td>male</td>\n",
       "      <td>22.0</td>\n",
       "      <td>1</td>\n",
       "      <td>0</td>\n",
       "      <td>7.2500</td>\n",
       "      <td>NaN</td>\n",
       "      <td>S</td>\n",
       "      <td>1.0</td>\n",
       "    </tr>\n",
       "    <tr>\n",
       "      <th>1</th>\n",
       "      <td>1</td>\n",
       "      <td>1</td>\n",
       "      <td>female</td>\n",
       "      <td>38.0</td>\n",
       "      <td>1</td>\n",
       "      <td>0</td>\n",
       "      <td>71.2833</td>\n",
       "      <td>C85</td>\n",
       "      <td>C</td>\n",
       "      <td>3.0</td>\n",
       "    </tr>\n",
       "    <tr>\n",
       "      <th>2</th>\n",
       "      <td>1</td>\n",
       "      <td>3</td>\n",
       "      <td>female</td>\n",
       "      <td>26.0</td>\n",
       "      <td>0</td>\n",
       "      <td>0</td>\n",
       "      <td>7.9250</td>\n",
       "      <td>NaN</td>\n",
       "      <td>S</td>\n",
       "      <td>2.0</td>\n",
       "    </tr>\n",
       "    <tr>\n",
       "      <th>3</th>\n",
       "      <td>1</td>\n",
       "      <td>1</td>\n",
       "      <td>female</td>\n",
       "      <td>35.0</td>\n",
       "      <td>1</td>\n",
       "      <td>0</td>\n",
       "      <td>53.1000</td>\n",
       "      <td>C123</td>\n",
       "      <td>S</td>\n",
       "      <td>3.0</td>\n",
       "    </tr>\n",
       "    <tr>\n",
       "      <th>4</th>\n",
       "      <td>0</td>\n",
       "      <td>3</td>\n",
       "      <td>male</td>\n",
       "      <td>35.0</td>\n",
       "      <td>0</td>\n",
       "      <td>0</td>\n",
       "      <td>8.0500</td>\n",
       "      <td>NaN</td>\n",
       "      <td>S</td>\n",
       "      <td>1.0</td>\n",
       "    </tr>\n",
       "  </tbody>\n",
       "</table>\n",
       "</div>"
      ],
      "text/plain": [
       "   Survived  Pclass     Sex   Age  SibSp  Parch     Fare Cabin Embarked  Title\n",
       "0         0       3    male  22.0      1      0   7.2500   NaN        S    1.0\n",
       "1         1       1  female  38.0      1      0  71.2833   C85        C    3.0\n",
       "2         1       3  female  26.0      0      0   7.9250   NaN        S    2.0\n",
       "3         1       1  female  35.0      1      0  53.1000  C123        S    3.0\n",
       "4         0       3    male  35.0      0      0   8.0500   NaN        S    1.0"
      ]
     },
     "execution_count": 100,
     "metadata": {},
     "output_type": "execute_result"
    }
   ],
   "source": [
    "train.head()"
   ]
  },
  {
   "cell_type": "code",
   "execution_count": 101,
   "metadata": {},
   "outputs": [
    {
     "data": {
      "text/plain": [
       "S    644\n",
       "C    168\n",
       "Q     77\n",
       "Name: Embarked, dtype: int64"
      ]
     },
     "execution_count": 101,
     "metadata": {},
     "output_type": "execute_result"
    }
   ],
   "source": [
    "pd.value_counts(train['Embarked'])"
   ]
  },
  {
   "cell_type": "code",
   "execution_count": 102,
   "metadata": {},
   "outputs": [],
   "source": [
    "#最頻値代入\n",
    "train[\"Embarked\"] = train[\"Embarked\"].fillna(\"S\")"
   ]
  },
  {
   "cell_type": "code",
   "execution_count": 103,
   "metadata": {},
   "outputs": [],
   "source": [
    "#カテゴリ変数の変換\n",
    "LE=LabelEncoder()\n",
    "\n",
    "labels = ['Embarked','Sex']\n",
    "for label in labels:\n",
    "    train[label]=LE.fit_transform(train[label])\n",
    "    test[label]=LE.fit_transform(test[label])"
   ]
  },
  {
   "cell_type": "code",
   "execution_count": 104,
   "metadata": {},
   "outputs": [],
   "source": [
    "#Cabinの最後の数字(str)を抜き出して奇数と偶数でラベル化、最初の文字から階層もラベル化\n",
    "train[\"RoomLorR\"] = train[\"Cabin\"].str[-1:]\n",
    "test[\"RoomLorR\"] = test[\"Cabin\"].str[-1:]\n",
    "train[\"RoomLayer\"] = train[\"Cabin\"].str[0]\n",
    "test[\"RoomLayer\"] = test[\"Cabin\"].str[0]\n",
    "train = train.drop(columns=[\"Cabin\"])\n",
    "test = test.drop(columns=[\"Cabin\"])"
   ]
  },
  {
   "cell_type": "code",
   "execution_count": 105,
   "metadata": {},
   "outputs": [
    {
     "data": {
      "text/html": [
       "<div>\n",
       "<style scoped>\n",
       "    .dataframe tbody tr th:only-of-type {\n",
       "        vertical-align: middle;\n",
       "    }\n",
       "\n",
       "    .dataframe tbody tr th {\n",
       "        vertical-align: top;\n",
       "    }\n",
       "\n",
       "    .dataframe thead th {\n",
       "        text-align: right;\n",
       "    }\n",
       "</style>\n",
       "<table border=\"1\" class=\"dataframe\">\n",
       "  <thead>\n",
       "    <tr style=\"text-align: right;\">\n",
       "      <th></th>\n",
       "      <th>Survived</th>\n",
       "      <th>Pclass</th>\n",
       "      <th>Sex</th>\n",
       "      <th>Age</th>\n",
       "      <th>SibSp</th>\n",
       "      <th>Parch</th>\n",
       "      <th>Fare</th>\n",
       "      <th>Embarked</th>\n",
       "      <th>Title</th>\n",
       "      <th>RoomLorR</th>\n",
       "      <th>RoomLayer</th>\n",
       "    </tr>\n",
       "  </thead>\n",
       "  <tbody>\n",
       "    <tr>\n",
       "      <th>0</th>\n",
       "      <td>0</td>\n",
       "      <td>3</td>\n",
       "      <td>1</td>\n",
       "      <td>22.0</td>\n",
       "      <td>1</td>\n",
       "      <td>0</td>\n",
       "      <td>7.2500</td>\n",
       "      <td>2</td>\n",
       "      <td>1.0</td>\n",
       "      <td>NaN</td>\n",
       "      <td>NaN</td>\n",
       "    </tr>\n",
       "    <tr>\n",
       "      <th>1</th>\n",
       "      <td>1</td>\n",
       "      <td>1</td>\n",
       "      <td>0</td>\n",
       "      <td>38.0</td>\n",
       "      <td>1</td>\n",
       "      <td>0</td>\n",
       "      <td>71.2833</td>\n",
       "      <td>0</td>\n",
       "      <td>3.0</td>\n",
       "      <td>5</td>\n",
       "      <td>C</td>\n",
       "    </tr>\n",
       "    <tr>\n",
       "      <th>2</th>\n",
       "      <td>1</td>\n",
       "      <td>3</td>\n",
       "      <td>0</td>\n",
       "      <td>26.0</td>\n",
       "      <td>0</td>\n",
       "      <td>0</td>\n",
       "      <td>7.9250</td>\n",
       "      <td>2</td>\n",
       "      <td>2.0</td>\n",
       "      <td>NaN</td>\n",
       "      <td>NaN</td>\n",
       "    </tr>\n",
       "    <tr>\n",
       "      <th>3</th>\n",
       "      <td>1</td>\n",
       "      <td>1</td>\n",
       "      <td>0</td>\n",
       "      <td>35.0</td>\n",
       "      <td>1</td>\n",
       "      <td>0</td>\n",
       "      <td>53.1000</td>\n",
       "      <td>2</td>\n",
       "      <td>3.0</td>\n",
       "      <td>3</td>\n",
       "      <td>C</td>\n",
       "    </tr>\n",
       "    <tr>\n",
       "      <th>4</th>\n",
       "      <td>0</td>\n",
       "      <td>3</td>\n",
       "      <td>1</td>\n",
       "      <td>35.0</td>\n",
       "      <td>0</td>\n",
       "      <td>0</td>\n",
       "      <td>8.0500</td>\n",
       "      <td>2</td>\n",
       "      <td>1.0</td>\n",
       "      <td>NaN</td>\n",
       "      <td>NaN</td>\n",
       "    </tr>\n",
       "    <tr>\n",
       "      <th>5</th>\n",
       "      <td>0</td>\n",
       "      <td>3</td>\n",
       "      <td>1</td>\n",
       "      <td>NaN</td>\n",
       "      <td>0</td>\n",
       "      <td>0</td>\n",
       "      <td>8.4583</td>\n",
       "      <td>1</td>\n",
       "      <td>1.0</td>\n",
       "      <td>NaN</td>\n",
       "      <td>NaN</td>\n",
       "    </tr>\n",
       "    <tr>\n",
       "      <th>6</th>\n",
       "      <td>0</td>\n",
       "      <td>1</td>\n",
       "      <td>1</td>\n",
       "      <td>54.0</td>\n",
       "      <td>0</td>\n",
       "      <td>0</td>\n",
       "      <td>51.8625</td>\n",
       "      <td>2</td>\n",
       "      <td>1.0</td>\n",
       "      <td>6</td>\n",
       "      <td>E</td>\n",
       "    </tr>\n",
       "    <tr>\n",
       "      <th>7</th>\n",
       "      <td>0</td>\n",
       "      <td>3</td>\n",
       "      <td>1</td>\n",
       "      <td>2.0</td>\n",
       "      <td>3</td>\n",
       "      <td>1</td>\n",
       "      <td>21.0750</td>\n",
       "      <td>2</td>\n",
       "      <td>4.0</td>\n",
       "      <td>NaN</td>\n",
       "      <td>NaN</td>\n",
       "    </tr>\n",
       "    <tr>\n",
       "      <th>8</th>\n",
       "      <td>1</td>\n",
       "      <td>3</td>\n",
       "      <td>0</td>\n",
       "      <td>27.0</td>\n",
       "      <td>0</td>\n",
       "      <td>2</td>\n",
       "      <td>11.1333</td>\n",
       "      <td>2</td>\n",
       "      <td>3.0</td>\n",
       "      <td>NaN</td>\n",
       "      <td>NaN</td>\n",
       "    </tr>\n",
       "    <tr>\n",
       "      <th>9</th>\n",
       "      <td>1</td>\n",
       "      <td>2</td>\n",
       "      <td>0</td>\n",
       "      <td>14.0</td>\n",
       "      <td>1</td>\n",
       "      <td>0</td>\n",
       "      <td>30.0708</td>\n",
       "      <td>0</td>\n",
       "      <td>3.0</td>\n",
       "      <td>NaN</td>\n",
       "      <td>NaN</td>\n",
       "    </tr>\n",
       "  </tbody>\n",
       "</table>\n",
       "</div>"
      ],
      "text/plain": [
       "   Survived  Pclass  Sex   Age  SibSp  Parch     Fare  Embarked  Title  \\\n",
       "0         0       3    1  22.0      1      0   7.2500         2    1.0   \n",
       "1         1       1    0  38.0      1      0  71.2833         0    3.0   \n",
       "2         1       3    0  26.0      0      0   7.9250         2    2.0   \n",
       "3         1       1    0  35.0      1      0  53.1000         2    3.0   \n",
       "4         0       3    1  35.0      0      0   8.0500         2    1.0   \n",
       "5         0       3    1   NaN      0      0   8.4583         1    1.0   \n",
       "6         0       1    1  54.0      0      0  51.8625         2    1.0   \n",
       "7         0       3    1   2.0      3      1  21.0750         2    4.0   \n",
       "8         1       3    0  27.0      0      2  11.1333         2    3.0   \n",
       "9         1       2    0  14.0      1      0  30.0708         0    3.0   \n",
       "\n",
       "  RoomLorR RoomLayer  \n",
       "0      NaN       NaN  \n",
       "1        5         C  \n",
       "2      NaN       NaN  \n",
       "3        3         C  \n",
       "4      NaN       NaN  \n",
       "5      NaN       NaN  \n",
       "6        6         E  \n",
       "7      NaN       NaN  \n",
       "8      NaN       NaN  \n",
       "9      NaN       NaN  "
      ]
     },
     "execution_count": 105,
     "metadata": {},
     "output_type": "execute_result"
    }
   ],
   "source": [
    "train.head(10)"
   ]
  },
  {
   "cell_type": "code",
   "execution_count": 106,
   "metadata": {},
   "outputs": [],
   "source": [
    "def roomLRLabels(x):\n",
    "    if (x == \"1\") or (x == \"3\") or (x == \"5\") or (x == \"7\") or (x == \"9\"):\n",
    "        return 0\n",
    "    elif (x == \"0\") or (x == \"2\") or (x == \"4\") or (x == \"6\") or (x == \"8\"):\n",
    "        return 1\n",
    "\n",
    "train[\"RoomLorR\"] = train[\"RoomLorR\"].apply(roomLRLabels)\n",
    "test[\"RoomLorR\"] = test[\"RoomLorR\"].apply(roomLRLabels)"
   ]
  },
  {
   "cell_type": "code",
   "execution_count": 107,
   "metadata": {},
   "outputs": [],
   "source": [
    "def roomLayerLabels(x):\n",
    "    if x == \"A\":\n",
    "        return 0\n",
    "    elif x == \"B\":\n",
    "        return 1\n",
    "    elif x == \"C\":\n",
    "        return 2\n",
    "    elif x == \"D\":\n",
    "        return 3\n",
    "    elif x == \"E\":\n",
    "        return 4\n",
    "    elif x == \"F\":\n",
    "        return 5\n",
    "    elif x == \"G\":\n",
    "        return 6\n",
    "\n",
    "train[\"RoomLayer\"] = train[\"RoomLayer\"].apply(roomLayerLabels)\n",
    "test[\"RoomLayer\"] = test[\"RoomLayer\"].apply(roomLayerLabels)"
   ]
  },
  {
   "cell_type": "code",
   "execution_count": 108,
   "metadata": {},
   "outputs": [],
   "source": [
    "#NaNにはNaN用の値を代入\n",
    "train[\"RoomLorR\"] = train[\"RoomLorR\"].fillna(2)\n",
    "test[\"RoomLorR\"] = test[\"RoomLorR\"].fillna(2)\n",
    "train[\"RoomLayer\"] = train[\"RoomLayer\"].fillna(7)\n",
    "test[\"RoomLayer\"] = test[\"RoomLayer\"].fillna(7)"
   ]
  },
  {
   "cell_type": "code",
   "execution_count": 109,
   "metadata": {},
   "outputs": [
    {
     "data": {
      "text/html": [
       "<div>\n",
       "<style scoped>\n",
       "    .dataframe tbody tr th:only-of-type {\n",
       "        vertical-align: middle;\n",
       "    }\n",
       "\n",
       "    .dataframe tbody tr th {\n",
       "        vertical-align: top;\n",
       "    }\n",
       "\n",
       "    .dataframe thead th {\n",
       "        text-align: right;\n",
       "    }\n",
       "</style>\n",
       "<table border=\"1\" class=\"dataframe\">\n",
       "  <thead>\n",
       "    <tr style=\"text-align: right;\">\n",
       "      <th></th>\n",
       "      <th>Survived</th>\n",
       "      <th>Pclass</th>\n",
       "      <th>Sex</th>\n",
       "      <th>Age</th>\n",
       "      <th>SibSp</th>\n",
       "      <th>Parch</th>\n",
       "      <th>Fare</th>\n",
       "      <th>Embarked</th>\n",
       "      <th>Title</th>\n",
       "      <th>RoomLorR</th>\n",
       "      <th>RoomLayer</th>\n",
       "    </tr>\n",
       "  </thead>\n",
       "  <tbody>\n",
       "    <tr>\n",
       "      <th>0</th>\n",
       "      <td>0</td>\n",
       "      <td>3</td>\n",
       "      <td>1</td>\n",
       "      <td>22.0</td>\n",
       "      <td>1</td>\n",
       "      <td>0</td>\n",
       "      <td>7.2500</td>\n",
       "      <td>2</td>\n",
       "      <td>1.0</td>\n",
       "      <td>2.0</td>\n",
       "      <td>7.0</td>\n",
       "    </tr>\n",
       "    <tr>\n",
       "      <th>1</th>\n",
       "      <td>1</td>\n",
       "      <td>1</td>\n",
       "      <td>0</td>\n",
       "      <td>38.0</td>\n",
       "      <td>1</td>\n",
       "      <td>0</td>\n",
       "      <td>71.2833</td>\n",
       "      <td>0</td>\n",
       "      <td>3.0</td>\n",
       "      <td>0.0</td>\n",
       "      <td>2.0</td>\n",
       "    </tr>\n",
       "    <tr>\n",
       "      <th>2</th>\n",
       "      <td>1</td>\n",
       "      <td>3</td>\n",
       "      <td>0</td>\n",
       "      <td>26.0</td>\n",
       "      <td>0</td>\n",
       "      <td>0</td>\n",
       "      <td>7.9250</td>\n",
       "      <td>2</td>\n",
       "      <td>2.0</td>\n",
       "      <td>2.0</td>\n",
       "      <td>7.0</td>\n",
       "    </tr>\n",
       "    <tr>\n",
       "      <th>3</th>\n",
       "      <td>1</td>\n",
       "      <td>1</td>\n",
       "      <td>0</td>\n",
       "      <td>35.0</td>\n",
       "      <td>1</td>\n",
       "      <td>0</td>\n",
       "      <td>53.1000</td>\n",
       "      <td>2</td>\n",
       "      <td>3.0</td>\n",
       "      <td>0.0</td>\n",
       "      <td>2.0</td>\n",
       "    </tr>\n",
       "    <tr>\n",
       "      <th>4</th>\n",
       "      <td>0</td>\n",
       "      <td>3</td>\n",
       "      <td>1</td>\n",
       "      <td>35.0</td>\n",
       "      <td>0</td>\n",
       "      <td>0</td>\n",
       "      <td>8.0500</td>\n",
       "      <td>2</td>\n",
       "      <td>1.0</td>\n",
       "      <td>2.0</td>\n",
       "      <td>7.0</td>\n",
       "    </tr>\n",
       "    <tr>\n",
       "      <th>5</th>\n",
       "      <td>0</td>\n",
       "      <td>3</td>\n",
       "      <td>1</td>\n",
       "      <td>NaN</td>\n",
       "      <td>0</td>\n",
       "      <td>0</td>\n",
       "      <td>8.4583</td>\n",
       "      <td>1</td>\n",
       "      <td>1.0</td>\n",
       "      <td>2.0</td>\n",
       "      <td>7.0</td>\n",
       "    </tr>\n",
       "    <tr>\n",
       "      <th>6</th>\n",
       "      <td>0</td>\n",
       "      <td>1</td>\n",
       "      <td>1</td>\n",
       "      <td>54.0</td>\n",
       "      <td>0</td>\n",
       "      <td>0</td>\n",
       "      <td>51.8625</td>\n",
       "      <td>2</td>\n",
       "      <td>1.0</td>\n",
       "      <td>1.0</td>\n",
       "      <td>4.0</td>\n",
       "    </tr>\n",
       "    <tr>\n",
       "      <th>7</th>\n",
       "      <td>0</td>\n",
       "      <td>3</td>\n",
       "      <td>1</td>\n",
       "      <td>2.0</td>\n",
       "      <td>3</td>\n",
       "      <td>1</td>\n",
       "      <td>21.0750</td>\n",
       "      <td>2</td>\n",
       "      <td>4.0</td>\n",
       "      <td>2.0</td>\n",
       "      <td>7.0</td>\n",
       "    </tr>\n",
       "    <tr>\n",
       "      <th>8</th>\n",
       "      <td>1</td>\n",
       "      <td>3</td>\n",
       "      <td>0</td>\n",
       "      <td>27.0</td>\n",
       "      <td>0</td>\n",
       "      <td>2</td>\n",
       "      <td>11.1333</td>\n",
       "      <td>2</td>\n",
       "      <td>3.0</td>\n",
       "      <td>2.0</td>\n",
       "      <td>7.0</td>\n",
       "    </tr>\n",
       "    <tr>\n",
       "      <th>9</th>\n",
       "      <td>1</td>\n",
       "      <td>2</td>\n",
       "      <td>0</td>\n",
       "      <td>14.0</td>\n",
       "      <td>1</td>\n",
       "      <td>0</td>\n",
       "      <td>30.0708</td>\n",
       "      <td>0</td>\n",
       "      <td>3.0</td>\n",
       "      <td>2.0</td>\n",
       "      <td>7.0</td>\n",
       "    </tr>\n",
       "  </tbody>\n",
       "</table>\n",
       "</div>"
      ],
      "text/plain": [
       "   Survived  Pclass  Sex   Age  SibSp  Parch     Fare  Embarked  Title  \\\n",
       "0         0       3    1  22.0      1      0   7.2500         2    1.0   \n",
       "1         1       1    0  38.0      1      0  71.2833         0    3.0   \n",
       "2         1       3    0  26.0      0      0   7.9250         2    2.0   \n",
       "3         1       1    0  35.0      1      0  53.1000         2    3.0   \n",
       "4         0       3    1  35.0      0      0   8.0500         2    1.0   \n",
       "5         0       3    1   NaN      0      0   8.4583         1    1.0   \n",
       "6         0       1    1  54.0      0      0  51.8625         2    1.0   \n",
       "7         0       3    1   2.0      3      1  21.0750         2    4.0   \n",
       "8         1       3    0  27.0      0      2  11.1333         2    3.0   \n",
       "9         1       2    0  14.0      1      0  30.0708         0    3.0   \n",
       "\n",
       "   RoomLorR  RoomLayer  \n",
       "0       2.0        7.0  \n",
       "1       0.0        2.0  \n",
       "2       2.0        7.0  \n",
       "3       0.0        2.0  \n",
       "4       2.0        7.0  \n",
       "5       2.0        7.0  \n",
       "6       1.0        4.0  \n",
       "7       2.0        7.0  \n",
       "8       2.0        7.0  \n",
       "9       2.0        7.0  "
      ]
     },
     "execution_count": 109,
     "metadata": {},
     "output_type": "execute_result"
    }
   ],
   "source": [
    "train.head(10)"
   ]
  },
  {
   "cell_type": "code",
   "execution_count": 110,
   "metadata": {},
   "outputs": [
    {
     "data": {
      "text/html": [
       "<div>\n",
       "<style scoped>\n",
       "    .dataframe tbody tr th:only-of-type {\n",
       "        vertical-align: middle;\n",
       "    }\n",
       "\n",
       "    .dataframe tbody tr th {\n",
       "        vertical-align: top;\n",
       "    }\n",
       "\n",
       "    .dataframe thead th {\n",
       "        text-align: right;\n",
       "    }\n",
       "</style>\n",
       "<table border=\"1\" class=\"dataframe\">\n",
       "  <thead>\n",
       "    <tr style=\"text-align: right;\">\n",
       "      <th></th>\n",
       "      <th>Total</th>\n",
       "      <th>Percent</th>\n",
       "    </tr>\n",
       "  </thead>\n",
       "  <tbody>\n",
       "    <tr>\n",
       "      <th>Age</th>\n",
       "      <td>177</td>\n",
       "      <td>19.86532</td>\n",
       "    </tr>\n",
       "    <tr>\n",
       "      <th>RoomLayer</th>\n",
       "      <td>0</td>\n",
       "      <td>0.00000</td>\n",
       "    </tr>\n",
       "    <tr>\n",
       "      <th>RoomLorR</th>\n",
       "      <td>0</td>\n",
       "      <td>0.00000</td>\n",
       "    </tr>\n",
       "    <tr>\n",
       "      <th>Title</th>\n",
       "      <td>0</td>\n",
       "      <td>0.00000</td>\n",
       "    </tr>\n",
       "    <tr>\n",
       "      <th>Embarked</th>\n",
       "      <td>0</td>\n",
       "      <td>0.00000</td>\n",
       "    </tr>\n",
       "    <tr>\n",
       "      <th>Fare</th>\n",
       "      <td>0</td>\n",
       "      <td>0.00000</td>\n",
       "    </tr>\n",
       "    <tr>\n",
       "      <th>Parch</th>\n",
       "      <td>0</td>\n",
       "      <td>0.00000</td>\n",
       "    </tr>\n",
       "    <tr>\n",
       "      <th>SibSp</th>\n",
       "      <td>0</td>\n",
       "      <td>0.00000</td>\n",
       "    </tr>\n",
       "    <tr>\n",
       "      <th>Sex</th>\n",
       "      <td>0</td>\n",
       "      <td>0.00000</td>\n",
       "    </tr>\n",
       "    <tr>\n",
       "      <th>Pclass</th>\n",
       "      <td>0</td>\n",
       "      <td>0.00000</td>\n",
       "    </tr>\n",
       "    <tr>\n",
       "      <th>Survived</th>\n",
       "      <td>0</td>\n",
       "      <td>0.00000</td>\n",
       "    </tr>\n",
       "  </tbody>\n",
       "</table>\n",
       "</div>"
      ],
      "text/plain": [
       "           Total   Percent\n",
       "Age          177  19.86532\n",
       "RoomLayer      0   0.00000\n",
       "RoomLorR       0   0.00000\n",
       "Title          0   0.00000\n",
       "Embarked       0   0.00000\n",
       "Fare           0   0.00000\n",
       "Parch          0   0.00000\n",
       "SibSp          0   0.00000\n",
       "Sex            0   0.00000\n",
       "Pclass         0   0.00000\n",
       "Survived       0   0.00000"
      ]
     },
     "execution_count": 110,
     "metadata": {},
     "output_type": "execute_result"
    }
   ],
   "source": [
    "missing_columns(train)"
   ]
  },
  {
   "cell_type": "code",
   "execution_count": 111,
   "metadata": {},
   "outputs": [
    {
     "data": {
      "text/html": [
       "<div>\n",
       "<style scoped>\n",
       "    .dataframe tbody tr th:only-of-type {\n",
       "        vertical-align: middle;\n",
       "    }\n",
       "\n",
       "    .dataframe tbody tr th {\n",
       "        vertical-align: top;\n",
       "    }\n",
       "\n",
       "    .dataframe thead th {\n",
       "        text-align: right;\n",
       "    }\n",
       "</style>\n",
       "<table border=\"1\" class=\"dataframe\">\n",
       "  <thead>\n",
       "    <tr style=\"text-align: right;\">\n",
       "      <th></th>\n",
       "      <th>Total</th>\n",
       "      <th>Percent</th>\n",
       "    </tr>\n",
       "  </thead>\n",
       "  <tbody>\n",
       "    <tr>\n",
       "      <th>Age</th>\n",
       "      <td>86</td>\n",
       "      <td>20.574163</td>\n",
       "    </tr>\n",
       "    <tr>\n",
       "      <th>Fare</th>\n",
       "      <td>1</td>\n",
       "      <td>0.239234</td>\n",
       "    </tr>\n",
       "    <tr>\n",
       "      <th>RoomLayer</th>\n",
       "      <td>0</td>\n",
       "      <td>0.000000</td>\n",
       "    </tr>\n",
       "    <tr>\n",
       "      <th>RoomLorR</th>\n",
       "      <td>0</td>\n",
       "      <td>0.000000</td>\n",
       "    </tr>\n",
       "    <tr>\n",
       "      <th>Title</th>\n",
       "      <td>0</td>\n",
       "      <td>0.000000</td>\n",
       "    </tr>\n",
       "    <tr>\n",
       "      <th>Embarked</th>\n",
       "      <td>0</td>\n",
       "      <td>0.000000</td>\n",
       "    </tr>\n",
       "    <tr>\n",
       "      <th>Parch</th>\n",
       "      <td>0</td>\n",
       "      <td>0.000000</td>\n",
       "    </tr>\n",
       "    <tr>\n",
       "      <th>SibSp</th>\n",
       "      <td>0</td>\n",
       "      <td>0.000000</td>\n",
       "    </tr>\n",
       "    <tr>\n",
       "      <th>Sex</th>\n",
       "      <td>0</td>\n",
       "      <td>0.000000</td>\n",
       "    </tr>\n",
       "    <tr>\n",
       "      <th>Pclass</th>\n",
       "      <td>0</td>\n",
       "      <td>0.000000</td>\n",
       "    </tr>\n",
       "  </tbody>\n",
       "</table>\n",
       "</div>"
      ],
      "text/plain": [
       "           Total    Percent\n",
       "Age           86  20.574163\n",
       "Fare           1   0.239234\n",
       "RoomLayer      0   0.000000\n",
       "RoomLorR       0   0.000000\n",
       "Title          0   0.000000\n",
       "Embarked       0   0.000000\n",
       "Parch          0   0.000000\n",
       "SibSp          0   0.000000\n",
       "Sex            0   0.000000\n",
       "Pclass         0   0.000000"
      ]
     },
     "execution_count": 111,
     "metadata": {},
     "output_type": "execute_result"
    }
   ],
   "source": [
    "missing_columns(test)"
   ]
  },
  {
   "cell_type": "code",
   "execution_count": 112,
   "metadata": {},
   "outputs": [
    {
     "data": {
      "text/plain": [
       "2.0    691\n",
       "1.0    110\n",
       "0.0     90\n",
       "Name: RoomLorR, dtype: int64"
      ]
     },
     "execution_count": 112,
     "metadata": {},
     "output_type": "execute_result"
    }
   ],
   "source": [
    "pd.value_counts(train['RoomLorR'])"
   ]
  },
  {
   "cell_type": "code",
   "execution_count": 113,
   "metadata": {},
   "outputs": [],
   "source": [
    "#Ageをカテゴライズ\n",
    "def age(x):\n",
    "    if (0 <= x) and (x < 10):\n",
    "        return 0\n",
    "    elif (10 <= x) and (x < 20):\n",
    "        return 1\n",
    "    elif (20 <= x) and (x < 30):\n",
    "        return 2\n",
    "    elif (30 <= x) and (x < 40):\n",
    "        return 3\n",
    "    elif (40 <= x) and (x < 50):\n",
    "        return 4\n",
    "    elif (50 <= x) and (x < 60):\n",
    "        return 5\n",
    "    elif (60 <= x) and (x < 70):\n",
    "        return 6\n",
    "    elif (70 <= x) and (x <= 80):\n",
    "        return 7"
   ]
  },
  {
   "cell_type": "code",
   "execution_count": 114,
   "metadata": {},
   "outputs": [],
   "source": [
    "train[\"aboutAge\"] = train[\"Age\"].apply(age)\n",
    "test[\"aboutAge\"] = test[\"Age\"].apply(age)\n",
    "train = train.drop(columns=[\"Age\"])\n",
    "test = test.drop(columns=[\"Age\"])"
   ]
  },
  {
   "cell_type": "code",
   "execution_count": 115,
   "metadata": {},
   "outputs": [],
   "source": [
    "#Fareをカテゴライズ\n",
    "def fare(x):\n",
    "    if (0.0 <= x) and (x < 50.0):\n",
    "        return 0\n",
    "    elif (50.0 <= x) and (x < 100.0):\n",
    "        return 1\n",
    "    elif (100.0 <= x) and (x < 150.0):\n",
    "        return 2\n",
    "    elif (150.0 <= x) and (x < 200.0):\n",
    "        return 3\n",
    "    elif (200.0 <= x) and (x < 250.0):\n",
    "        return 4\n",
    "    elif (250.0 <= x) and (x < 300.0):\n",
    "        return 5\n",
    "    elif (300.0 <= x) and (x < 350.0):\n",
    "        return 6\n",
    "    elif (350.0 <= x) and (x < 400.0):\n",
    "        return 7\n",
    "    elif (400.0 <= x) and (x < 450.0):\n",
    "        return 8\n",
    "    elif (450.0 <= x) and (x < 500.0):\n",
    "        return 9\n",
    "    elif (500.0 <= x):\n",
    "        return 10"
   ]
  },
  {
   "cell_type": "code",
   "execution_count": 116,
   "metadata": {},
   "outputs": [],
   "source": [
    "#train[\"aboutFare\"] = train[\"Fare\"].apply(age)\n",
    "#test[\"aboutFare\"] = test[\"Fare\"].apply(age)\n",
    "#train = train.drop(columns=[\"Fare\"])\n",
    "#test = test.drop(columns=[\"Fare\"])"
   ]
  },
  {
   "cell_type": "code",
   "execution_count": 117,
   "metadata": {},
   "outputs": [
    {
     "data": {
      "text/html": [
       "<div>\n",
       "<style scoped>\n",
       "    .dataframe tbody tr th:only-of-type {\n",
       "        vertical-align: middle;\n",
       "    }\n",
       "\n",
       "    .dataframe tbody tr th {\n",
       "        vertical-align: top;\n",
       "    }\n",
       "\n",
       "    .dataframe thead th {\n",
       "        text-align: right;\n",
       "    }\n",
       "</style>\n",
       "<table border=\"1\" class=\"dataframe\">\n",
       "  <thead>\n",
       "    <tr style=\"text-align: right;\">\n",
       "      <th></th>\n",
       "      <th>Survived</th>\n",
       "      <th>Pclass</th>\n",
       "      <th>Sex</th>\n",
       "      <th>SibSp</th>\n",
       "      <th>Parch</th>\n",
       "      <th>Fare</th>\n",
       "      <th>Embarked</th>\n",
       "      <th>Title</th>\n",
       "      <th>RoomLorR</th>\n",
       "      <th>RoomLayer</th>\n",
       "      <th>aboutAge</th>\n",
       "    </tr>\n",
       "  </thead>\n",
       "  <tbody>\n",
       "    <tr>\n",
       "      <th>0</th>\n",
       "      <td>0</td>\n",
       "      <td>3</td>\n",
       "      <td>1</td>\n",
       "      <td>1</td>\n",
       "      <td>0</td>\n",
       "      <td>7.2500</td>\n",
       "      <td>2</td>\n",
       "      <td>1.0</td>\n",
       "      <td>2.0</td>\n",
       "      <td>7.0</td>\n",
       "      <td>2.0</td>\n",
       "    </tr>\n",
       "    <tr>\n",
       "      <th>1</th>\n",
       "      <td>1</td>\n",
       "      <td>1</td>\n",
       "      <td>0</td>\n",
       "      <td>1</td>\n",
       "      <td>0</td>\n",
       "      <td>71.2833</td>\n",
       "      <td>0</td>\n",
       "      <td>3.0</td>\n",
       "      <td>0.0</td>\n",
       "      <td>2.0</td>\n",
       "      <td>3.0</td>\n",
       "    </tr>\n",
       "    <tr>\n",
       "      <th>2</th>\n",
       "      <td>1</td>\n",
       "      <td>3</td>\n",
       "      <td>0</td>\n",
       "      <td>0</td>\n",
       "      <td>0</td>\n",
       "      <td>7.9250</td>\n",
       "      <td>2</td>\n",
       "      <td>2.0</td>\n",
       "      <td>2.0</td>\n",
       "      <td>7.0</td>\n",
       "      <td>2.0</td>\n",
       "    </tr>\n",
       "    <tr>\n",
       "      <th>3</th>\n",
       "      <td>1</td>\n",
       "      <td>1</td>\n",
       "      <td>0</td>\n",
       "      <td>1</td>\n",
       "      <td>0</td>\n",
       "      <td>53.1000</td>\n",
       "      <td>2</td>\n",
       "      <td>3.0</td>\n",
       "      <td>0.0</td>\n",
       "      <td>2.0</td>\n",
       "      <td>3.0</td>\n",
       "    </tr>\n",
       "    <tr>\n",
       "      <th>4</th>\n",
       "      <td>0</td>\n",
       "      <td>3</td>\n",
       "      <td>1</td>\n",
       "      <td>0</td>\n",
       "      <td>0</td>\n",
       "      <td>8.0500</td>\n",
       "      <td>2</td>\n",
       "      <td>1.0</td>\n",
       "      <td>2.0</td>\n",
       "      <td>7.0</td>\n",
       "      <td>3.0</td>\n",
       "    </tr>\n",
       "  </tbody>\n",
       "</table>\n",
       "</div>"
      ],
      "text/plain": [
       "   Survived  Pclass  Sex  SibSp  Parch     Fare  Embarked  Title  RoomLorR  \\\n",
       "0         0       3    1      1      0   7.2500         2    1.0       2.0   \n",
       "1         1       1    0      1      0  71.2833         0    3.0       0.0   \n",
       "2         1       3    0      0      0   7.9250         2    2.0       2.0   \n",
       "3         1       1    0      1      0  53.1000         2    3.0       0.0   \n",
       "4         0       3    1      0      0   8.0500         2    1.0       2.0   \n",
       "\n",
       "   RoomLayer  aboutAge  \n",
       "0        7.0       2.0  \n",
       "1        2.0       3.0  \n",
       "2        7.0       2.0  \n",
       "3        2.0       3.0  \n",
       "4        7.0       3.0  "
      ]
     },
     "execution_count": 117,
     "metadata": {},
     "output_type": "execute_result"
    }
   ],
   "source": [
    "train.head()"
   ]
  },
  {
   "cell_type": "code",
   "execution_count": 118,
   "metadata": {},
   "outputs": [],
   "source": [
    "train = train.fillna(train.mean()) # 平均値代入\n",
    "test = test.fillna(test.mean()) # 平均値代入"
   ]
  },
  {
   "cell_type": "code",
   "execution_count": 119,
   "metadata": {},
   "outputs": [
    {
     "data": {
      "text/html": [
       "<div>\n",
       "<style scoped>\n",
       "    .dataframe tbody tr th:only-of-type {\n",
       "        vertical-align: middle;\n",
       "    }\n",
       "\n",
       "    .dataframe tbody tr th {\n",
       "        vertical-align: top;\n",
       "    }\n",
       "\n",
       "    .dataframe thead th {\n",
       "        text-align: right;\n",
       "    }\n",
       "</style>\n",
       "<table border=\"1\" class=\"dataframe\">\n",
       "  <thead>\n",
       "    <tr style=\"text-align: right;\">\n",
       "      <th></th>\n",
       "      <th>Total</th>\n",
       "      <th>Percent</th>\n",
       "    </tr>\n",
       "  </thead>\n",
       "  <tbody>\n",
       "    <tr>\n",
       "      <th>aboutAge</th>\n",
       "      <td>0</td>\n",
       "      <td>0.0</td>\n",
       "    </tr>\n",
       "    <tr>\n",
       "      <th>RoomLayer</th>\n",
       "      <td>0</td>\n",
       "      <td>0.0</td>\n",
       "    </tr>\n",
       "    <tr>\n",
       "      <th>RoomLorR</th>\n",
       "      <td>0</td>\n",
       "      <td>0.0</td>\n",
       "    </tr>\n",
       "    <tr>\n",
       "      <th>Title</th>\n",
       "      <td>0</td>\n",
       "      <td>0.0</td>\n",
       "    </tr>\n",
       "    <tr>\n",
       "      <th>Embarked</th>\n",
       "      <td>0</td>\n",
       "      <td>0.0</td>\n",
       "    </tr>\n",
       "    <tr>\n",
       "      <th>Fare</th>\n",
       "      <td>0</td>\n",
       "      <td>0.0</td>\n",
       "    </tr>\n",
       "    <tr>\n",
       "      <th>Parch</th>\n",
       "      <td>0</td>\n",
       "      <td>0.0</td>\n",
       "    </tr>\n",
       "    <tr>\n",
       "      <th>SibSp</th>\n",
       "      <td>0</td>\n",
       "      <td>0.0</td>\n",
       "    </tr>\n",
       "    <tr>\n",
       "      <th>Sex</th>\n",
       "      <td>0</td>\n",
       "      <td>0.0</td>\n",
       "    </tr>\n",
       "    <tr>\n",
       "      <th>Pclass</th>\n",
       "      <td>0</td>\n",
       "      <td>0.0</td>\n",
       "    </tr>\n",
       "    <tr>\n",
       "      <th>Survived</th>\n",
       "      <td>0</td>\n",
       "      <td>0.0</td>\n",
       "    </tr>\n",
       "  </tbody>\n",
       "</table>\n",
       "</div>"
      ],
      "text/plain": [
       "           Total  Percent\n",
       "aboutAge       0      0.0\n",
       "RoomLayer      0      0.0\n",
       "RoomLorR       0      0.0\n",
       "Title          0      0.0\n",
       "Embarked       0      0.0\n",
       "Fare           0      0.0\n",
       "Parch          0      0.0\n",
       "SibSp          0      0.0\n",
       "Sex            0      0.0\n",
       "Pclass         0      0.0\n",
       "Survived       0      0.0"
      ]
     },
     "execution_count": 119,
     "metadata": {},
     "output_type": "execute_result"
    }
   ],
   "source": [
    "missing_columns(train)"
   ]
  },
  {
   "cell_type": "code",
   "execution_count": 120,
   "metadata": {},
   "outputs": [],
   "source": [
    "train[\"SibSpParch\"] = train[\"SibSp\"] + train[\"Parch\"]\n",
    "test[\"SibSpParch\"] = test[\"SibSp\"] + test[\"Parch\"]\n",
    "train = train.drop(columns=[\"SibSp\", \"Parch\"])\n",
    "test = test.drop(columns=[\"SibSp\", \"Parch\"])"
   ]
  },
  {
   "cell_type": "code",
   "execution_count": 121,
   "metadata": {},
   "outputs": [
    {
     "data": {
      "text/plain": [
       "([array([ 80.,   0.,  97.,   0., 372.]),\n",
       "  array([216.,   0., 184.,   0., 491.])],\n",
       " array([1. , 1.4, 1.8, 2.2, 2.6, 3. ]),\n",
       " <a list of 2 Lists of Patches objects>)"
      ]
     },
     "execution_count": 121,
     "metadata": {},
     "output_type": "execute_result"
    },
    {
     "data": {
      "image/png": "[encoded data removed]",
      "text/plain": [
       "<matplotlib.figure.Figure at 0x7f7adcfc4630>"
      ]
     },
     "metadata": {},
     "output_type": "display_data"
    }
   ],
   "source": [
    "split_data = []\n",
    "for survived in [0,1]:\n",
    "    split_data.append(train[train.Survived==survived])\n",
    "\n",
    "temp = [i[\"Pclass\"].dropna() for i in split_data]\n",
    "plt.hist(temp, histtype=\"barstacked\", bins=5)"
   ]
  },
  {
   "cell_type": "code",
   "execution_count": 122,
   "metadata": {},
   "outputs": [
    {
     "data": {
      "text/plain": [
       "([array([ 24.,   0.,  61.,   0., 143., 125.,  94.,   0.,  55.,   0.,  28.,\n",
       "           0.,  13.,   6.]),\n",
       "  array([ 62.,   0., 102.,   0., 220., 177., 167.,   0.,  89.,   0.,  48.,\n",
       "           0.,  19.,   7.])],\n",
       " array([0. , 0.5, 1. , 1.5, 2. , 2.5, 3. , 3.5, 4. , 4.5, 5. , 5.5, 6. ,\n",
       "        6.5, 7. ]),\n",
       " <a list of 2 Lists of Patches objects>)"
      ]
     },
     "execution_count": 122,
     "metadata": {},
     "output_type": "execute_result"
    },
    {
     "data": {
      "image/png": "[encoded data removed]",
      "text/plain": [
       "<matplotlib.figure.Figure at 0x7f7ad3773f98>"
      ]
     },
     "metadata": {},
     "output_type": "display_data"
    }
   ],
   "source": [
    "#欠損値は平均値で補った関係で20代後半が突出\n",
    "temp = [i[\"aboutAge\"].dropna() for i in split_data]\n",
    "plt.hist(temp, histtype=\"barstacked\", bins=14)"
   ]
  },
  {
   "cell_type": "code",
   "execution_count": 123,
   "metadata": {},
   "outputs": [
    {
     "data": {
      "text/plain": [
       "([array([ 81.,   0., 468.]), array([314.,   0., 577.])],\n",
       " array([0.        , 0.33333333, 0.66666667, 1.        ]),\n",
       " <a list of 2 Lists of Patches objects>)"
      ]
     },
     "execution_count": 123,
     "metadata": {},
     "output_type": "execute_result"
    },
    {
     "data": {
      "image/png": "[encoded data removed]",
      "text/plain": [
       "<matplotlib.figure.Figure at 0x7f7ad844fbe0>"
      ]
     },
     "metadata": {},
     "output_type": "display_data"
    }
   ],
   "source": [
    "#femaleの方が生存率が高い\n",
    "temp = [i[\"Sex\"].dropna() for i in split_data]\n",
    "plt.hist(temp, histtype=\"barstacked\", bins=3)"
   ]
  },
  {
   "cell_type": "code",
   "execution_count": 124,
   "metadata": {
    "scrolled": true
   },
   "outputs": [],
   "source": [
    "#temp = [i[\"SibSp\"].dropna() for i in split_data]\n",
    "#plt.hist(temp, histtype=\"barstacked\", bins=16)"
   ]
  },
  {
   "cell_type": "code",
   "execution_count": 125,
   "metadata": {
    "scrolled": true
   },
   "outputs": [],
   "source": [
    "#temp = [i[\"Parch\"].dropna() for i in split_data]\n",
    "#plt.hist(temp, histtype=\"barstacked\", bins=12)"
   ]
  },
  {
   "cell_type": "code",
   "execution_count": 126,
   "metadata": {},
   "outputs": [
    {
     "data": {
      "text/plain": [
       "([array([374.,  72.,  43.,   8.,  12.,  19.,   8.,   6.,   0.,   7.]),\n",
       "  array([537., 161., 102.,  29.,  15.,  22.,  12.,   6.,   0.,   7.])],\n",
       " array([ 0.,  1.,  2.,  3.,  4.,  5.,  6.,  7.,  8.,  9., 10.]),\n",
       " <a list of 2 Lists of Patches objects>)"
      ]
     },
     "execution_count": 126,
     "metadata": {},
     "output_type": "execute_result"
    },
    {
     "data": {
      "image/png": "[encoded data removed]",
      "text/plain": [
       "<matplotlib.figure.Figure at 0x7f7ad34f9898>"
      ]
     },
     "metadata": {},
     "output_type": "display_data"
    }
   ],
   "source": [
    "temp = [i[\"SibSpParch\"].dropna() for i in split_data]\n",
    "plt.hist(temp, histtype=\"barstacked\", bins=10)"
   ]
  },
  {
   "cell_type": "code",
   "execution_count": 127,
   "metadata": {},
   "outputs": [
    {
     "data": {
      "text/plain": [
       "([array([ 75.,   0.,  47.,   0., 427.]),\n",
       "  array([168.,   0.,  77.,   0., 646.])],\n",
       " array([0. , 0.4, 0.8, 1.2, 1.6, 2. ]),\n",
       " <a list of 2 Lists of Patches objects>)"
      ]
     },
     "execution_count": 127,
     "metadata": {},
     "output_type": "execute_result"
    },
    {
     "data": {
      "image/png": "[encoded data removed]",
      "text/plain": [
       "<matplotlib.figure.Figure at 0x7f7ad3060438>"
      ]
     },
     "metadata": {},
     "output_type": "display_data"
    }
   ],
   "source": [
    "temp = [i[\"Embarked\"].dropna() for i in split_data]\n",
    "plt.hist(temp, histtype=\"barstacked\", bins=5)"
   ]
  },
  {
   "cell_type": "code",
   "execution_count": 128,
   "metadata": {},
   "outputs": [
    {
     "data": {
      "text/plain": [
       "([array([ 24.,   0.,  42.,   0., 483.]),\n",
       "  array([ 90.,   0., 110.,   0., 691.])],\n",
       " array([0. , 0.4, 0.8, 1.2, 1.6, 2. ]),\n",
       " <a list of 2 Lists of Patches objects>)"
      ]
     },
     "execution_count": 128,
     "metadata": {},
     "output_type": "execute_result"
    },
    {
     "data": {
      "image/png": "[encoded data removed]",
      "text/plain": [
       "<matplotlib.figure.Figure at 0x7f7ad3486a58>"
      ]
     },
     "metadata": {},
     "output_type": "display_data"
    }
   ],
   "source": [
    "temp = [i[\"RoomLorR\"].dropna() for i in split_data]\n",
    "plt.hist(temp, histtype=\"barstacked\", bins=5)"
   ]
  },
  {
   "cell_type": "code",
   "execution_count": 129,
   "metadata": {},
   "outputs": [
    {
     "data": {
      "text/plain": [
       "([array([  8.,  12.,  24.,   8.,   8.,   5.,   2., 482.]),\n",
       "  array([ 15.,  47.,  59.,  33.,  32.,  13.,   4., 688.])],\n",
       " array([0.   , 0.875, 1.75 , 2.625, 3.5  , 4.375, 5.25 , 6.125, 7.   ]),\n",
       " <a list of 2 Lists of Patches objects>)"
      ]
     },
     "execution_count": 129,
     "metadata": {},
     "output_type": "execute_result"
    },
    {
     "data": {
      "image/png": "[encoded data removed]",
      "text/plain": [
       "<matplotlib.figure.Figure at 0x7f7ad3788ac8>"
      ]
     },
     "metadata": {},
     "output_type": "display_data"
    }
   ],
   "source": [
    "temp = [i[\"RoomLayer\"].dropna() for i in split_data]\n",
    "plt.hist(temp, histtype=\"barstacked\", bins=8)"
   ]
  },
  {
   "cell_type": "code",
   "execution_count": 130,
   "metadata": {},
   "outputs": [
    {
     "data": {
      "text/plain": [
       "([array([499.,  36.,   8.,   0.,   4.,   2.,   0.,   0.,   0.,   0.]),\n",
       "  array([732., 106.,  31.,   2.,  11.,   6.,   0.,   0.,   0.,   3.])],\n",
       " array([  0.     ,  51.23292, 102.46584, 153.69876, 204.93168, 256.1646 ,\n",
       "        307.39752, 358.63044, 409.86336, 461.09628, 512.3292 ]),\n",
       " <a list of 2 Lists of Patches objects>)"
      ]
     },
     "execution_count": 130,
     "metadata": {},
     "output_type": "execute_result"
    },
    {
     "data": {
      "image/png": "[encoded data removed]",
      "text/plain": [
       "<matplotlib.figure.Figure at 0x7f7ad323a550>"
      ]
     },
     "metadata": {},
     "output_type": "display_data"
    }
   ],
   "source": [
    "temp = [i[\"Fare\"].dropna() for i in split_data]\n",
    "plt.hist(temp, histtype=\"barstacked\", bins=10)"
   ]
  },
  {
   "cell_type": "code",
   "execution_count": 131,
   "metadata": {},
   "outputs": [
    {
     "data": {
      "text/plain": [
       "([array([ 17., 423.,  53.,  24.,  17.,  15.]),\n",
       "  array([ 25., 502., 182., 122.,  40.,  20.])],\n",
       " array([0.        , 0.83333333, 1.66666667, 2.5       , 3.33333333,\n",
       "        4.16666667, 5.        ]),\n",
       " <a list of 2 Lists of Patches objects>)"
      ]
     },
     "execution_count": 131,
     "metadata": {},
     "output_type": "execute_result"
    },
    {
     "data": {
      "image/png": "[encoded data removed]",
      "text/plain": [
       "<matplotlib.figure.Figure at 0x7f7ad3341470>"
      ]
     },
     "metadata": {},
     "output_type": "display_data"
    }
   ],
   "source": [
    "temp = [i[\"Title\"].dropna() for i in split_data]\n",
    "plt.hist(temp, histtype=\"barstacked\", bins=6)"
   ]
  },
  {
   "cell_type": "code",
   "execution_count": 132,
   "metadata": {},
   "outputs": [],
   "source": [
    "#dataを間引く\n",
    "train = train.drop(columns=[\"RoomLorR\", \"Embarked\", \"RoomLayer\"])\n",
    "test = test.drop(columns=[\"RoomLorR\", \"Embarked\", \"RoomLayer\"])"
   ]
  },
  {
   "cell_type": "code",
   "execution_count": 133,
   "metadata": {},
   "outputs": [],
   "source": [
    "#train data と test data をそれぞれ特徴量とラベルに分ける\n",
    "from sklearn.model_selection import train_test_split\n",
    "trainFeatures = train.drop(columns='Survived')\n",
    "trainLabels = train.Survived"
   ]
  },
  {
   "cell_type": "code",
   "execution_count": 134,
   "metadata": {},
   "outputs": [],
   "source": [
    "#データ分割\n",
    "X_train, X_test, y_train, y_test = train_test_split(trainFeatures, trainLabels, test_size=0.2, random_state=72)"
   ]
  },
  {
   "cell_type": "code",
   "execution_count": 48,
   "metadata": {},
   "outputs": [
    {
     "name": "stdout",
     "output_type": "stream",
     "text": [
      "0.8720794392523364\n",
      "0.8715083798882681\n"
     ]
    }
   ],
   "source": [
    "#random forest\n",
    "from sklearn.ensemble import RandomForestClassifier\n",
    "from sklearn.metrics import (roc_curve, auc, accuracy_score)\n",
    "\n",
    "clf = RandomForestClassifier(random_state=0,\n",
    "                             max_depth=10,\n",
    "                             n_estimators=20,\n",
    "                             )\n",
    "clf = clf.fit(X_train, y_train)\n",
    "pred = clf.predict(X_test)\n",
    "fpr, tpr, thresholds = roc_curve(y_test, pred, pos_label=1)\n",
    "print(auc(fpr, tpr))\n",
    "print(accuracy_score(pred, y_test))"
   ]
  },
  {
   "cell_type": "code",
   "execution_count": null,
   "metadata": {},
   "outputs": [],
   "source": [
    "import matplotlib.pyplot as plt\n",
    "%matplotlib inline\n",
    "\n",
    "features = X_train.columns\n",
    "importance = clf.feature_importances_\n",
    "indices = np.argsort(importance)\n",
    "\n",
    "plt.figure(figsize=(6,6))\n",
    "plt.barh(range(len(indices)), importance[indices], color='b', align='center')\n",
    "plt.yticks(range(len(indices)), features[indices])\n",
    "plt.show()"
   ]
  },
  {
   "cell_type": "code",
   "execution_count": 49,
   "metadata": {},
   "outputs": [],
   "source": [
    "#予測用randomForest\n",
    "forest = RandomForestClassifier(\n",
    "    max_depth = 10,\n",
    "    n_estimators = 20,\n",
    "    random_state = 0)\n",
    "\n",
    "forest = forest.fit(trainFeatures, trainLabels)\n",
    "\n",
    "rfPred = np.round(forest.predict(test)).astype(int)"
   ]
  },
  {
   "cell_type": "code",
   "execution_count": 51,
   "metadata": {},
   "outputs": [],
   "source": [
    "# テスト値を再読み込みして，randomForestでクラス分類したカラムを追加\n",
    "df_out = pd.read_csv(\"./data/test.csv\")\n",
    "testLabels = pd.Series(rfPred)\n",
    "df_out[\"Survived\"] = testLabels\n",
    "\n",
    "# outputディレクトリに出力する\n",
    "df_out[[\"PassengerId\",\"Survived\"]].to_csv(\"./data/rfSubmission12.csv\",index=False)"
   ]
  },
  {
   "cell_type": "code",
   "execution_count": null,
   "metadata": {},
   "outputs": [],
   "source": []
  },
  {
   "cell_type": "code",
   "execution_count": null,
   "metadata": {},
   "outputs": [],
   "source": [
    "X_train.head()"
   ]
  },
  {
   "cell_type": "code",
   "execution_count": null,
   "metadata": {
    "scrolled": true
   },
   "outputs": [],
   "source": [
    "#random forest をgrid searchでパラメータチューニング\n",
    "from sklearn.model_selection import GridSearchCV\n",
    "\n",
    "# グリッドサーチ(パラメータ候補指定)用のパラメータ10種\n",
    "paramG = {'n_estimators':list(range(1, 66, 5)),\n",
    "          'max_depth':list(range(1, 26, 5))\n",
    "         }\n",
    "\n",
    "#モデル生成\n",
    "grid = GridSearchCV(estimator=RandomForestClassifier(random_state=0),\n",
    "                    param_grid=paramG,\n",
    "                    scoring='r2',\n",
    "                    cv=3,\n",
    "                    verbose=10,\n",
    "                    n_jobs=-1)\n",
    "#学習\n",
    "grid = grid.fit(X_train, y_train)\n",
    "#予測\n",
    "pred = grid.predict(X_test)\n",
    "#結果\n",
    "fpr, tpr, thresholds = roc_curve(y_test, pred, pos_label=1)\n",
    "print(auc(fpr, tpr))\n",
    "print(accuracy_score(pred, y_test))\n",
    "grid.best_params_"
   ]
  },
  {
   "cell_type": "code",
   "execution_count": null,
   "metadata": {},
   "outputs": [],
   "source": []
  },
  {
   "cell_type": "code",
   "execution_count": null,
   "metadata": {},
   "outputs": [],
   "source": []
  },
  {
   "cell_type": "code",
   "execution_count": 135,
   "metadata": {},
   "outputs": [],
   "source": [
    "#モデル用dataset生成\n",
    "import lightgbm as lgb\n",
    "lgbTrain = lgb.Dataset(X_train, y_train)\n",
    "lgbTest = lgb.Dataset(X_test, y_test)\n",
    "lgbFinalTrain = lgb.Dataset(trainFeatures, trainLabels)"
   ]
  },
  {
   "cell_type": "code",
   "execution_count": 136,
   "metadata": {
    "scrolled": true
   },
   "outputs": [
    {
     "name": "stdout",
     "output_type": "stream",
     "text": [
      "Training until validation scores don't improve for 500 rounds.\n",
      "[40]\tTrain's binary_logloss: 0.580211\tTest's binary_logloss: 0.588558\n",
      "[80]\tTrain's binary_logloss: 0.561135\tTest's binary_logloss: 0.569476\n",
      "[120]\tTrain's binary_logloss: 0.551682\tTest's binary_logloss: 0.558442\n",
      "[160]\tTrain's binary_logloss: 0.54644\tTest's binary_logloss: 0.553402\n",
      "[200]\tTrain's binary_logloss: 0.51548\tTest's binary_logloss: 0.524518\n",
      "[240]\tTrain's binary_logloss: 0.497468\tTest's binary_logloss: 0.507276\n",
      "[280]\tTrain's binary_logloss: 0.482836\tTest's binary_logloss: 0.494077\n",
      "[320]\tTrain's binary_logloss: 0.473615\tTest's binary_logloss: 0.48601\n",
      "[360]\tTrain's binary_logloss: 0.475389\tTest's binary_logloss: 0.487509\n",
      "[400]\tTrain's binary_logloss: 0.465313\tTest's binary_logloss: 0.478139\n",
      "[440]\tTrain's binary_logloss: 0.453565\tTest's binary_logloss: 0.467041\n",
      "[480]\tTrain's binary_logloss: 0.438261\tTest's binary_logloss: 0.4535\n",
      "[520]\tTrain's binary_logloss: 0.428462\tTest's binary_logloss: 0.44535\n",
      "[560]\tTrain's binary_logloss: 0.422014\tTest's binary_logloss: 0.441661\n",
      "[600]\tTrain's binary_logloss: 0.413846\tTest's binary_logloss: 0.434586\n",
      "[640]\tTrain's binary_logloss: 0.411931\tTest's binary_logloss: 0.433753\n",
      "[680]\tTrain's binary_logloss: 0.406138\tTest's binary_logloss: 0.43044\n",
      "[720]\tTrain's binary_logloss: 0.399818\tTest's binary_logloss: 0.425524\n",
      "[760]\tTrain's binary_logloss: 0.394905\tTest's binary_logloss: 0.422424\n",
      "[800]\tTrain's binary_logloss: 0.390346\tTest's binary_logloss: 0.420008\n",
      "[840]\tTrain's binary_logloss: 0.387498\tTest's binary_logloss: 0.418134\n",
      "[880]\tTrain's binary_logloss: 0.383104\tTest's binary_logloss: 0.415767\n",
      "[920]\tTrain's binary_logloss: 0.376541\tTest's binary_logloss: 0.413127\n",
      "[960]\tTrain's binary_logloss: 0.372574\tTest's binary_logloss: 0.411595\n",
      "[1000]\tTrain's binary_logloss: 0.365368\tTest's binary_logloss: 0.408043\n",
      "[1040]\tTrain's binary_logloss: 0.363764\tTest's binary_logloss: 0.408149\n",
      "[1080]\tTrain's binary_logloss: 0.359358\tTest's binary_logloss: 0.406746\n",
      "[1120]\tTrain's binary_logloss: 0.358887\tTest's binary_logloss: 0.407877\n",
      "[1160]\tTrain's binary_logloss: 0.35618\tTest's binary_logloss: 0.406773\n",
      "[1200]\tTrain's binary_logloss: 0.35395\tTest's binary_logloss: 0.405705\n",
      "[1240]\tTrain's binary_logloss: 0.351163\tTest's binary_logloss: 0.405246\n",
      "[1280]\tTrain's binary_logloss: 0.348245\tTest's binary_logloss: 0.404652\n",
      "[1320]\tTrain's binary_logloss: 0.345371\tTest's binary_logloss: 0.405315\n",
      "[1360]\tTrain's binary_logloss: 0.342082\tTest's binary_logloss: 0.405009\n",
      "[1400]\tTrain's binary_logloss: 0.34121\tTest's binary_logloss: 0.40571\n",
      "[1440]\tTrain's binary_logloss: 0.337785\tTest's binary_logloss: 0.405602\n",
      "[1480]\tTrain's binary_logloss: 0.334288\tTest's binary_logloss: 0.405691\n",
      "[1520]\tTrain's binary_logloss: 0.331192\tTest's binary_logloss: 0.405921\n",
      "[1560]\tTrain's binary_logloss: 0.326974\tTest's binary_logloss: 0.407087\n",
      "[1600]\tTrain's binary_logloss: 0.32467\tTest's binary_logloss: 0.408444\n",
      "[1640]\tTrain's binary_logloss: 0.322744\tTest's binary_logloss: 0.408351\n",
      "[1680]\tTrain's binary_logloss: 0.321782\tTest's binary_logloss: 0.408782\n",
      "[1720]\tTrain's binary_logloss: 0.319817\tTest's binary_logloss: 0.40936\n",
      "[1760]\tTrain's binary_logloss: 0.317744\tTest's binary_logloss: 0.410551\n",
      "Early stopping, best iteration is:\n",
      "[1294]\tTrain's binary_logloss: 0.346157\tTest's binary_logloss: 0.404137\n"
     ]
    }
   ],
   "source": [
    "#light gbm\n",
    "\n",
    "lgbParams = {\n",
    "    'boosting': 'dart',          # dart (drop out trees) often performs better\n",
    "    'application': 'binary',     # Binary classification\n",
    "    'learning_rate': 0.01,      # Learning rate, controls size of a gradient descent step\n",
    "    'max_data_in_leaf': 20,\n",
    "#    'min_data_in_leaf': 10,      # Data set is quite small so reduce this a bit\n",
    "    'feature_fraction': 0.6,     # Proportion of features in each boost, controls overfitting\n",
    "    'num_leaves': 21,            # Controls size of tree since LGBM uses leaf wise splits\n",
    "    'metric': 'binary_logloss',  # Area under ROC curve as the evaulation metric\n",
    "    'drop_rate': 0.15\n",
    "}\n",
    "\n",
    "#学習\n",
    "evaluationResults = {}\n",
    "lgbModel = lgb.train(train_set=lgbTrain,\n",
    "                     params=lgbParams,\n",
    "                     valid_sets=[lgbTrain, lgbTest], \n",
    "                     valid_names=['Train', 'Test'],\n",
    "                     evals_result=evaluationResults,\n",
    "                     num_boost_round=5000,\n",
    "                     early_stopping_rounds=500,\n",
    "                     verbose_eval=40\n",
    "                    )\n",
    "\n",
    "optimum_boost_rounds = lgbModel.best_iteration"
   ]
  },
  {
   "cell_type": "code",
   "execution_count": 137,
   "metadata": {
    "scrolled": false
   },
   "outputs": [],
   "source": [
    "#from sklearn.ensemble import GradientBoostingClassifier #GBM algorithm\n",
    "#from sklearn.grid_search import GridSearchCV #Perforing grid search\n",
    "\n",
    "#param_test3 = {'min_samples_leaf':list(range(30,71,10))}\n",
    "#gsearch3 = GridSearchCV(estimator = GradientBoostingClassifier(learning_rate=0.1, n_estimators=60, min_samples_split=800, max_depth=7,max_features='sqrt', subsample=0.8, random_state=10), \n",
    "#param_grid = param_test3, scoring='roc_auc',n_jobs=4,iid=False, cv=5)\n",
    "#gsearch3.fit(trainFeatures,trainLabels)\n",
    "#mean_list = []\n",
    "#for s in gsearch3.grid_scores_:\n",
    "#    mean_list.append(s[1])\n",
    "#plt.figure(figsize=(4,2))\n",
    "#plt.plot(list(range(30,71,10)), mean_list)\n",
    "#plt.title(\"GridSearchCV Score\")\n",
    "#plt.xlabel(\"min_samples_leaf\")\n",
    "#plt.show()\n",
    "#gsearch3.grid_scores_, gsearch3.best_params_, gsearch3.best_score_"
   ]
  },
  {
   "cell_type": "code",
   "execution_count": 138,
   "metadata": {},
   "outputs": [
    {
     "data": {
      "image/png": "[encoded data removed]",
      "text/plain": [
       "<matplotlib.figure.Figure at 0x7f7ad2dbc208>"
      ]
     },
     "metadata": {},
     "output_type": "display_data"
    }
   ],
   "source": [
    "fig, axs = plt.subplots(1, 2, figsize=[15, 4])\n",
    "\n",
    "# Plot the log loss during training\n",
    "axs[0].plot(evaluationResults['Train']['binary_logloss'], label='Train')\n",
    "axs[0].plot(evaluationResults['Test']['binary_logloss'], label='Test')\n",
    "axs[0].set_ylabel('Log loss')\n",
    "axs[0].set_xlabel('Boosting round')\n",
    "axs[0].set_title('Training performance')\n",
    "axs[0].legend()\n",
    "\n",
    "# Plot feature importance\n",
    "importances = pd.DataFrame({'features': lgbModel.feature_name(), \n",
    "                            'importance': lgbModel.feature_importance()}).sort_values('importance', ascending=False)\n",
    "axs[1].bar(x=np.arange(len(importances)), height=importances['importance'])\n",
    "axs[1].set_xticks(np.arange(len(importances)))\n",
    "axs[1].set_xticklabels(importances['features'])\n",
    "axs[1].set_ylabel('Feature importance (# times used to split)')\n",
    "axs[1].set_title('Feature importance')\n",
    "\n",
    "plt.tight_layout()\n",
    "plt.show()"
   ]
  },
  {
   "cell_type": "code",
   "execution_count": 139,
   "metadata": {},
   "outputs": [
    {
     "data": {
      "image/png": "[encoded data removed]",
      "text/plain": [
       "<matplotlib.figure.Figure at 0x7f7ad2da02e8>"
      ]
     },
     "metadata": {},
     "output_type": "display_data"
    }
   ],
   "source": [
    "features = X_train.columns\n",
    "importance = lgbModel.feature_importance()\n",
    "indices = np.argsort(importance)\n",
    "\n",
    "plt.figure(figsize=(12,8))\n",
    "plt.barh(range(len(indices)), importance[indices], color='b', align='center')\n",
    "plt.yticks(range(len(indices)), features[indices])\n",
    "plt.show()"
   ]
  },
  {
   "cell_type": "code",
   "execution_count": 140,
   "metadata": {},
   "outputs": [
    {
     "name": "stdout",
     "output_type": "stream",
     "text": [
      "Accuracy score = \t 0.8659217877094972\n",
      "Precision score = \t 0.8333333333333334\n",
      "Recall score =   \t 0.8333333333333334\n",
      "F1 score =      \t 0.8333333333333334\n"
     ]
    }
   ],
   "source": [
    "from sklearn.metrics import accuracy_score, recall_score, precision_score, f1_score\n",
    "preds = np.round(lgbModel.predict(X_test))\n",
    "print('Accuracy score = \\t {}'.format(accuracy_score(y_test, preds)))\n",
    "print('Precision score = \\t {}'.format(precision_score(y_test, preds)))\n",
    "print('Recall score =   \\t {}'.format(recall_score(y_test, preds)))\n",
    "print('F1 score =      \\t {}'.format(f1_score(y_test, preds)))"
   ]
  },
  {
   "cell_type": "code",
   "execution_count": 141,
   "metadata": {},
   "outputs": [],
   "source": [
    "#予測用datasetで予測\n",
    "lgbFinal = lgb.train(train_set=lgbFinalTrain,\n",
    "                      params=lgbParams,\n",
    "                      num_boost_round=optimum_boost_rounds,\n",
    "                      verbose_eval=0\n",
    "                      )\n",
    "\n",
    "lgbPred = np.round(lgbFinal.predict(test)).astype(int)"
   ]
  },
  {
   "cell_type": "code",
   "execution_count": 142,
   "metadata": {},
   "outputs": [],
   "source": [
    "# テスト値を再読み込みして，randomForestでクラス分類したカラムを追加\n",
    "df_out = pd.read_csv(\"./data/test.csv\")\n",
    "testLabels = pd.Series(lgbPred)\n",
    "df_out[\"Survived\"] = testLabels\n",
    "\n",
    "# outputディレクトリに出力する\n",
    "#df_out[[\"PassengerId\",\"Survived\"]].to_csv(\"./data/lgbSubmission5.csv\",index=False)"
   ]
  },
  {
   "cell_type": "code",
   "execution_count": 143,
   "metadata": {},
   "outputs": [],
   "source": [
    "#予測結果でラベル付けしたtest dataを追加して再度学習する"
   ]
  },
  {
   "cell_type": "code",
   "execution_count": 144,
   "metadata": {},
   "outputs": [
    {
     "data": {
      "text/html": [
       "<div>\n",
       "<style scoped>\n",
       "    .dataframe tbody tr th:only-of-type {\n",
       "        vertical-align: middle;\n",
       "    }\n",
       "\n",
       "    .dataframe tbody tr th {\n",
       "        vertical-align: top;\n",
       "    }\n",
       "\n",
       "    .dataframe thead th {\n",
       "        text-align: right;\n",
       "    }\n",
       "</style>\n",
       "<table border=\"1\" class=\"dataframe\">\n",
       "  <thead>\n",
       "    <tr style=\"text-align: right;\">\n",
       "      <th></th>\n",
       "      <th>PassengerId</th>\n",
       "      <th>Pclass</th>\n",
       "      <th>Name</th>\n",
       "      <th>Sex</th>\n",
       "      <th>Age</th>\n",
       "      <th>SibSp</th>\n",
       "      <th>Parch</th>\n",
       "      <th>Ticket</th>\n",
       "      <th>Fare</th>\n",
       "      <th>Cabin</th>\n",
       "      <th>Embarked</th>\n",
       "      <th>Survived</th>\n",
       "    </tr>\n",
       "  </thead>\n",
       "  <tbody>\n",
       "    <tr>\n",
       "      <th>0</th>\n",
       "      <td>892</td>\n",
       "      <td>3</td>\n",
       "      <td>Kelly, Mr. James</td>\n",
       "      <td>male</td>\n",
       "      <td>34.5</td>\n",
       "      <td>0</td>\n",
       "      <td>0</td>\n",
       "      <td>330911</td>\n",
       "      <td>7.8292</td>\n",
       "      <td>NaN</td>\n",
       "      <td>Q</td>\n",
       "      <td>0</td>\n",
       "    </tr>\n",
       "    <tr>\n",
       "      <th>1</th>\n",
       "      <td>893</td>\n",
       "      <td>3</td>\n",
       "      <td>Wilkes, Mrs. James (Ellen Needs)</td>\n",
       "      <td>female</td>\n",
       "      <td>47.0</td>\n",
       "      <td>1</td>\n",
       "      <td>0</td>\n",
       "      <td>363272</td>\n",
       "      <td>7.0000</td>\n",
       "      <td>NaN</td>\n",
       "      <td>S</td>\n",
       "      <td>0</td>\n",
       "    </tr>\n",
       "    <tr>\n",
       "      <th>2</th>\n",
       "      <td>894</td>\n",
       "      <td>2</td>\n",
       "      <td>Myles, Mr. Thomas Francis</td>\n",
       "      <td>male</td>\n",
       "      <td>62.0</td>\n",
       "      <td>0</td>\n",
       "      <td>0</td>\n",
       "      <td>240276</td>\n",
       "      <td>9.6875</td>\n",
       "      <td>NaN</td>\n",
       "      <td>Q</td>\n",
       "      <td>0</td>\n",
       "    </tr>\n",
       "    <tr>\n",
       "      <th>3</th>\n",
       "      <td>895</td>\n",
       "      <td>3</td>\n",
       "      <td>Wirz, Mr. Albert</td>\n",
       "      <td>male</td>\n",
       "      <td>27.0</td>\n",
       "      <td>0</td>\n",
       "      <td>0</td>\n",
       "      <td>315154</td>\n",
       "      <td>8.6625</td>\n",
       "      <td>NaN</td>\n",
       "      <td>S</td>\n",
       "      <td>0</td>\n",
       "    </tr>\n",
       "    <tr>\n",
       "      <th>4</th>\n",
       "      <td>896</td>\n",
       "      <td>3</td>\n",
       "      <td>Hirvonen, Mrs. Alexander (Helga E Lindqvist)</td>\n",
       "      <td>female</td>\n",
       "      <td>22.0</td>\n",
       "      <td>1</td>\n",
       "      <td>1</td>\n",
       "      <td>3101298</td>\n",
       "      <td>12.2875</td>\n",
       "      <td>NaN</td>\n",
       "      <td>S</td>\n",
       "      <td>1</td>\n",
       "    </tr>\n",
       "  </tbody>\n",
       "</table>\n",
       "</div>"
      ],
      "text/plain": [
       "   PassengerId  Pclass                                          Name     Sex  \\\n",
       "0          892       3                              Kelly, Mr. James    male   \n",
       "1          893       3              Wilkes, Mrs. James (Ellen Needs)  female   \n",
       "2          894       2                     Myles, Mr. Thomas Francis    male   \n",
       "3          895       3                              Wirz, Mr. Albert    male   \n",
       "4          896       3  Hirvonen, Mrs. Alexander (Helga E Lindqvist)  female   \n",
       "\n",
       "    Age  SibSp  Parch   Ticket     Fare Cabin Embarked  Survived  \n",
       "0  34.5      0      0   330911   7.8292   NaN        Q         0  \n",
       "1  47.0      1      0   363272   7.0000   NaN        S         0  \n",
       "2  62.0      0      0   240276   9.6875   NaN        Q         0  \n",
       "3  27.0      0      0   315154   8.6625   NaN        S         0  \n",
       "4  22.0      1      1  3101298  12.2875   NaN        S         1  "
      ]
     },
     "execution_count": 144,
     "metadata": {},
     "output_type": "execute_result"
    }
   ],
   "source": [
    "df_out.head()"
   ]
  },
  {
   "cell_type": "code",
   "execution_count": 145,
   "metadata": {},
   "outputs": [],
   "source": [
    "testFeatures = test"
   ]
  },
  {
   "cell_type": "code",
   "execution_count": 146,
   "metadata": {},
   "outputs": [
    {
     "data": {
      "text/html": [
       "<div>\n",
       "<style scoped>\n",
       "    .dataframe tbody tr th:only-of-type {\n",
       "        vertical-align: middle;\n",
       "    }\n",
       "\n",
       "    .dataframe tbody tr th {\n",
       "        vertical-align: top;\n",
       "    }\n",
       "\n",
       "    .dataframe thead th {\n",
       "        text-align: right;\n",
       "    }\n",
       "</style>\n",
       "<table border=\"1\" class=\"dataframe\">\n",
       "  <thead>\n",
       "    <tr style=\"text-align: right;\">\n",
       "      <th></th>\n",
       "      <th>Pclass</th>\n",
       "      <th>Sex</th>\n",
       "      <th>Fare</th>\n",
       "      <th>Title</th>\n",
       "      <th>aboutAge</th>\n",
       "      <th>SibSpParch</th>\n",
       "    </tr>\n",
       "  </thead>\n",
       "  <tbody>\n",
       "    <tr>\n",
       "      <th>0</th>\n",
       "      <td>3</td>\n",
       "      <td>1</td>\n",
       "      <td>7.8292</td>\n",
       "      <td>1.0</td>\n",
       "      <td>3.0</td>\n",
       "      <td>0</td>\n",
       "    </tr>\n",
       "    <tr>\n",
       "      <th>1</th>\n",
       "      <td>3</td>\n",
       "      <td>0</td>\n",
       "      <td>7.0000</td>\n",
       "      <td>3.0</td>\n",
       "      <td>4.0</td>\n",
       "      <td>1</td>\n",
       "    </tr>\n",
       "    <tr>\n",
       "      <th>2</th>\n",
       "      <td>2</td>\n",
       "      <td>1</td>\n",
       "      <td>9.6875</td>\n",
       "      <td>1.0</td>\n",
       "      <td>6.0</td>\n",
       "      <td>0</td>\n",
       "    </tr>\n",
       "    <tr>\n",
       "      <th>3</th>\n",
       "      <td>3</td>\n",
       "      <td>1</td>\n",
       "      <td>8.6625</td>\n",
       "      <td>1.0</td>\n",
       "      <td>2.0</td>\n",
       "      <td>0</td>\n",
       "    </tr>\n",
       "    <tr>\n",
       "      <th>4</th>\n",
       "      <td>3</td>\n",
       "      <td>0</td>\n",
       "      <td>12.2875</td>\n",
       "      <td>3.0</td>\n",
       "      <td>2.0</td>\n",
       "      <td>2</td>\n",
       "    </tr>\n",
       "  </tbody>\n",
       "</table>\n",
       "</div>"
      ],
      "text/plain": [
       "   Pclass  Sex     Fare  Title  aboutAge  SibSpParch\n",
       "0       3    1   7.8292    1.0       3.0           0\n",
       "1       3    0   7.0000    3.0       4.0           1\n",
       "2       2    1   9.6875    1.0       6.0           0\n",
       "3       3    1   8.6625    1.0       2.0           0\n",
       "4       3    0  12.2875    3.0       2.0           2"
      ]
     },
     "execution_count": 146,
     "metadata": {},
     "output_type": "execute_result"
    }
   ],
   "source": [
    "testFeatures.head()"
   ]
  },
  {
   "cell_type": "code",
   "execution_count": 147,
   "metadata": {},
   "outputs": [
    {
     "data": {
      "text/html": [
       "<div>\n",
       "<style scoped>\n",
       "    .dataframe tbody tr th:only-of-type {\n",
       "        vertical-align: middle;\n",
       "    }\n",
       "\n",
       "    .dataframe tbody tr th {\n",
       "        vertical-align: top;\n",
       "    }\n",
       "\n",
       "    .dataframe thead th {\n",
       "        text-align: right;\n",
       "    }\n",
       "</style>\n",
       "<table border=\"1\" class=\"dataframe\">\n",
       "  <thead>\n",
       "    <tr style=\"text-align: right;\">\n",
       "      <th></th>\n",
       "      <th>Pclass</th>\n",
       "      <th>Sex</th>\n",
       "      <th>Fare</th>\n",
       "      <th>Title</th>\n",
       "      <th>aboutAge</th>\n",
       "      <th>SibSpParch</th>\n",
       "    </tr>\n",
       "  </thead>\n",
       "  <tbody>\n",
       "    <tr>\n",
       "      <th>0</th>\n",
       "      <td>3</td>\n",
       "      <td>1</td>\n",
       "      <td>7.2500</td>\n",
       "      <td>1.0</td>\n",
       "      <td>2.0</td>\n",
       "      <td>1</td>\n",
       "    </tr>\n",
       "    <tr>\n",
       "      <th>1</th>\n",
       "      <td>1</td>\n",
       "      <td>0</td>\n",
       "      <td>71.2833</td>\n",
       "      <td>3.0</td>\n",
       "      <td>3.0</td>\n",
       "      <td>1</td>\n",
       "    </tr>\n",
       "    <tr>\n",
       "      <th>2</th>\n",
       "      <td>3</td>\n",
       "      <td>0</td>\n",
       "      <td>7.9250</td>\n",
       "      <td>2.0</td>\n",
       "      <td>2.0</td>\n",
       "      <td>0</td>\n",
       "    </tr>\n",
       "    <tr>\n",
       "      <th>3</th>\n",
       "      <td>1</td>\n",
       "      <td>0</td>\n",
       "      <td>53.1000</td>\n",
       "      <td>3.0</td>\n",
       "      <td>3.0</td>\n",
       "      <td>1</td>\n",
       "    </tr>\n",
       "    <tr>\n",
       "      <th>4</th>\n",
       "      <td>3</td>\n",
       "      <td>1</td>\n",
       "      <td>8.0500</td>\n",
       "      <td>1.0</td>\n",
       "      <td>3.0</td>\n",
       "      <td>0</td>\n",
       "    </tr>\n",
       "  </tbody>\n",
       "</table>\n",
       "</div>"
      ],
      "text/plain": [
       "   Pclass  Sex     Fare  Title  aboutAge  SibSpParch\n",
       "0       3    1   7.2500    1.0       2.0           1\n",
       "1       1    0  71.2833    3.0       3.0           1\n",
       "2       3    0   7.9250    2.0       2.0           0\n",
       "3       1    0  53.1000    3.0       3.0           1\n",
       "4       3    1   8.0500    1.0       3.0           0"
      ]
     },
     "execution_count": 147,
     "metadata": {},
     "output_type": "execute_result"
    }
   ],
   "source": [
    "trainFeatures.head()"
   ]
  },
  {
   "cell_type": "code",
   "execution_count": 148,
   "metadata": {},
   "outputs": [],
   "source": [
    "mixDataFeatures = pd.concat([trainFeatures,testFeatures])\n",
    "mixDataLabels = pd.concat([trainLabels, testLabels])"
   ]
  },
  {
   "cell_type": "code",
   "execution_count": 149,
   "metadata": {},
   "outputs": [
    {
     "data": {
      "text/plain": [
       "(1309, 6)"
      ]
     },
     "execution_count": 149,
     "metadata": {},
     "output_type": "execute_result"
    }
   ],
   "source": [
    "mixDataFeatures.shape"
   ]
  },
  {
   "cell_type": "code",
   "execution_count": 150,
   "metadata": {},
   "outputs": [
    {
     "data": {
      "text/html": [
       "<div>\n",
       "<style scoped>\n",
       "    .dataframe tbody tr th:only-of-type {\n",
       "        vertical-align: middle;\n",
       "    }\n",
       "\n",
       "    .dataframe tbody tr th {\n",
       "        vertical-align: top;\n",
       "    }\n",
       "\n",
       "    .dataframe thead th {\n",
       "        text-align: right;\n",
       "    }\n",
       "</style>\n",
       "<table border=\"1\" class=\"dataframe\">\n",
       "  <thead>\n",
       "    <tr style=\"text-align: right;\">\n",
       "      <th></th>\n",
       "      <th>Pclass</th>\n",
       "      <th>Sex</th>\n",
       "      <th>Fare</th>\n",
       "      <th>Title</th>\n",
       "      <th>aboutAge</th>\n",
       "      <th>SibSpParch</th>\n",
       "    </tr>\n",
       "  </thead>\n",
       "  <tbody>\n",
       "    <tr>\n",
       "      <th>0</th>\n",
       "      <td>3</td>\n",
       "      <td>1</td>\n",
       "      <td>7.2500</td>\n",
       "      <td>1.0</td>\n",
       "      <td>2.0</td>\n",
       "      <td>1</td>\n",
       "    </tr>\n",
       "    <tr>\n",
       "      <th>1</th>\n",
       "      <td>1</td>\n",
       "      <td>0</td>\n",
       "      <td>71.2833</td>\n",
       "      <td>3.0</td>\n",
       "      <td>3.0</td>\n",
       "      <td>1</td>\n",
       "    </tr>\n",
       "    <tr>\n",
       "      <th>2</th>\n",
       "      <td>3</td>\n",
       "      <td>0</td>\n",
       "      <td>7.9250</td>\n",
       "      <td>2.0</td>\n",
       "      <td>2.0</td>\n",
       "      <td>0</td>\n",
       "    </tr>\n",
       "    <tr>\n",
       "      <th>3</th>\n",
       "      <td>1</td>\n",
       "      <td>0</td>\n",
       "      <td>53.1000</td>\n",
       "      <td>3.0</td>\n",
       "      <td>3.0</td>\n",
       "      <td>1</td>\n",
       "    </tr>\n",
       "    <tr>\n",
       "      <th>4</th>\n",
       "      <td>3</td>\n",
       "      <td>1</td>\n",
       "      <td>8.0500</td>\n",
       "      <td>1.0</td>\n",
       "      <td>3.0</td>\n",
       "      <td>0</td>\n",
       "    </tr>\n",
       "  </tbody>\n",
       "</table>\n",
       "</div>"
      ],
      "text/plain": [
       "   Pclass  Sex     Fare  Title  aboutAge  SibSpParch\n",
       "0       3    1   7.2500    1.0       2.0           1\n",
       "1       1    0  71.2833    3.0       3.0           1\n",
       "2       3    0   7.9250    2.0       2.0           0\n",
       "3       1    0  53.1000    3.0       3.0           1\n",
       "4       3    1   8.0500    1.0       3.0           0"
      ]
     },
     "execution_count": 150,
     "metadata": {},
     "output_type": "execute_result"
    }
   ],
   "source": [
    "mixDataFeatures.head()"
   ]
  },
  {
   "cell_type": "code",
   "execution_count": 151,
   "metadata": {},
   "outputs": [
    {
     "data": {
      "text/plain": [
       "0    0\n",
       "1    1\n",
       "2    1\n",
       "3    1\n",
       "4    0\n",
       "dtype: int64"
      ]
     },
     "execution_count": 151,
     "metadata": {},
     "output_type": "execute_result"
    }
   ],
   "source": [
    "mixDataLabels.head()"
   ]
  },
  {
   "cell_type": "code",
   "execution_count": 152,
   "metadata": {},
   "outputs": [],
   "source": [
    "#データ分割\n",
    "X_train, X_test, y_train, y_test = train_test_split(mixDataFeatures, mixDataLabels, test_size=0.2, random_state=72)"
   ]
  },
  {
   "cell_type": "code",
   "execution_count": null,
   "metadata": {},
   "outputs": [],
   "source": [
    "#random forest\n",
    "from sklearn.ensemble import RandomForestClassifier\n",
    "from sklearn.metrics import (roc_curve, auc, accuracy_score)\n",
    "\n",
    "clf = RandomForestClassifier(random_state=0,\n",
    "                             max_depth=10,\n",
    "                             n_estimators=20,\n",
    "                             )\n",
    "clf = clf.fit(X_train, y_train)\n",
    "pred = clf.predict(X_test)\n",
    "fpr, tpr, thresholds = roc_curve(y_test, pred, pos_label=1)\n",
    "print(auc(fpr, tpr))\n",
    "print(accuracy_score(pred, y_test))"
   ]
  },
  {
   "cell_type": "code",
   "execution_count": null,
   "metadata": {},
   "outputs": [],
   "source": [
    "import matplotlib.pyplot as plt\n",
    "%matplotlib inline\n",
    "\n",
    "features = X_train.columns\n",
    "importance = clf.feature_importances_\n",
    "indices = np.argsort(importance)\n",
    "\n",
    "plt.figure(figsize=(6,6))\n",
    "plt.barh(range(len(indices)), importance[indices], color='b', align='center')\n",
    "plt.yticks(range(len(indices)), features[indices])\n",
    "plt.show()"
   ]
  },
  {
   "cell_type": "code",
   "execution_count": null,
   "metadata": {},
   "outputs": [],
   "source": [
    "#予測用randomForest\n",
    "forest = RandomForestClassifier(\n",
    "    max_depth = 10,\n",
    "    n_estimators = 20,\n",
    "    random_state = 0)\n",
    "\n",
    "forest = forest.fit(mixDataFeatures, mixDataLabels)\n",
    "\n",
    "rfPred = np.round(forest.predict(test)).astype(int)"
   ]
  },
  {
   "cell_type": "code",
   "execution_count": null,
   "metadata": {},
   "outputs": [],
   "source": [
    "# テスト値を再読み込みして，randomForestでクラス分類したカラムを追加\n",
    "df_out = pd.read_csv(\"./data/test.csv\")\n",
    "testLabels = pd.Series(rfPred)\n",
    "df_out[\"Survived\"] = testLabels\n",
    "\n",
    "# outputディレクトリに出力する\n",
    "df_out[[\"PassengerId\",\"Survived\"]].to_csv(\"./data/rfSubmission12.csv\",index=False)"
   ]
  },
  {
   "cell_type": "code",
   "execution_count": null,
   "metadata": {},
   "outputs": [],
   "source": []
  },
  {
   "cell_type": "code",
   "execution_count": null,
   "metadata": {},
   "outputs": [],
   "source": []
  },
  {
   "cell_type": "code",
   "execution_count": 153,
   "metadata": {},
   "outputs": [],
   "source": [
    "#モデル用dataset生成\n",
    "import lightgbm as lgb\n",
    "lgbTrain = lgb.Dataset(X_train, y_train)\n",
    "lgbTest = lgb.Dataset(X_test, y_test)\n",
    "lgbFinalTrain = lgb.Dataset(trainFeatures, trainLabels)"
   ]
  },
  {
   "cell_type": "code",
   "execution_count": 154,
   "metadata": {
    "scrolled": true
   },
   "outputs": [
    {
     "name": "stdout",
     "output_type": "stream",
     "text": [
      "Training until validation scores don't improve for 1000 rounds.\n",
      "[40]\tTrain's binary_logloss: 0.491779\tTest's binary_logloss: 0.491739\n",
      "[80]\tTrain's binary_logloss: 0.458982\tTest's binary_logloss: 0.463294\n",
      "[120]\tTrain's binary_logloss: 0.442583\tTest's binary_logloss: 0.447645\n",
      "[160]\tTrain's binary_logloss: 0.433639\tTest's binary_logloss: 0.439019\n",
      "[200]\tTrain's binary_logloss: 0.389728\tTest's binary_logloss: 0.399059\n",
      "[240]\tTrain's binary_logloss: 0.36806\tTest's binary_logloss: 0.379487\n",
      "[280]\tTrain's binary_logloss: 0.351706\tTest's binary_logloss: 0.365899\n",
      "[320]\tTrain's binary_logloss: 0.342246\tTest's binary_logloss: 0.357447\n",
      "[360]\tTrain's binary_logloss: 0.345436\tTest's binary_logloss: 0.359325\n",
      "[400]\tTrain's binary_logloss: 0.3343\tTest's binary_logloss: 0.351818\n",
      "[440]\tTrain's binary_logloss: 0.322269\tTest's binary_logloss: 0.341767\n",
      "[480]\tTrain's binary_logloss: 0.307421\tTest's binary_logloss: 0.329797\n",
      "[520]\tTrain's binary_logloss: 0.298255\tTest's binary_logloss: 0.324062\n",
      "[560]\tTrain's binary_logloss: 0.292543\tTest's binary_logloss: 0.319775\n",
      "[600]\tTrain's binary_logloss: 0.285843\tTest's binary_logloss: 0.315583\n",
      "[640]\tTrain's binary_logloss: 0.284461\tTest's binary_logloss: 0.315328\n",
      "[680]\tTrain's binary_logloss: 0.279276\tTest's binary_logloss: 0.312489\n",
      "[720]\tTrain's binary_logloss: 0.274087\tTest's binary_logloss: 0.309039\n",
      "[760]\tTrain's binary_logloss: 0.270288\tTest's binary_logloss: 0.306553\n",
      "[800]\tTrain's binary_logloss: 0.266546\tTest's binary_logloss: 0.305046\n",
      "[840]\tTrain's binary_logloss: 0.264687\tTest's binary_logloss: 0.304861\n",
      "[880]\tTrain's binary_logloss: 0.261011\tTest's binary_logloss: 0.302741\n",
      "[920]\tTrain's binary_logloss: 0.255164\tTest's binary_logloss: 0.300827\n",
      "[960]\tTrain's binary_logloss: 0.251881\tTest's binary_logloss: 0.299715\n",
      "[1000]\tTrain's binary_logloss: 0.245905\tTest's binary_logloss: 0.29884\n",
      "[1040]\tTrain's binary_logloss: 0.244552\tTest's binary_logloss: 0.298953\n",
      "[1080]\tTrain's binary_logloss: 0.240909\tTest's binary_logloss: 0.29744\n",
      "[1120]\tTrain's binary_logloss: 0.240332\tTest's binary_logloss: 0.298156\n",
      "[1160]\tTrain's binary_logloss: 0.238273\tTest's binary_logloss: 0.297921\n",
      "[1200]\tTrain's binary_logloss: 0.236494\tTest's binary_logloss: 0.297369\n",
      "[1240]\tTrain's binary_logloss: 0.234293\tTest's binary_logloss: 0.297198\n",
      "[1280]\tTrain's binary_logloss: 0.231834\tTest's binary_logloss: 0.297293\n",
      "[1320]\tTrain's binary_logloss: 0.229477\tTest's binary_logloss: 0.297352\n",
      "[1360]\tTrain's binary_logloss: 0.22656\tTest's binary_logloss: 0.297319\n",
      "[1400]\tTrain's binary_logloss: 0.225647\tTest's binary_logloss: 0.298273\n",
      "[1440]\tTrain's binary_logloss: 0.22276\tTest's binary_logloss: 0.29819\n",
      "[1480]\tTrain's binary_logloss: 0.219817\tTest's binary_logloss: 0.296688\n",
      "[1520]\tTrain's binary_logloss: 0.217255\tTest's binary_logloss: 0.295993\n",
      "[1560]\tTrain's binary_logloss: 0.213412\tTest's binary_logloss: 0.294908\n",
      "[1600]\tTrain's binary_logloss: 0.211379\tTest's binary_logloss: 0.294885\n",
      "[1640]\tTrain's binary_logloss: 0.209622\tTest's binary_logloss: 0.294417\n",
      "[1680]\tTrain's binary_logloss: 0.208895\tTest's binary_logloss: 0.294757\n",
      "[1720]\tTrain's binary_logloss: 0.207142\tTest's binary_logloss: 0.295366\n",
      "[1760]\tTrain's binary_logloss: 0.205472\tTest's binary_logloss: 0.295407\n",
      "[1800]\tTrain's binary_logloss: 0.202966\tTest's binary_logloss: 0.294496\n",
      "[1840]\tTrain's binary_logloss: 0.201634\tTest's binary_logloss: 0.294428\n",
      "[1880]\tTrain's binary_logloss: 0.200975\tTest's binary_logloss: 0.295022\n",
      "[1920]\tTrain's binary_logloss: 0.20002\tTest's binary_logloss: 0.295826\n",
      "[1960]\tTrain's binary_logloss: 0.199398\tTest's binary_logloss: 0.296007\n",
      "[2000]\tTrain's binary_logloss: 0.197629\tTest's binary_logloss: 0.296842\n",
      "[2040]\tTrain's binary_logloss: 0.197194\tTest's binary_logloss: 0.297319\n",
      "[2080]\tTrain's binary_logloss: 0.196214\tTest's binary_logloss: 0.297785\n",
      "[2120]\tTrain's binary_logloss: 0.194179\tTest's binary_logloss: 0.298907\n",
      "[2160]\tTrain's binary_logloss: 0.193418\tTest's binary_logloss: 0.299313\n",
      "[2200]\tTrain's binary_logloss: 0.192102\tTest's binary_logloss: 0.298633\n",
      "[2240]\tTrain's binary_logloss: 0.191033\tTest's binary_logloss: 0.298427\n",
      "[2280]\tTrain's binary_logloss: 0.189\tTest's binary_logloss: 0.2992\n",
      "[2320]\tTrain's binary_logloss: 0.18677\tTest's binary_logloss: 0.300517\n",
      "[2360]\tTrain's binary_logloss: 0.186025\tTest's binary_logloss: 0.300607\n",
      "[2400]\tTrain's binary_logloss: 0.185247\tTest's binary_logloss: 0.3015\n",
      "[2440]\tTrain's binary_logloss: 0.184572\tTest's binary_logloss: 0.3013\n",
      "[2480]\tTrain's binary_logloss: 0.182943\tTest's binary_logloss: 0.303059\n",
      "[2520]\tTrain's binary_logloss: 0.181901\tTest's binary_logloss: 0.304451\n",
      "[2560]\tTrain's binary_logloss: 0.181489\tTest's binary_logloss: 0.304791\n",
      "[2600]\tTrain's binary_logloss: 0.18065\tTest's binary_logloss: 0.305054\n",
      "[2640]\tTrain's binary_logloss: 0.179265\tTest's binary_logloss: 0.306116\n",
      "Early stopping, best iteration is:\n",
      "[1650]\tTrain's binary_logloss: 0.209631\tTest's binary_logloss: 0.294111\n"
     ]
    }
   ],
   "source": [
    "#light gbm\n",
    "\n",
    "lgbParams = {\n",
    "    'boosting': 'dart',          # dart (drop out trees) often performs better\n",
    "    'application': 'binary',     # Binary classification\n",
    "    'learning_rate': 0.02,       # Learning rate, controls size of a gradient descent step\n",
    "    'max_data_in_leaf': 20,      # Data set is quite small so reduce this a bit\n",
    "    'feature_fraction': 0.6,     # Proportion of features in each boost, controls overfitting\n",
    "    'num_leaves': 21,            # Controls size of tree since LGBM uses leaf wise splits\n",
    "    'metric': 'binary_logloss',  # Area under ROC curve as the evaulation metric\n",
    "    'drop_rate': 0.15\n",
    "}\n",
    "\n",
    "#学習\n",
    "evaluationResults = {}\n",
    "lgbModel = lgb.train(train_set=lgbTrain,\n",
    "                     params=lgbParams,\n",
    "                     valid_sets=[lgbTrain, lgbTest], \n",
    "                     valid_names=['Train', 'Test'],\n",
    "                     evals_result=evaluationResults,\n",
    "                     num_boost_round=5000,\n",
    "                     early_stopping_rounds=1000,\n",
    "                     verbose_eval=40\n",
    "                    )\n",
    "\n",
    "optimum_boost_rounds = lgbModel.best_iteration"
   ]
  },
  {
   "cell_type": "code",
   "execution_count": 155,
   "metadata": {},
   "outputs": [
    {
     "data": {
      "image/png": "[encoded data removed]",
      "text/plain": [
       "<matplotlib.figure.Figure at 0x7f7ad2f65048>"
      ]
     },
     "metadata": {},
     "output_type": "display_data"
    }
   ],
   "source": [
    "fig, axs = plt.subplots(1, 2, figsize=[15, 4])\n",
    "\n",
    "# Plot the log loss during training\n",
    "axs[0].plot(evaluationResults['Train']['binary_logloss'], label='Train')\n",
    "axs[0].plot(evaluationResults['Test']['binary_logloss'], label='Test')\n",
    "axs[0].set_ylabel('Log loss')\n",
    "axs[0].set_xlabel('Boosting round')\n",
    "axs[0].set_title('Training performance')\n",
    "axs[0].legend()\n",
    "\n",
    "# Plot feature importance\n",
    "importances = pd.DataFrame({'features': lgbModel.feature_name(), \n",
    "                            'importance': lgbModel.feature_importance()}).sort_values('importance', ascending=False)\n",
    "axs[1].bar(x=np.arange(len(importances)), height=importances['importance'])\n",
    "axs[1].set_xticks(np.arange(len(importances)))\n",
    "axs[1].set_xticklabels(importances['features'])\n",
    "axs[1].set_ylabel('Feature importance (# times used to split)')\n",
    "axs[1].set_title('Feature importance')\n",
    "\n",
    "plt.tight_layout()\n",
    "plt.show()"
   ]
  },
  {
   "cell_type": "code",
   "execution_count": 156,
   "metadata": {},
   "outputs": [
    {
     "data": {
      "image/png": "[encoded data removed]",
      "text/plain": [
       "<matplotlib.figure.Figure at 0x7f7ad2d23c50>"
      ]
     },
     "metadata": {},
     "output_type": "display_data"
    }
   ],
   "source": [
    "features = X_train.columns\n",
    "importances = lgbModel.feature_importance()\n",
    "indices = np.argsort(importances)\n",
    "\n",
    "plt.figure(figsize=(12,8))\n",
    "plt.barh(range(len(indices)), importances[indices], color='b', align='center')\n",
    "plt.yticks(range(len(indices)), features[indices])\n",
    "plt.show()"
   ]
  },
  {
   "cell_type": "code",
   "execution_count": null,
   "metadata": {},
   "outputs": [],
   "source": [
    "from sklearn.metrics import accuracy_score, recall_score, precision_score, f1_score\n",
    "preds = np.round(lgbModel.predict(X_test))\n",
    "print('Accuracy score = \\t {}'.format(accuracy_score(y_test, preds)))\n",
    "print('Precision score = \\t {}'.format(precision_score(y_test, preds)))\n",
    "print('Recall score =   \\t {}'.format(recall_score(y_test, preds)))\n",
    "print('F1 score =      \\t {}'.format(f1_score(y_test, preds)))"
   ]
  },
  {
   "cell_type": "code",
   "execution_count": null,
   "metadata": {},
   "outputs": [],
   "source": [
    "#予測用datasetで予測\n",
    "lgbFinal = lgb.train(train_set=lgbFinalTrain,\n",
    "                      params=lgbParams,\n",
    "                      num_boost_round=optimum_boost_rounds,\n",
    "                      verbose_eval=0\n",
    "                      )\n",
    "\n",
    "lgbPred = np.round(lgbFinal.predict(test)).astype(int)"
   ]
  },
  {
   "cell_type": "code",
   "execution_count": null,
   "metadata": {},
   "outputs": [],
   "source": [
    "# テスト値を再読み込みして，randomForestでクラス分類したカラムを追加\n",
    "df_out = pd.read_csv(\"./data/test.csv\")\n",
    "testLabels = pd.Series(lgbPred)\n",
    "df_out[\"Survived\"] = testLabels\n",
    "\n",
    "# outputディレクトリに出力する\n",
    "df_out[[\"PassengerId\",\"Survived\"]].to_csv(\"./data/lgbSubmission11.csv\",index=False)"
   ]
  },
  {
   "cell_type": "code",
   "execution_count": null,
   "metadata": {},
   "outputs": [],
   "source": []
  },
  {
   "cell_type": "code",
   "execution_count": null,
   "metadata": {},
   "outputs": [],
   "source": []
  },
  {
   "cell_type": "code",
   "execution_count": null,
   "metadata": {},
   "outputs": [],
   "source": [
    "#特徴量選択してもう一回"
   ]
  },
  {
   "cell_type": "code",
   "execution_count": null,
   "metadata": {},
   "outputs": [],
   "source": [
    "trainCp = train\n",
    "testCp = test"
   ]
  },
  {
   "cell_type": "code",
   "execution_count": null,
   "metadata": {},
   "outputs": [],
   "source": [
    "#train data と test data をそれぞれ特徴量とラベルに分ける\n",
    "trainFeatures = trainCp.drop(columns='Survived')\n",
    "trainLabels = trainCp.Survived"
   ]
  },
  {
   "cell_type": "code",
   "execution_count": null,
   "metadata": {},
   "outputs": [],
   "source": []
  },
  {
   "cell_type": "code",
   "execution_count": null,
   "metadata": {},
   "outputs": [],
   "source": [
    "#SFSでの特徴選択\n",
    "from sklearn.neighbors import KNeighborsClassifier\n",
    "from mlxtend.feature_selection import SequentialFeatureSelector as SFS\n",
    "from mlxtend.plotting import plot_sequential_feature_selection as plot_sfs\n",
    "import matplotlib.pyplot as plt\n",
    "\n",
    "knn = KNeighborsClassifier(n_neighbors=4)\n",
    "\n",
    "sfs = SFS(knn, #学習器\n",
    "          k_features=7, #特徴の最大選択数\n",
    "          forward=True, #Trueでforward selection, Falseでback\n",
    "          floating=False, #forward selectionの亜種を行うためのもの\n",
    "          scoring='accuracy', #評価指標\n",
    "          cv=5) #クロスバリデーション(cv=0とすると、最終的に選ばれる特徴が変わる)\n",
    "\n",
    "sfs = sfs.fit(trainFeatures, trainLabels)\n",
    "\n",
    "fig1 = plot_sfs(sfs.get_metric_dict(), kind='std_dev')\n",
    "\n",
    "plt.ylim([0.7, 0.9])\n",
    "plt.grid()\n",
    "plt.show()"
   ]
  },
  {
   "cell_type": "code",
   "execution_count": null,
   "metadata": {},
   "outputs": [],
   "source": [
    "sfs = sfs.fit(trainFeatures, trainLabels)\n",
    "sfs.subsets_"
   ]
  },
  {
   "cell_type": "code",
   "execution_count": null,
   "metadata": {},
   "outputs": [],
   "source": [
    "#knnを使ったSFSの結果より4つの特徴を選択\n",
    "trainFeatures = trainFeatures.drop(columns=['SibSp', 'Age', 'Fare'])\n",
    "testCp = testCp.drop(columns=['SibSp', 'Age', 'Fare'])"
   ]
  },
  {
   "cell_type": "code",
   "execution_count": null,
   "metadata": {},
   "outputs": [],
   "source": [
    "#相関関係より4つの特徴を選択\n",
    "#trainFeatures = trainFeatures.drop(columns=['SibSp', 'Age', 'Parch'])\n",
    "#testCp = testCp.drop(columns=['SibSp', 'Age', 'Parch'])"
   ]
  },
  {
   "cell_type": "code",
   "execution_count": null,
   "metadata": {},
   "outputs": [],
   "source": [
    "trainFeatures.head()"
   ]
  },
  {
   "cell_type": "code",
   "execution_count": null,
   "metadata": {},
   "outputs": [],
   "source": [
    "#light gbm 用データ分割\n",
    "X_train, X_test, y_train, y_test = train_test_split(trainFeatures, trainLabels, test_size=0.2, random_state=72)\n",
    "\n",
    "#モデル用dataset生成\n",
    "import lightgbm as lgb\n",
    "lgbTrain = lgb.Dataset(X_train, y_train)\n",
    "lgbTest = lgb.Dataset(X_test, y_test)\n",
    "lgbFinalTrain = lgb.Dataset(trainFeatures, trainLabels)"
   ]
  },
  {
   "cell_type": "code",
   "execution_count": null,
   "metadata": {
    "scrolled": false
   },
   "outputs": [],
   "source": [
    "#light gbm\n",
    "\n",
    "lgbParams = {\n",
    "    'boosting': 'dart',          # dart (drop out trees) often performs better\n",
    "    'application': 'binary',     # Binary classification\n",
    "    'learning_rate': 0.02,       # Learning rate, controls size of a gradient descent step\n",
    "    'min_data_in_leaf': 20,      # Data set is quite small so reduce this a bit\n",
    "    'feature_fraction': 0.7,     # Proportion of features in each boost, controls overfitting\n",
    "    'num_leaves': 41,            # Controls size of tree since LGBM uses leaf wise splits\n",
    "    'metric': 'binary_logloss',  # Area under ROC curve as the evaulation metric\n",
    "    'drop_rate': 0.15\n",
    "}\n",
    "\n",
    "#学習\n",
    "evaluationResults = {}\n",
    "lgbModel = lgb.train(train_set=lgbTrain,\n",
    "                     params=lgbParams,\n",
    "                     valid_sets=[lgbTrain, lgbTest], \n",
    "                     valid_names=['Train', 'Test'],\n",
    "                     evals_result=evaluationResults,\n",
    "                     num_boost_round=500,\n",
    "                     early_stopping_rounds=100,\n",
    "                     verbose_eval=20\n",
    "                    )\n",
    "\n",
    "optimum_boost_rounds = lgbModel.best_iteration"
   ]
  },
  {
   "cell_type": "code",
   "execution_count": null,
   "metadata": {},
   "outputs": [],
   "source": [
    "fig, axs = plt.subplots(1, 2, figsize=[15, 4])\n",
    "\n",
    "# Plot the log loss during training\n",
    "axs[0].plot(evaluationResults['Train']['binary_logloss'], label='Train')\n",
    "axs[0].plot(evaluationResults['Test']['binary_logloss'], label='Test')\n",
    "axs[0].set_ylabel('Log loss')\n",
    "axs[0].set_xlabel('Boosting round')\n",
    "axs[0].set_title('Training performance')\n",
    "axs[0].legend()\n",
    "\n",
    "# Plot feature importance\n",
    "importances = pd.DataFrame({'features': lgbModel.feature_name(), \n",
    "                            'importance': lgbModel.feature_importance()}).sort_values('importance', ascending=False)\n",
    "axs[1].bar(x=np.arange(len(importances)), height=importances['importance'])\n",
    "axs[1].set_xticks(np.arange(len(importances)))\n",
    "axs[1].set_xticklabels(importances['features'])\n",
    "axs[1].set_ylabel('Feature importance (# times used to split)')\n",
    "axs[1].set_title('Feature importance')\n",
    "\n",
    "plt.show()"
   ]
  },
  {
   "cell_type": "code",
   "execution_count": null,
   "metadata": {},
   "outputs": [],
   "source": [
    "preds = np.round(lgbModel.predict(X_test))\n",
    "print('Accuracy score = \\t {}'.format(accuracy_score(y_test, preds)))\n",
    "print('Precision score = \\t {}'.format(precision_score(y_test, preds)))\n",
    "print('Recall score =   \\t {}'.format(recall_score(y_test, preds)))\n",
    "print('F1 score =      \\t {}'.format(f1_score(y_test, preds)))"
   ]
  },
  {
   "cell_type": "code",
   "execution_count": null,
   "metadata": {},
   "outputs": [],
   "source": [
    "#予測用datasetで予測\n",
    "lgbFinal = lgb.train(train_set=lgbFinalTrain,\n",
    "                      params=lgbParams,\n",
    "                      num_boost_round=optimum_boost_rounds,\n",
    "                      verbose_eval=0\n",
    "                      )\n",
    "\n",
    "lgbPred = np.round(lgbFinal.predict(test)).astype(int)"
   ]
  },
  {
   "cell_type": "code",
   "execution_count": null,
   "metadata": {},
   "outputs": [],
   "source": [
    "# テスト値を再読み込みして，randomForestでクラス分類したカラムを追加\n",
    "df_out = pd.read_csv(\"./data/test.csv\")\n",
    "lgbPred = pd.Series(lgbPred)\n",
    "df_out[\"Survived\"] = lgbPred\n",
    "\n",
    "# outputディレクトリに出力する\n",
    "df_out[[\"PassengerId\",\"Survived\"]].to_csv(\"./data/lgbSubmission4.csv\",index=False)"
   ]
  },
  {
   "cell_type": "code",
   "execution_count": null,
   "metadata": {},
   "outputs": [],
   "source": []
  },
  {
   "cell_type": "code",
   "execution_count": null,
   "metadata": {},
   "outputs": [],
   "source": []
  },
  {
   "cell_type": "code",
   "execution_count": null,
   "metadata": {},
   "outputs": [],
   "source": []
  },
  {
   "cell_type": "code",
   "execution_count": null,
   "metadata": {},
   "outputs": [],
   "source": [
    "#PCA\n",
    "from sklearn.decomposition import PCA\n",
    "import seaborn as sns"
   ]
  },
  {
   "cell_type": "code",
   "execution_count": null,
   "metadata": {},
   "outputs": [],
   "source": [
    "sns.pairplot(trainFeatures)"
   ]
  },
  {
   "cell_type": "code",
   "execution_count": null,
   "metadata": {},
   "outputs": [],
   "source": [
    "#次元圧縮\n",
    "pca = PCA(n_components=5)\n",
    "trainFeatures = pca.fit_transform(trainFeatures.values)\n",
    "trainFeatures = pd.DataFrame(trainFeatures)"
   ]
  },
  {
   "cell_type": "code",
   "execution_count": null,
   "metadata": {},
   "outputs": [],
   "source": [
    "trainFeatures.head()"
   ]
  },
  {
   "cell_type": "code",
   "execution_count": null,
   "metadata": {},
   "outputs": [],
   "source": [
    "plt.Figure()\n",
    "plt.scatter(trainFeatures[:,0], trainFeatures[:,1], trainFeatures[:,2])\n",
    "plt.show()"
   ]
  },
  {
   "cell_type": "code",
   "execution_count": null,
   "metadata": {},
   "outputs": [],
   "source": [
    "#light gbm 用データ分割\n",
    "X_train, X_test, y_train, y_test = train_test_split(trainFeatures, trainLabels, test_size=0.2, random_state=72)\n",
    "\n",
    "#モデル用dataset生成\n",
    "import lightgbm as lgb\n",
    "lgbTrain = lgb.Dataset(X_train, y_train)\n",
    "lgbTest = lgb.Dataset(X_test, y_test)\n",
    "lgbFinalTrain = lgb.Dataset(trainFeatures, trainLabels)"
   ]
  },
  {
   "cell_type": "code",
   "execution_count": null,
   "metadata": {},
   "outputs": [],
   "source": [
    "#light gbm\n",
    "\n",
    "lgbParams = {\n",
    "    'boosting': 'dart',          # dart (drop out trees) often performs better\n",
    "    'application': 'binary',     # Binary classification\n",
    "    'learning_rate': 0.02,       # Learning rate, controls size of a gradient descent step\n",
    "    'min_data_in_leaf': 20,      # Data set is quite small so reduce this a bit\n",
    "    'feature_fraction': 0.7,     # Proportion of features in each boost, controls overfitting\n",
    "    'num_leaves': 41,            # Controls size of tree since LGBM uses leaf wise splits\n",
    "    'metric': 'binary_logloss',  # Area under ROC curve as the evaulation metric\n",
    "    'drop_rate': 0.15\n",
    "}\n",
    "\n",
    "#学習\n",
    "evaluationResults = {}\n",
    "lgbModel = lgb.train(train_set=lgbTrain,\n",
    "                     params=lgbParams,\n",
    "                     valid_sets=[lgbTrain, lgbTest], \n",
    "                     valid_names=['Train', 'Test'],\n",
    "                     evals_result=evaluationResults,\n",
    "                     num_boost_round=500,\n",
    "                     early_stopping_rounds=100,\n",
    "                     verbose_eval=20\n",
    "                    )\n",
    "\n",
    "optimum_boost_rounds = lgbModel.best_iteration"
   ]
  },
  {
   "cell_type": "code",
   "execution_count": null,
   "metadata": {},
   "outputs": [],
   "source": [
    "fig, axs = plt.subplots(1, 2, figsize=[15, 4])\n",
    "\n",
    "# Plot the log loss during training\n",
    "axs[0].plot(evaluationResults['Train']['binary_logloss'], label='Train')\n",
    "axs[0].plot(evaluationResults['Test']['binary_logloss'], label='Test')\n",
    "axs[0].set_ylabel('Log loss')\n",
    "axs[0].set_xlabel('Boosting round')\n",
    "axs[0].set_title('Training performance')\n",
    "axs[0].legend()\n",
    "\n",
    "# Plot feature importance\n",
    "importances = pd.DataFrame({'features': lgbModel.feature_name(), \n",
    "                            'importance': lgbModel.feature_importance()}).sort_values('importance', ascending=False)\n",
    "axs[1].bar(x=np.arange(len(importances)), height=importances['importance'])\n",
    "axs[1].set_xticks(np.arange(len(importances)))\n",
    "axs[1].set_xticklabels(importances['features'])\n",
    "axs[1].set_ylabel('Feature importance (# times used to split)')\n",
    "axs[1].set_title('Feature importance')\n",
    "\n",
    "plt.show()"
   ]
  },
  {
   "cell_type": "code",
   "execution_count": null,
   "metadata": {},
   "outputs": [],
   "source": [
    "preds = np.round(lgbModel.predict(X_test))\n",
    "print('Accuracy score = \\t {}'.format(accuracy_score(y_test, preds)))\n",
    "print('Precision score = \\t {}'.format(precision_score(y_test, preds)))\n",
    "print('Recall score =   \\t {}'.format(recall_score(y_test, preds)))\n",
    "print('F1 score =      \\t {}'.format(f1_score(y_test, preds)))"
   ]
  },
  {
   "cell_type": "code",
   "execution_count": null,
   "metadata": {},
   "outputs": [],
   "source": []
  }
 ],
 "metadata": {
  "kernelspec": {
   "display_name": "Python 3",
   "language": "python",
   "name": "python3"
  },
  "language_info": {
   "codemirror_mode": {
    "name": "ipython",
    "version": 3
   },
   "file_extension": ".py",
   "mimetype": "text/x-python",
   "name": "python",
   "nbconvert_exporter": "python",
   "pygments_lexer": "ipython3",
   "version": "3.6.4"
  }
 },
 "nbformat": 4,
 "nbformat_minor": 2
}
