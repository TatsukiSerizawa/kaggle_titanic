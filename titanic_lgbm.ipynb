{
 "cells": [
  {
   "cell_type": "code",
   "execution_count": 309,
   "metadata": {},
   "outputs": [],
   "source": [
    "import warnings\n",
    "warnings.filterwarnings('ignore') # warningが出ないように設定\n",
    "\n",
    "import pandas as pd\n",
    "import numpy as np\n",
    "import matplotlib.pyplot as plt\n",
    "import missingno as msno\n",
    "from sklearn.preprocessing import LabelEncoder\n",
    "\n",
    "%matplotlib inline\n",
    "\n",
    "\n",
    "pd.set_option(\"display.max_rows\", None) # pandasの表示上限をなくす\n",
    "pd.set_option(\"display.max_columns\", None) # pandasの表示上限をなくす"
   ]
  },
  {
   "cell_type": "code",
   "execution_count": 310,
   "metadata": {},
   "outputs": [],
   "source": [
    "#lgbSubmission.csv: PassengerId\tPclass\tSex\tSibSp\tParch\tFare で学習\n",
    "#lgbSubmission2.csv: Pclass\tSex\tAge\tSibSp\tParch\tFare で学習\n",
    "#lgbSubmission3.csv: Pclass\tSex\tAge\tSibSp\tParch\tFare\tEmbarked で学習\n",
    "#lgbSubmission4.csv: SFSによる特徴選択をして学習\n",
    "#lgbSubmission5.csv: 3.csvのSibSpとParchを合わせたSibSpParchを用いて学習\n",
    "#lgbSubmission6.csv: 5.csvの予測結果のtest dataをtrain dataと結合させて再学習\n",
    "#lgbSubmission7.csv: 右舷と左舷の部屋番号を分けたカラムを追加してAgeをカテゴライズして学習\n",
    "#lgbSubmission7.csv: 7.csvでFareもカテゴライズして学習"
   ]
  },
  {
   "cell_type": "code",
   "execution_count": 311,
   "metadata": {},
   "outputs": [],
   "source": [
    "data_path = './data/'\n",
    "\n",
    "train = pd.read_csv(data_path + 'train.csv')\n",
    "test = pd.read_csv(data_path + 'test.csv')\n",
    "pd.set_option(\"display.max_columns\",1000)"
   ]
  },
  {
   "cell_type": "code",
   "execution_count": 312,
   "metadata": {},
   "outputs": [
    {
     "data": {
      "text/html": [
       "<div>\n",
       "<style scoped>\n",
       "    .dataframe tbody tr th:only-of-type {\n",
       "        vertical-align: middle;\n",
       "    }\n",
       "\n",
       "    .dataframe tbody tr th {\n",
       "        vertical-align: top;\n",
       "    }\n",
       "\n",
       "    .dataframe thead th {\n",
       "        text-align: right;\n",
       "    }\n",
       "</style>\n",
       "<table border=\"1\" class=\"dataframe\">\n",
       "  <thead>\n",
       "    <tr style=\"text-align: right;\">\n",
       "      <th></th>\n",
       "      <th>PassengerId</th>\n",
       "      <th>Survived</th>\n",
       "      <th>Pclass</th>\n",
       "      <th>Name</th>\n",
       "      <th>Sex</th>\n",
       "      <th>Age</th>\n",
       "      <th>SibSp</th>\n",
       "      <th>Parch</th>\n",
       "      <th>Ticket</th>\n",
       "      <th>Fare</th>\n",
       "      <th>Cabin</th>\n",
       "      <th>Embarked</th>\n",
       "    </tr>\n",
       "  </thead>\n",
       "  <tbody>\n",
       "    <tr>\n",
       "      <th>0</th>\n",
       "      <td>1</td>\n",
       "      <td>0</td>\n",
       "      <td>3</td>\n",
       "      <td>Braund, Mr. Owen Harris</td>\n",
       "      <td>male</td>\n",
       "      <td>22.0</td>\n",
       "      <td>1</td>\n",
       "      <td>0</td>\n",
       "      <td>A/5 21171</td>\n",
       "      <td>7.2500</td>\n",
       "      <td>NaN</td>\n",
       "      <td>S</td>\n",
       "    </tr>\n",
       "    <tr>\n",
       "      <th>1</th>\n",
       "      <td>2</td>\n",
       "      <td>1</td>\n",
       "      <td>1</td>\n",
       "      <td>Cumings, Mrs. John Bradley (Florence Briggs Th...</td>\n",
       "      <td>female</td>\n",
       "      <td>38.0</td>\n",
       "      <td>1</td>\n",
       "      <td>0</td>\n",
       "      <td>PC 17599</td>\n",
       "      <td>71.2833</td>\n",
       "      <td>C85</td>\n",
       "      <td>C</td>\n",
       "    </tr>\n",
       "    <tr>\n",
       "      <th>2</th>\n",
       "      <td>3</td>\n",
       "      <td>1</td>\n",
       "      <td>3</td>\n",
       "      <td>Heikkinen, Miss. Laina</td>\n",
       "      <td>female</td>\n",
       "      <td>26.0</td>\n",
       "      <td>0</td>\n",
       "      <td>0</td>\n",
       "      <td>STON/O2. 3101282</td>\n",
       "      <td>7.9250</td>\n",
       "      <td>NaN</td>\n",
       "      <td>S</td>\n",
       "    </tr>\n",
       "    <tr>\n",
       "      <th>3</th>\n",
       "      <td>4</td>\n",
       "      <td>1</td>\n",
       "      <td>1</td>\n",
       "      <td>Futrelle, Mrs. Jacques Heath (Lily May Peel)</td>\n",
       "      <td>female</td>\n",
       "      <td>35.0</td>\n",
       "      <td>1</td>\n",
       "      <td>0</td>\n",
       "      <td>113803</td>\n",
       "      <td>53.1000</td>\n",
       "      <td>C123</td>\n",
       "      <td>S</td>\n",
       "    </tr>\n",
       "    <tr>\n",
       "      <th>4</th>\n",
       "      <td>5</td>\n",
       "      <td>0</td>\n",
       "      <td>3</td>\n",
       "      <td>Allen, Mr. William Henry</td>\n",
       "      <td>male</td>\n",
       "      <td>35.0</td>\n",
       "      <td>0</td>\n",
       "      <td>0</td>\n",
       "      <td>373450</td>\n",
       "      <td>8.0500</td>\n",
       "      <td>NaN</td>\n",
       "      <td>S</td>\n",
       "    </tr>\n",
       "    <tr>\n",
       "      <th>5</th>\n",
       "      <td>6</td>\n",
       "      <td>0</td>\n",
       "      <td>3</td>\n",
       "      <td>Moran, Mr. James</td>\n",
       "      <td>male</td>\n",
       "      <td>NaN</td>\n",
       "      <td>0</td>\n",
       "      <td>0</td>\n",
       "      <td>330877</td>\n",
       "      <td>8.4583</td>\n",
       "      <td>NaN</td>\n",
       "      <td>Q</td>\n",
       "    </tr>\n",
       "    <tr>\n",
       "      <th>6</th>\n",
       "      <td>7</td>\n",
       "      <td>0</td>\n",
       "      <td>1</td>\n",
       "      <td>McCarthy, Mr. Timothy J</td>\n",
       "      <td>male</td>\n",
       "      <td>54.0</td>\n",
       "      <td>0</td>\n",
       "      <td>0</td>\n",
       "      <td>17463</td>\n",
       "      <td>51.8625</td>\n",
       "      <td>E46</td>\n",
       "      <td>S</td>\n",
       "    </tr>\n",
       "    <tr>\n",
       "      <th>7</th>\n",
       "      <td>8</td>\n",
       "      <td>0</td>\n",
       "      <td>3</td>\n",
       "      <td>Palsson, Master. Gosta Leonard</td>\n",
       "      <td>male</td>\n",
       "      <td>2.0</td>\n",
       "      <td>3</td>\n",
       "      <td>1</td>\n",
       "      <td>349909</td>\n",
       "      <td>21.0750</td>\n",
       "      <td>NaN</td>\n",
       "      <td>S</td>\n",
       "    </tr>\n",
       "    <tr>\n",
       "      <th>8</th>\n",
       "      <td>9</td>\n",
       "      <td>1</td>\n",
       "      <td>3</td>\n",
       "      <td>Johnson, Mrs. Oscar W (Elisabeth Vilhelmina Berg)</td>\n",
       "      <td>female</td>\n",
       "      <td>27.0</td>\n",
       "      <td>0</td>\n",
       "      <td>2</td>\n",
       "      <td>347742</td>\n",
       "      <td>11.1333</td>\n",
       "      <td>NaN</td>\n",
       "      <td>S</td>\n",
       "    </tr>\n",
       "    <tr>\n",
       "      <th>9</th>\n",
       "      <td>10</td>\n",
       "      <td>1</td>\n",
       "      <td>2</td>\n",
       "      <td>Nasser, Mrs. Nicholas (Adele Achem)</td>\n",
       "      <td>female</td>\n",
       "      <td>14.0</td>\n",
       "      <td>1</td>\n",
       "      <td>0</td>\n",
       "      <td>237736</td>\n",
       "      <td>30.0708</td>\n",
       "      <td>NaN</td>\n",
       "      <td>C</td>\n",
       "    </tr>\n",
       "  </tbody>\n",
       "</table>\n",
       "</div>"
      ],
      "text/plain": [
       "   PassengerId  Survived  Pclass  \\\n",
       "0            1         0       3   \n",
       "1            2         1       1   \n",
       "2            3         1       3   \n",
       "3            4         1       1   \n",
       "4            5         0       3   \n",
       "5            6         0       3   \n",
       "6            7         0       1   \n",
       "7            8         0       3   \n",
       "8            9         1       3   \n",
       "9           10         1       2   \n",
       "\n",
       "                                                Name     Sex   Age  SibSp  \\\n",
       "0                            Braund, Mr. Owen Harris    male  22.0      1   \n",
       "1  Cumings, Mrs. John Bradley (Florence Briggs Th...  female  38.0      1   \n",
       "2                             Heikkinen, Miss. Laina  female  26.0      0   \n",
       "3       Futrelle, Mrs. Jacques Heath (Lily May Peel)  female  35.0      1   \n",
       "4                           Allen, Mr. William Henry    male  35.0      0   \n",
       "5                                   Moran, Mr. James    male   NaN      0   \n",
       "6                            McCarthy, Mr. Timothy J    male  54.0      0   \n",
       "7                     Palsson, Master. Gosta Leonard    male   2.0      3   \n",
       "8  Johnson, Mrs. Oscar W (Elisabeth Vilhelmina Berg)  female  27.0      0   \n",
       "9                Nasser, Mrs. Nicholas (Adele Achem)  female  14.0      1   \n",
       "\n",
       "   Parch            Ticket     Fare Cabin Embarked  \n",
       "0      0         A/5 21171   7.2500   NaN        S  \n",
       "1      0          PC 17599  71.2833   C85        C  \n",
       "2      0  STON/O2. 3101282   7.9250   NaN        S  \n",
       "3      0            113803  53.1000  C123        S  \n",
       "4      0            373450   8.0500   NaN        S  \n",
       "5      0            330877   8.4583   NaN        Q  \n",
       "6      0             17463  51.8625   E46        S  \n",
       "7      1            349909  21.0750   NaN        S  \n",
       "8      2            347742  11.1333   NaN        S  \n",
       "9      0            237736  30.0708   NaN        C  "
      ]
     },
     "execution_count": 312,
     "metadata": {},
     "output_type": "execute_result"
    }
   ],
   "source": [
    "train.head(10)"
   ]
  },
  {
   "cell_type": "code",
   "execution_count": 313,
   "metadata": {},
   "outputs": [
    {
     "data": {
      "text/html": [
       "<div>\n",
       "<style scoped>\n",
       "    .dataframe tbody tr th:only-of-type {\n",
       "        vertical-align: middle;\n",
       "    }\n",
       "\n",
       "    .dataframe tbody tr th {\n",
       "        vertical-align: top;\n",
       "    }\n",
       "\n",
       "    .dataframe thead th {\n",
       "        text-align: right;\n",
       "    }\n",
       "</style>\n",
       "<table border=\"1\" class=\"dataframe\">\n",
       "  <thead>\n",
       "    <tr style=\"text-align: right;\">\n",
       "      <th></th>\n",
       "      <th>PassengerId</th>\n",
       "      <th>Pclass</th>\n",
       "      <th>Name</th>\n",
       "      <th>Sex</th>\n",
       "      <th>Age</th>\n",
       "      <th>SibSp</th>\n",
       "      <th>Parch</th>\n",
       "      <th>Ticket</th>\n",
       "      <th>Fare</th>\n",
       "      <th>Cabin</th>\n",
       "      <th>Embarked</th>\n",
       "    </tr>\n",
       "  </thead>\n",
       "  <tbody>\n",
       "    <tr>\n",
       "      <th>0</th>\n",
       "      <td>892</td>\n",
       "      <td>3</td>\n",
       "      <td>Kelly, Mr. James</td>\n",
       "      <td>male</td>\n",
       "      <td>34.5</td>\n",
       "      <td>0</td>\n",
       "      <td>0</td>\n",
       "      <td>330911</td>\n",
       "      <td>7.8292</td>\n",
       "      <td>NaN</td>\n",
       "      <td>Q</td>\n",
       "    </tr>\n",
       "    <tr>\n",
       "      <th>1</th>\n",
       "      <td>893</td>\n",
       "      <td>3</td>\n",
       "      <td>Wilkes, Mrs. James (Ellen Needs)</td>\n",
       "      <td>female</td>\n",
       "      <td>47.0</td>\n",
       "      <td>1</td>\n",
       "      <td>0</td>\n",
       "      <td>363272</td>\n",
       "      <td>7.0000</td>\n",
       "      <td>NaN</td>\n",
       "      <td>S</td>\n",
       "    </tr>\n",
       "    <tr>\n",
       "      <th>2</th>\n",
       "      <td>894</td>\n",
       "      <td>2</td>\n",
       "      <td>Myles, Mr. Thomas Francis</td>\n",
       "      <td>male</td>\n",
       "      <td>62.0</td>\n",
       "      <td>0</td>\n",
       "      <td>0</td>\n",
       "      <td>240276</td>\n",
       "      <td>9.6875</td>\n",
       "      <td>NaN</td>\n",
       "      <td>Q</td>\n",
       "    </tr>\n",
       "    <tr>\n",
       "      <th>3</th>\n",
       "      <td>895</td>\n",
       "      <td>3</td>\n",
       "      <td>Wirz, Mr. Albert</td>\n",
       "      <td>male</td>\n",
       "      <td>27.0</td>\n",
       "      <td>0</td>\n",
       "      <td>0</td>\n",
       "      <td>315154</td>\n",
       "      <td>8.6625</td>\n",
       "      <td>NaN</td>\n",
       "      <td>S</td>\n",
       "    </tr>\n",
       "    <tr>\n",
       "      <th>4</th>\n",
       "      <td>896</td>\n",
       "      <td>3</td>\n",
       "      <td>Hirvonen, Mrs. Alexander (Helga E Lindqvist)</td>\n",
       "      <td>female</td>\n",
       "      <td>22.0</td>\n",
       "      <td>1</td>\n",
       "      <td>1</td>\n",
       "      <td>3101298</td>\n",
       "      <td>12.2875</td>\n",
       "      <td>NaN</td>\n",
       "      <td>S</td>\n",
       "    </tr>\n",
       "  </tbody>\n",
       "</table>\n",
       "</div>"
      ],
      "text/plain": [
       "   PassengerId  Pclass                                          Name     Sex  \\\n",
       "0          892       3                              Kelly, Mr. James    male   \n",
       "1          893       3              Wilkes, Mrs. James (Ellen Needs)  female   \n",
       "2          894       2                     Myles, Mr. Thomas Francis    male   \n",
       "3          895       3                              Wirz, Mr. Albert    male   \n",
       "4          896       3  Hirvonen, Mrs. Alexander (Helga E Lindqvist)  female   \n",
       "\n",
       "    Age  SibSp  Parch   Ticket     Fare Cabin Embarked  \n",
       "0  34.5      0      0   330911   7.8292   NaN        Q  \n",
       "1  47.0      1      0   363272   7.0000   NaN        S  \n",
       "2  62.0      0      0   240276   9.6875   NaN        Q  \n",
       "3  27.0      0      0   315154   8.6625   NaN        S  \n",
       "4  22.0      1      1  3101298  12.2875   NaN        S  "
      ]
     },
     "execution_count": 313,
     "metadata": {},
     "output_type": "execute_result"
    }
   ],
   "source": [
    "test.head()"
   ]
  },
  {
   "cell_type": "code",
   "execution_count": 314,
   "metadata": {},
   "outputs": [
    {
     "data": {
      "text/html": [
       "<div>\n",
       "<style scoped>\n",
       "    .dataframe tbody tr th:only-of-type {\n",
       "        vertical-align: middle;\n",
       "    }\n",
       "\n",
       "    .dataframe tbody tr th {\n",
       "        vertical-align: top;\n",
       "    }\n",
       "\n",
       "    .dataframe thead th {\n",
       "        text-align: right;\n",
       "    }\n",
       "</style>\n",
       "<table border=\"1\" class=\"dataframe\">\n",
       "  <thead>\n",
       "    <tr style=\"text-align: right;\">\n",
       "      <th></th>\n",
       "      <th>PassengerId</th>\n",
       "      <th>Survived</th>\n",
       "      <th>Pclass</th>\n",
       "      <th>Age</th>\n",
       "      <th>SibSp</th>\n",
       "      <th>Parch</th>\n",
       "      <th>Fare</th>\n",
       "    </tr>\n",
       "  </thead>\n",
       "  <tbody>\n",
       "    <tr>\n",
       "      <th>PassengerId</th>\n",
       "      <td>1.000000</td>\n",
       "      <td>-0.005007</td>\n",
       "      <td>-0.035144</td>\n",
       "      <td>0.036847</td>\n",
       "      <td>-0.057527</td>\n",
       "      <td>-0.001652</td>\n",
       "      <td>0.012658</td>\n",
       "    </tr>\n",
       "    <tr>\n",
       "      <th>Survived</th>\n",
       "      <td>-0.005007</td>\n",
       "      <td>1.000000</td>\n",
       "      <td>-0.338481</td>\n",
       "      <td>-0.077221</td>\n",
       "      <td>-0.035322</td>\n",
       "      <td>0.081629</td>\n",
       "      <td>0.257307</td>\n",
       "    </tr>\n",
       "    <tr>\n",
       "      <th>Pclass</th>\n",
       "      <td>-0.035144</td>\n",
       "      <td>-0.338481</td>\n",
       "      <td>1.000000</td>\n",
       "      <td>-0.369226</td>\n",
       "      <td>0.083081</td>\n",
       "      <td>0.018443</td>\n",
       "      <td>-0.549500</td>\n",
       "    </tr>\n",
       "    <tr>\n",
       "      <th>Age</th>\n",
       "      <td>0.036847</td>\n",
       "      <td>-0.077221</td>\n",
       "      <td>-0.369226</td>\n",
       "      <td>1.000000</td>\n",
       "      <td>-0.308247</td>\n",
       "      <td>-0.189119</td>\n",
       "      <td>0.096067</td>\n",
       "    </tr>\n",
       "    <tr>\n",
       "      <th>SibSp</th>\n",
       "      <td>-0.057527</td>\n",
       "      <td>-0.035322</td>\n",
       "      <td>0.083081</td>\n",
       "      <td>-0.308247</td>\n",
       "      <td>1.000000</td>\n",
       "      <td>0.414838</td>\n",
       "      <td>0.159651</td>\n",
       "    </tr>\n",
       "    <tr>\n",
       "      <th>Parch</th>\n",
       "      <td>-0.001652</td>\n",
       "      <td>0.081629</td>\n",
       "      <td>0.018443</td>\n",
       "      <td>-0.189119</td>\n",
       "      <td>0.414838</td>\n",
       "      <td>1.000000</td>\n",
       "      <td>0.216225</td>\n",
       "    </tr>\n",
       "    <tr>\n",
       "      <th>Fare</th>\n",
       "      <td>0.012658</td>\n",
       "      <td>0.257307</td>\n",
       "      <td>-0.549500</td>\n",
       "      <td>0.096067</td>\n",
       "      <td>0.159651</td>\n",
       "      <td>0.216225</td>\n",
       "      <td>1.000000</td>\n",
       "    </tr>\n",
       "  </tbody>\n",
       "</table>\n",
       "</div>"
      ],
      "text/plain": [
       "             PassengerId  Survived    Pclass       Age     SibSp     Parch  \\\n",
       "PassengerId     1.000000 -0.005007 -0.035144  0.036847 -0.057527 -0.001652   \n",
       "Survived       -0.005007  1.000000 -0.338481 -0.077221 -0.035322  0.081629   \n",
       "Pclass         -0.035144 -0.338481  1.000000 -0.369226  0.083081  0.018443   \n",
       "Age             0.036847 -0.077221 -0.369226  1.000000 -0.308247 -0.189119   \n",
       "SibSp          -0.057527 -0.035322  0.083081 -0.308247  1.000000  0.414838   \n",
       "Parch          -0.001652  0.081629  0.018443 -0.189119  0.414838  1.000000   \n",
       "Fare            0.012658  0.257307 -0.549500  0.096067  0.159651  0.216225   \n",
       "\n",
       "                 Fare  \n",
       "PassengerId  0.012658  \n",
       "Survived     0.257307  \n",
       "Pclass      -0.549500  \n",
       "Age          0.096067  \n",
       "SibSp        0.159651  \n",
       "Parch        0.216225  \n",
       "Fare         1.000000  "
      ]
     },
     "execution_count": 314,
     "metadata": {},
     "output_type": "execute_result"
    }
   ],
   "source": [
    "train.corr()"
   ]
  },
  {
   "cell_type": "code",
   "execution_count": 315,
   "metadata": {},
   "outputs": [
    {
     "data": {
      "text/plain": [
       "<matplotlib.axes._subplots.AxesSubplot at 0x7f381012b2b0>"
      ]
     },
     "execution_count": 315,
     "metadata": {},
     "output_type": "execute_result"
    },
    {
     "data": {
      "image/png": "[encoded data removed]",
      "text/plain": [
       "<matplotlib.figure.Figure at 0x7f381017ad68>"
      ]
     },
     "metadata": {},
     "output_type": "display_data"
    }
   ],
   "source": [
    "msno.matrix(train)"
   ]
  },
  {
   "cell_type": "code",
   "execution_count": 316,
   "metadata": {},
   "outputs": [],
   "source": [
    "## 欠損値の数と割合を返す\n",
    "def missing_columns(df):\n",
    "    total = df.isnull().sum().sort_values(ascending = False)\n",
    "    percent = (df.isnull().sum()/df.isnull().count()*100).sort_values(ascending = False)\n",
    "    missing_data  = pd.concat([total, percent], axis=1, keys=['Total', 'Percent'])\n",
    "    return missing_data"
   ]
  },
  {
   "cell_type": "code",
   "execution_count": 317,
   "metadata": {},
   "outputs": [
    {
     "data": {
      "text/html": [
       "<div>\n",
       "<style scoped>\n",
       "    .dataframe tbody tr th:only-of-type {\n",
       "        vertical-align: middle;\n",
       "    }\n",
       "\n",
       "    .dataframe tbody tr th {\n",
       "        vertical-align: top;\n",
       "    }\n",
       "\n",
       "    .dataframe thead th {\n",
       "        text-align: right;\n",
       "    }\n",
       "</style>\n",
       "<table border=\"1\" class=\"dataframe\">\n",
       "  <thead>\n",
       "    <tr style=\"text-align: right;\">\n",
       "      <th></th>\n",
       "      <th>Total</th>\n",
       "      <th>Percent</th>\n",
       "    </tr>\n",
       "  </thead>\n",
       "  <tbody>\n",
       "    <tr>\n",
       "      <th>Cabin</th>\n",
       "      <td>687</td>\n",
       "      <td>77.104377</td>\n",
       "    </tr>\n",
       "    <tr>\n",
       "      <th>Age</th>\n",
       "      <td>177</td>\n",
       "      <td>19.865320</td>\n",
       "    </tr>\n",
       "    <tr>\n",
       "      <th>Embarked</th>\n",
       "      <td>2</td>\n",
       "      <td>0.224467</td>\n",
       "    </tr>\n",
       "    <tr>\n",
       "      <th>Fare</th>\n",
       "      <td>0</td>\n",
       "      <td>0.000000</td>\n",
       "    </tr>\n",
       "    <tr>\n",
       "      <th>Ticket</th>\n",
       "      <td>0</td>\n",
       "      <td>0.000000</td>\n",
       "    </tr>\n",
       "    <tr>\n",
       "      <th>Parch</th>\n",
       "      <td>0</td>\n",
       "      <td>0.000000</td>\n",
       "    </tr>\n",
       "    <tr>\n",
       "      <th>SibSp</th>\n",
       "      <td>0</td>\n",
       "      <td>0.000000</td>\n",
       "    </tr>\n",
       "    <tr>\n",
       "      <th>Sex</th>\n",
       "      <td>0</td>\n",
       "      <td>0.000000</td>\n",
       "    </tr>\n",
       "    <tr>\n",
       "      <th>Name</th>\n",
       "      <td>0</td>\n",
       "      <td>0.000000</td>\n",
       "    </tr>\n",
       "    <tr>\n",
       "      <th>Pclass</th>\n",
       "      <td>0</td>\n",
       "      <td>0.000000</td>\n",
       "    </tr>\n",
       "    <tr>\n",
       "      <th>Survived</th>\n",
       "      <td>0</td>\n",
       "      <td>0.000000</td>\n",
       "    </tr>\n",
       "    <tr>\n",
       "      <th>PassengerId</th>\n",
       "      <td>0</td>\n",
       "      <td>0.000000</td>\n",
       "    </tr>\n",
       "  </tbody>\n",
       "</table>\n",
       "</div>"
      ],
      "text/plain": [
       "             Total    Percent\n",
       "Cabin          687  77.104377\n",
       "Age            177  19.865320\n",
       "Embarked         2   0.224467\n",
       "Fare             0   0.000000\n",
       "Ticket           0   0.000000\n",
       "Parch            0   0.000000\n",
       "SibSp            0   0.000000\n",
       "Sex              0   0.000000\n",
       "Name             0   0.000000\n",
       "Pclass           0   0.000000\n",
       "Survived         0   0.000000\n",
       "PassengerId      0   0.000000"
      ]
     },
     "execution_count": 317,
     "metadata": {},
     "output_type": "execute_result"
    }
   ],
   "source": [
    "missing_columns(train)"
   ]
  },
  {
   "cell_type": "code",
   "execution_count": 318,
   "metadata": {},
   "outputs": [
    {
     "data": {
      "text/html": [
       "<div>\n",
       "<style scoped>\n",
       "    .dataframe tbody tr th:only-of-type {\n",
       "        vertical-align: middle;\n",
       "    }\n",
       "\n",
       "    .dataframe tbody tr th {\n",
       "        vertical-align: top;\n",
       "    }\n",
       "\n",
       "    .dataframe thead th {\n",
       "        text-align: right;\n",
       "    }\n",
       "</style>\n",
       "<table border=\"1\" class=\"dataframe\">\n",
       "  <thead>\n",
       "    <tr style=\"text-align: right;\">\n",
       "      <th></th>\n",
       "      <th>Total</th>\n",
       "      <th>Percent</th>\n",
       "    </tr>\n",
       "  </thead>\n",
       "  <tbody>\n",
       "    <tr>\n",
       "      <th>Cabin</th>\n",
       "      <td>327</td>\n",
       "      <td>78.229665</td>\n",
       "    </tr>\n",
       "    <tr>\n",
       "      <th>Age</th>\n",
       "      <td>86</td>\n",
       "      <td>20.574163</td>\n",
       "    </tr>\n",
       "    <tr>\n",
       "      <th>Fare</th>\n",
       "      <td>1</td>\n",
       "      <td>0.239234</td>\n",
       "    </tr>\n",
       "    <tr>\n",
       "      <th>Embarked</th>\n",
       "      <td>0</td>\n",
       "      <td>0.000000</td>\n",
       "    </tr>\n",
       "    <tr>\n",
       "      <th>Ticket</th>\n",
       "      <td>0</td>\n",
       "      <td>0.000000</td>\n",
       "    </tr>\n",
       "    <tr>\n",
       "      <th>Parch</th>\n",
       "      <td>0</td>\n",
       "      <td>0.000000</td>\n",
       "    </tr>\n",
       "    <tr>\n",
       "      <th>SibSp</th>\n",
       "      <td>0</td>\n",
       "      <td>0.000000</td>\n",
       "    </tr>\n",
       "    <tr>\n",
       "      <th>Sex</th>\n",
       "      <td>0</td>\n",
       "      <td>0.000000</td>\n",
       "    </tr>\n",
       "    <tr>\n",
       "      <th>Name</th>\n",
       "      <td>0</td>\n",
       "      <td>0.000000</td>\n",
       "    </tr>\n",
       "    <tr>\n",
       "      <th>Pclass</th>\n",
       "      <td>0</td>\n",
       "      <td>0.000000</td>\n",
       "    </tr>\n",
       "    <tr>\n",
       "      <th>PassengerId</th>\n",
       "      <td>0</td>\n",
       "      <td>0.000000</td>\n",
       "    </tr>\n",
       "  </tbody>\n",
       "</table>\n",
       "</div>"
      ],
      "text/plain": [
       "             Total    Percent\n",
       "Cabin          327  78.229665\n",
       "Age             86  20.574163\n",
       "Fare             1   0.239234\n",
       "Embarked         0   0.000000\n",
       "Ticket           0   0.000000\n",
       "Parch            0   0.000000\n",
       "SibSp            0   0.000000\n",
       "Sex              0   0.000000\n",
       "Name             0   0.000000\n",
       "Pclass           0   0.000000\n",
       "PassengerId      0   0.000000"
      ]
     },
     "execution_count": 318,
     "metadata": {},
     "output_type": "execute_result"
    }
   ],
   "source": [
    "missing_columns(test)"
   ]
  },
  {
   "cell_type": "code",
   "execution_count": 319,
   "metadata": {},
   "outputs": [],
   "source": [
    "#Cabinは欠損値が多すぎる、PassengerId、Nameは関係ない、Ticketはよくわからないので特徴削除\n",
    "#Ticketも使う\n",
    "train = train.drop(columns=['PassengerId', 'Name', 'Cabin'])\n",
    "test = test.drop(columns=['PassengerId', 'Name', 'Cabin'])"
   ]
  },
  {
   "cell_type": "code",
   "execution_count": 320,
   "metadata": {},
   "outputs": [
    {
     "data": {
      "text/plain": [
       "S    644\n",
       "C    168\n",
       "Q     77\n",
       "Name: Embarked, dtype: int64"
      ]
     },
     "execution_count": 320,
     "metadata": {},
     "output_type": "execute_result"
    }
   ],
   "source": [
    "pd.value_counts(train['Embarked'])"
   ]
  },
  {
   "cell_type": "code",
   "execution_count": 321,
   "metadata": {},
   "outputs": [],
   "source": [
    "#最頻値代入\n",
    "train[\"Embarked\"] = train[\"Embarked\"].fillna(\"S\")"
   ]
  },
  {
   "cell_type": "code",
   "execution_count": 322,
   "metadata": {},
   "outputs": [],
   "source": [
    "#カテゴリ変数の変換\n",
    "LE=LabelEncoder()\n",
    "\n",
    "labels = ['Embarked','Sex']\n",
    "for label in labels:\n",
    "    train[label]=LE.fit_transform(train[label])\n",
    "    test[label]=LE.fit_transform(test[label])"
   ]
  },
  {
   "cell_type": "code",
   "execution_count": 323,
   "metadata": {},
   "outputs": [],
   "source": [
    "#Ticketの最後の数字(str)を抜き出して奇数と偶数でラベル化\n",
    "train[\"RoomLorR\"] = train[\"Ticket\"].str[-1:]\n",
    "test[\"RoomLorR\"] = test[\"Ticket\"].str[-1:]\n",
    "train = train.drop(columns=[\"Ticket\"])\n",
    "test = test.drop(columns=[\"Ticket\"])"
   ]
  },
  {
   "cell_type": "code",
   "execution_count": 324,
   "metadata": {},
   "outputs": [
    {
     "data": {
      "text/html": [
       "<div>\n",
       "<style scoped>\n",
       "    .dataframe tbody tr th:only-of-type {\n",
       "        vertical-align: middle;\n",
       "    }\n",
       "\n",
       "    .dataframe tbody tr th {\n",
       "        vertical-align: top;\n",
       "    }\n",
       "\n",
       "    .dataframe thead th {\n",
       "        text-align: right;\n",
       "    }\n",
       "</style>\n",
       "<table border=\"1\" class=\"dataframe\">\n",
       "  <thead>\n",
       "    <tr style=\"text-align: right;\">\n",
       "      <th></th>\n",
       "      <th>Survived</th>\n",
       "      <th>Pclass</th>\n",
       "      <th>Sex</th>\n",
       "      <th>Age</th>\n",
       "      <th>SibSp</th>\n",
       "      <th>Parch</th>\n",
       "      <th>Fare</th>\n",
       "      <th>Embarked</th>\n",
       "      <th>RoomLorR</th>\n",
       "    </tr>\n",
       "  </thead>\n",
       "  <tbody>\n",
       "    <tr>\n",
       "      <th>0</th>\n",
       "      <td>0</td>\n",
       "      <td>3</td>\n",
       "      <td>1</td>\n",
       "      <td>22.0</td>\n",
       "      <td>1</td>\n",
       "      <td>0</td>\n",
       "      <td>7.2500</td>\n",
       "      <td>2</td>\n",
       "      <td>1</td>\n",
       "    </tr>\n",
       "    <tr>\n",
       "      <th>1</th>\n",
       "      <td>1</td>\n",
       "      <td>1</td>\n",
       "      <td>0</td>\n",
       "      <td>38.0</td>\n",
       "      <td>1</td>\n",
       "      <td>0</td>\n",
       "      <td>71.2833</td>\n",
       "      <td>0</td>\n",
       "      <td>9</td>\n",
       "    </tr>\n",
       "    <tr>\n",
       "      <th>2</th>\n",
       "      <td>1</td>\n",
       "      <td>3</td>\n",
       "      <td>0</td>\n",
       "      <td>26.0</td>\n",
       "      <td>0</td>\n",
       "      <td>0</td>\n",
       "      <td>7.9250</td>\n",
       "      <td>2</td>\n",
       "      <td>2</td>\n",
       "    </tr>\n",
       "    <tr>\n",
       "      <th>3</th>\n",
       "      <td>1</td>\n",
       "      <td>1</td>\n",
       "      <td>0</td>\n",
       "      <td>35.0</td>\n",
       "      <td>1</td>\n",
       "      <td>0</td>\n",
       "      <td>53.1000</td>\n",
       "      <td>2</td>\n",
       "      <td>3</td>\n",
       "    </tr>\n",
       "    <tr>\n",
       "      <th>4</th>\n",
       "      <td>0</td>\n",
       "      <td>3</td>\n",
       "      <td>1</td>\n",
       "      <td>35.0</td>\n",
       "      <td>0</td>\n",
       "      <td>0</td>\n",
       "      <td>8.0500</td>\n",
       "      <td>2</td>\n",
       "      <td>0</td>\n",
       "    </tr>\n",
       "  </tbody>\n",
       "</table>\n",
       "</div>"
      ],
      "text/plain": [
       "   Survived  Pclass  Sex   Age  SibSp  Parch     Fare  Embarked RoomLorR\n",
       "0         0       3    1  22.0      1      0   7.2500         2        1\n",
       "1         1       1    0  38.0      1      0  71.2833         0        9\n",
       "2         1       3    0  26.0      0      0   7.9250         2        2\n",
       "3         1       1    0  35.0      1      0  53.1000         2        3\n",
       "4         0       3    1  35.0      0      0   8.0500         2        0"
      ]
     },
     "execution_count": 324,
     "metadata": {},
     "output_type": "execute_result"
    }
   ],
   "source": [
    "train.head()"
   ]
  },
  {
   "cell_type": "code",
   "execution_count": 325,
   "metadata": {},
   "outputs": [],
   "source": [
    "def roomLabels(x):\n",
    "    if (x == \"1\") or (x == \"3\") or (x == \"5\") or (x == \"7\") or (x == \"9\"):\n",
    "        return 0\n",
    "    elif (x == \"0\") or (x == \"2\") or (x == \"4\") or (x == \"6\") or (x == \"8\"):\n",
    "        return 1\n",
    "\n",
    "train[\"RoomLorR\"] = train[\"RoomLorR\"].apply(roomLabels)\n",
    "test[\"RoomLorR\"] = test[\"RoomLorR\"].apply(roomLabels)"
   ]
  },
  {
   "cell_type": "code",
   "execution_count": 326,
   "metadata": {},
   "outputs": [
    {
     "data": {
      "text/html": [
       "<div>\n",
       "<style scoped>\n",
       "    .dataframe tbody tr th:only-of-type {\n",
       "        vertical-align: middle;\n",
       "    }\n",
       "\n",
       "    .dataframe tbody tr th {\n",
       "        vertical-align: top;\n",
       "    }\n",
       "\n",
       "    .dataframe thead th {\n",
       "        text-align: right;\n",
       "    }\n",
       "</style>\n",
       "<table border=\"1\" class=\"dataframe\">\n",
       "  <thead>\n",
       "    <tr style=\"text-align: right;\">\n",
       "      <th></th>\n",
       "      <th>Survived</th>\n",
       "      <th>Pclass</th>\n",
       "      <th>Sex</th>\n",
       "      <th>Age</th>\n",
       "      <th>SibSp</th>\n",
       "      <th>Parch</th>\n",
       "      <th>Fare</th>\n",
       "      <th>Embarked</th>\n",
       "      <th>RoomLorR</th>\n",
       "    </tr>\n",
       "  </thead>\n",
       "  <tbody>\n",
       "    <tr>\n",
       "      <th>0</th>\n",
       "      <td>0</td>\n",
       "      <td>3</td>\n",
       "      <td>1</td>\n",
       "      <td>22.0</td>\n",
       "      <td>1</td>\n",
       "      <td>0</td>\n",
       "      <td>7.2500</td>\n",
       "      <td>2</td>\n",
       "      <td>0.0</td>\n",
       "    </tr>\n",
       "    <tr>\n",
       "      <th>1</th>\n",
       "      <td>1</td>\n",
       "      <td>1</td>\n",
       "      <td>0</td>\n",
       "      <td>38.0</td>\n",
       "      <td>1</td>\n",
       "      <td>0</td>\n",
       "      <td>71.2833</td>\n",
       "      <td>0</td>\n",
       "      <td>0.0</td>\n",
       "    </tr>\n",
       "    <tr>\n",
       "      <th>2</th>\n",
       "      <td>1</td>\n",
       "      <td>3</td>\n",
       "      <td>0</td>\n",
       "      <td>26.0</td>\n",
       "      <td>0</td>\n",
       "      <td>0</td>\n",
       "      <td>7.9250</td>\n",
       "      <td>2</td>\n",
       "      <td>1.0</td>\n",
       "    </tr>\n",
       "    <tr>\n",
       "      <th>3</th>\n",
       "      <td>1</td>\n",
       "      <td>1</td>\n",
       "      <td>0</td>\n",
       "      <td>35.0</td>\n",
       "      <td>1</td>\n",
       "      <td>0</td>\n",
       "      <td>53.1000</td>\n",
       "      <td>2</td>\n",
       "      <td>0.0</td>\n",
       "    </tr>\n",
       "    <tr>\n",
       "      <th>4</th>\n",
       "      <td>0</td>\n",
       "      <td>3</td>\n",
       "      <td>1</td>\n",
       "      <td>35.0</td>\n",
       "      <td>0</td>\n",
       "      <td>0</td>\n",
       "      <td>8.0500</td>\n",
       "      <td>2</td>\n",
       "      <td>1.0</td>\n",
       "    </tr>\n",
       "  </tbody>\n",
       "</table>\n",
       "</div>"
      ],
      "text/plain": [
       "   Survived  Pclass  Sex   Age  SibSp  Parch     Fare  Embarked  RoomLorR\n",
       "0         0       3    1  22.0      1      0   7.2500         2       0.0\n",
       "1         1       1    0  38.0      1      0  71.2833         0       0.0\n",
       "2         1       3    0  26.0      0      0   7.9250         2       1.0\n",
       "3         1       1    0  35.0      1      0  53.1000         2       0.0\n",
       "4         0       3    1  35.0      0      0   8.0500         2       1.0"
      ]
     },
     "execution_count": 326,
     "metadata": {},
     "output_type": "execute_result"
    }
   ],
   "source": [
    "train.head()"
   ]
  },
  {
   "cell_type": "code",
   "execution_count": 327,
   "metadata": {},
   "outputs": [
    {
     "data": {
      "text/html": [
       "<div>\n",
       "<style scoped>\n",
       "    .dataframe tbody tr th:only-of-type {\n",
       "        vertical-align: middle;\n",
       "    }\n",
       "\n",
       "    .dataframe tbody tr th {\n",
       "        vertical-align: top;\n",
       "    }\n",
       "\n",
       "    .dataframe thead th {\n",
       "        text-align: right;\n",
       "    }\n",
       "</style>\n",
       "<table border=\"1\" class=\"dataframe\">\n",
       "  <thead>\n",
       "    <tr style=\"text-align: right;\">\n",
       "      <th></th>\n",
       "      <th>Total</th>\n",
       "      <th>Percent</th>\n",
       "    </tr>\n",
       "  </thead>\n",
       "  <tbody>\n",
       "    <tr>\n",
       "      <th>Age</th>\n",
       "      <td>177</td>\n",
       "      <td>19.865320</td>\n",
       "    </tr>\n",
       "    <tr>\n",
       "      <th>RoomLorR</th>\n",
       "      <td>4</td>\n",
       "      <td>0.448934</td>\n",
       "    </tr>\n",
       "    <tr>\n",
       "      <th>Embarked</th>\n",
       "      <td>0</td>\n",
       "      <td>0.000000</td>\n",
       "    </tr>\n",
       "    <tr>\n",
       "      <th>Fare</th>\n",
       "      <td>0</td>\n",
       "      <td>0.000000</td>\n",
       "    </tr>\n",
       "    <tr>\n",
       "      <th>Parch</th>\n",
       "      <td>0</td>\n",
       "      <td>0.000000</td>\n",
       "    </tr>\n",
       "    <tr>\n",
       "      <th>SibSp</th>\n",
       "      <td>0</td>\n",
       "      <td>0.000000</td>\n",
       "    </tr>\n",
       "    <tr>\n",
       "      <th>Sex</th>\n",
       "      <td>0</td>\n",
       "      <td>0.000000</td>\n",
       "    </tr>\n",
       "    <tr>\n",
       "      <th>Pclass</th>\n",
       "      <td>0</td>\n",
       "      <td>0.000000</td>\n",
       "    </tr>\n",
       "    <tr>\n",
       "      <th>Survived</th>\n",
       "      <td>0</td>\n",
       "      <td>0.000000</td>\n",
       "    </tr>\n",
       "  </tbody>\n",
       "</table>\n",
       "</div>"
      ],
      "text/plain": [
       "          Total    Percent\n",
       "Age         177  19.865320\n",
       "RoomLorR      4   0.448934\n",
       "Embarked      0   0.000000\n",
       "Fare          0   0.000000\n",
       "Parch         0   0.000000\n",
       "SibSp         0   0.000000\n",
       "Sex           0   0.000000\n",
       "Pclass        0   0.000000\n",
       "Survived      0   0.000000"
      ]
     },
     "execution_count": 327,
     "metadata": {},
     "output_type": "execute_result"
    }
   ],
   "source": [
    "missing_columns(train)"
   ]
  },
  {
   "cell_type": "code",
   "execution_count": 328,
   "metadata": {},
   "outputs": [
    {
     "data": {
      "text/html": [
       "<div>\n",
       "<style scoped>\n",
       "    .dataframe tbody tr th:only-of-type {\n",
       "        vertical-align: middle;\n",
       "    }\n",
       "\n",
       "    .dataframe tbody tr th {\n",
       "        vertical-align: top;\n",
       "    }\n",
       "\n",
       "    .dataframe thead th {\n",
       "        text-align: right;\n",
       "    }\n",
       "</style>\n",
       "<table border=\"1\" class=\"dataframe\">\n",
       "  <thead>\n",
       "    <tr style=\"text-align: right;\">\n",
       "      <th></th>\n",
       "      <th>Total</th>\n",
       "      <th>Percent</th>\n",
       "    </tr>\n",
       "  </thead>\n",
       "  <tbody>\n",
       "    <tr>\n",
       "      <th>Age</th>\n",
       "      <td>86</td>\n",
       "      <td>20.574163</td>\n",
       "    </tr>\n",
       "    <tr>\n",
       "      <th>Fare</th>\n",
       "      <td>1</td>\n",
       "      <td>0.239234</td>\n",
       "    </tr>\n",
       "    <tr>\n",
       "      <th>RoomLorR</th>\n",
       "      <td>0</td>\n",
       "      <td>0.000000</td>\n",
       "    </tr>\n",
       "    <tr>\n",
       "      <th>Embarked</th>\n",
       "      <td>0</td>\n",
       "      <td>0.000000</td>\n",
       "    </tr>\n",
       "    <tr>\n",
       "      <th>Parch</th>\n",
       "      <td>0</td>\n",
       "      <td>0.000000</td>\n",
       "    </tr>\n",
       "    <tr>\n",
       "      <th>SibSp</th>\n",
       "      <td>0</td>\n",
       "      <td>0.000000</td>\n",
       "    </tr>\n",
       "    <tr>\n",
       "      <th>Sex</th>\n",
       "      <td>0</td>\n",
       "      <td>0.000000</td>\n",
       "    </tr>\n",
       "    <tr>\n",
       "      <th>Pclass</th>\n",
       "      <td>0</td>\n",
       "      <td>0.000000</td>\n",
       "    </tr>\n",
       "  </tbody>\n",
       "</table>\n",
       "</div>"
      ],
      "text/plain": [
       "          Total    Percent\n",
       "Age          86  20.574163\n",
       "Fare          1   0.239234\n",
       "RoomLorR      0   0.000000\n",
       "Embarked      0   0.000000\n",
       "Parch         0   0.000000\n",
       "SibSp         0   0.000000\n",
       "Sex           0   0.000000\n",
       "Pclass        0   0.000000"
      ]
     },
     "execution_count": 328,
     "metadata": {},
     "output_type": "execute_result"
    }
   ],
   "source": [
    "missing_columns(test)"
   ]
  },
  {
   "cell_type": "code",
   "execution_count": 329,
   "metadata": {},
   "outputs": [
    {
     "data": {
      "text/plain": [
       "0.0    468\n",
       "1.0    419\n",
       "Name: RoomLorR, dtype: int64"
      ]
     },
     "execution_count": 329,
     "metadata": {},
     "output_type": "execute_result"
    }
   ],
   "source": [
    "pd.value_counts(train['RoomLorR'])"
   ]
  },
  {
   "cell_type": "code",
   "execution_count": 330,
   "metadata": {},
   "outputs": [],
   "source": [
    "#最頻値代入\n",
    "train[\"RoomLorR\"] = train[\"RoomLorR\"].fillna(0.0)"
   ]
  },
  {
   "cell_type": "code",
   "execution_count": 331,
   "metadata": {},
   "outputs": [],
   "source": [
    "#Ageをカテゴライズ\n",
    "def age(x):\n",
    "    if (0 <= x) and (x < 10):\n",
    "        return 0\n",
    "    elif (10 <= x) and (x < 20):\n",
    "        return 1\n",
    "    elif (20 <= x) and (x < 30):\n",
    "        return 2\n",
    "    elif (30 <= x) and (x < 40):\n",
    "        return 3\n",
    "    elif (40 <= x) and (x < 50):\n",
    "        return 4\n",
    "    elif (50 <= x) and (x < 60):\n",
    "        return 5\n",
    "    elif (60 <= x) and (x < 70):\n",
    "        return 6\n",
    "    elif (70 <= x) and (x <= 80):\n",
    "        return 7"
   ]
  },
  {
   "cell_type": "code",
   "execution_count": 332,
   "metadata": {},
   "outputs": [],
   "source": [
    "train[\"aboutAge\"] = train[\"Age\"].apply(age)\n",
    "test[\"aboutAge\"] = test[\"Age\"].apply(age)\n",
    "train = train.drop(columns=[\"Age\"])\n",
    "test = test.drop(columns=[\"Age\"])"
   ]
  },
  {
   "cell_type": "code",
   "execution_count": 333,
   "metadata": {},
   "outputs": [],
   "source": [
    "#Fareをカテゴライズ\n",
    "def fare(x):\n",
    "    if (0.0 <= x) and (x < 50.0):\n",
    "        return 0\n",
    "    elif (50.0 <= x) and (x < 100.0):\n",
    "        return 1\n",
    "    elif (100.0 <= x) and (x < 150.0):\n",
    "        return 2\n",
    "    elif (150.0 <= x) and (x < 200.0):\n",
    "        return 3\n",
    "    elif (200.0 <= x) and (x < 250.0):\n",
    "        return 4\n",
    "    elif (250.0 <= x) and (x < 300.0):\n",
    "        return 5\n",
    "    elif (300.0 <= x) and (x < 350.0):\n",
    "        return 6\n",
    "    elif (350.0 <= x) and (x < 400.0):\n",
    "        return 7\n",
    "    elif (400.0 <= x) and (x < 450.0):\n",
    "        return 8\n",
    "    elif (450.0 <= x) and (x < 500.0):\n",
    "        return 9\n",
    "    elif (500.0 <= x):\n",
    "        return 10"
   ]
  },
  {
   "cell_type": "code",
   "execution_count": 334,
   "metadata": {},
   "outputs": [],
   "source": [
    "#train[\"aboutFare\"] = train[\"Fare\"].apply(age)\n",
    "#test[\"aboutFare\"] = test[\"Fare\"].apply(age)\n",
    "#train = train.drop(columns=[\"Fare\"])\n",
    "#test = test.drop(columns=[\"Fare\"])"
   ]
  },
  {
   "cell_type": "code",
   "execution_count": 335,
   "metadata": {},
   "outputs": [
    {
     "data": {
      "text/html": [
       "<div>\n",
       "<style scoped>\n",
       "    .dataframe tbody tr th:only-of-type {\n",
       "        vertical-align: middle;\n",
       "    }\n",
       "\n",
       "    .dataframe tbody tr th {\n",
       "        vertical-align: top;\n",
       "    }\n",
       "\n",
       "    .dataframe thead th {\n",
       "        text-align: right;\n",
       "    }\n",
       "</style>\n",
       "<table border=\"1\" class=\"dataframe\">\n",
       "  <thead>\n",
       "    <tr style=\"text-align: right;\">\n",
       "      <th></th>\n",
       "      <th>Survived</th>\n",
       "      <th>Pclass</th>\n",
       "      <th>Sex</th>\n",
       "      <th>SibSp</th>\n",
       "      <th>Parch</th>\n",
       "      <th>Fare</th>\n",
       "      <th>Embarked</th>\n",
       "      <th>RoomLorR</th>\n",
       "      <th>aboutAge</th>\n",
       "    </tr>\n",
       "  </thead>\n",
       "  <tbody>\n",
       "    <tr>\n",
       "      <th>0</th>\n",
       "      <td>0</td>\n",
       "      <td>3</td>\n",
       "      <td>1</td>\n",
       "      <td>1</td>\n",
       "      <td>0</td>\n",
       "      <td>7.2500</td>\n",
       "      <td>2</td>\n",
       "      <td>0.0</td>\n",
       "      <td>2.0</td>\n",
       "    </tr>\n",
       "    <tr>\n",
       "      <th>1</th>\n",
       "      <td>1</td>\n",
       "      <td>1</td>\n",
       "      <td>0</td>\n",
       "      <td>1</td>\n",
       "      <td>0</td>\n",
       "      <td>71.2833</td>\n",
       "      <td>0</td>\n",
       "      <td>0.0</td>\n",
       "      <td>3.0</td>\n",
       "    </tr>\n",
       "    <tr>\n",
       "      <th>2</th>\n",
       "      <td>1</td>\n",
       "      <td>3</td>\n",
       "      <td>0</td>\n",
       "      <td>0</td>\n",
       "      <td>0</td>\n",
       "      <td>7.9250</td>\n",
       "      <td>2</td>\n",
       "      <td>1.0</td>\n",
       "      <td>2.0</td>\n",
       "    </tr>\n",
       "    <tr>\n",
       "      <th>3</th>\n",
       "      <td>1</td>\n",
       "      <td>1</td>\n",
       "      <td>0</td>\n",
       "      <td>1</td>\n",
       "      <td>0</td>\n",
       "      <td>53.1000</td>\n",
       "      <td>2</td>\n",
       "      <td>0.0</td>\n",
       "      <td>3.0</td>\n",
       "    </tr>\n",
       "    <tr>\n",
       "      <th>4</th>\n",
       "      <td>0</td>\n",
       "      <td>3</td>\n",
       "      <td>1</td>\n",
       "      <td>0</td>\n",
       "      <td>0</td>\n",
       "      <td>8.0500</td>\n",
       "      <td>2</td>\n",
       "      <td>1.0</td>\n",
       "      <td>3.0</td>\n",
       "    </tr>\n",
       "  </tbody>\n",
       "</table>\n",
       "</div>"
      ],
      "text/plain": [
       "   Survived  Pclass  Sex  SibSp  Parch     Fare  Embarked  RoomLorR  aboutAge\n",
       "0         0       3    1      1      0   7.2500         2       0.0       2.0\n",
       "1         1       1    0      1      0  71.2833         0       0.0       3.0\n",
       "2         1       3    0      0      0   7.9250         2       1.0       2.0\n",
       "3         1       1    0      1      0  53.1000         2       0.0       3.0\n",
       "4         0       3    1      0      0   8.0500         2       1.0       3.0"
      ]
     },
     "execution_count": 335,
     "metadata": {},
     "output_type": "execute_result"
    }
   ],
   "source": [
    "train.head()"
   ]
  },
  {
   "cell_type": "code",
   "execution_count": 336,
   "metadata": {},
   "outputs": [],
   "source": [
    "train = train.fillna(train.mean()) # 平均値代入\n",
    "test = test.fillna(test.mean()) # 平均値代入"
   ]
  },
  {
   "cell_type": "code",
   "execution_count": 337,
   "metadata": {},
   "outputs": [
    {
     "data": {
      "text/html": [
       "<div>\n",
       "<style scoped>\n",
       "    .dataframe tbody tr th:only-of-type {\n",
       "        vertical-align: middle;\n",
       "    }\n",
       "\n",
       "    .dataframe tbody tr th {\n",
       "        vertical-align: top;\n",
       "    }\n",
       "\n",
       "    .dataframe thead th {\n",
       "        text-align: right;\n",
       "    }\n",
       "</style>\n",
       "<table border=\"1\" class=\"dataframe\">\n",
       "  <thead>\n",
       "    <tr style=\"text-align: right;\">\n",
       "      <th></th>\n",
       "      <th>Total</th>\n",
       "      <th>Percent</th>\n",
       "    </tr>\n",
       "  </thead>\n",
       "  <tbody>\n",
       "    <tr>\n",
       "      <th>aboutAge</th>\n",
       "      <td>0</td>\n",
       "      <td>0.0</td>\n",
       "    </tr>\n",
       "    <tr>\n",
       "      <th>RoomLorR</th>\n",
       "      <td>0</td>\n",
       "      <td>0.0</td>\n",
       "    </tr>\n",
       "    <tr>\n",
       "      <th>Embarked</th>\n",
       "      <td>0</td>\n",
       "      <td>0.0</td>\n",
       "    </tr>\n",
       "    <tr>\n",
       "      <th>Fare</th>\n",
       "      <td>0</td>\n",
       "      <td>0.0</td>\n",
       "    </tr>\n",
       "    <tr>\n",
       "      <th>Parch</th>\n",
       "      <td>0</td>\n",
       "      <td>0.0</td>\n",
       "    </tr>\n",
       "    <tr>\n",
       "      <th>SibSp</th>\n",
       "      <td>0</td>\n",
       "      <td>0.0</td>\n",
       "    </tr>\n",
       "    <tr>\n",
       "      <th>Sex</th>\n",
       "      <td>0</td>\n",
       "      <td>0.0</td>\n",
       "    </tr>\n",
       "    <tr>\n",
       "      <th>Pclass</th>\n",
       "      <td>0</td>\n",
       "      <td>0.0</td>\n",
       "    </tr>\n",
       "    <tr>\n",
       "      <th>Survived</th>\n",
       "      <td>0</td>\n",
       "      <td>0.0</td>\n",
       "    </tr>\n",
       "  </tbody>\n",
       "</table>\n",
       "</div>"
      ],
      "text/plain": [
       "          Total  Percent\n",
       "aboutAge      0      0.0\n",
       "RoomLorR      0      0.0\n",
       "Embarked      0      0.0\n",
       "Fare          0      0.0\n",
       "Parch         0      0.0\n",
       "SibSp         0      0.0\n",
       "Sex           0      0.0\n",
       "Pclass        0      0.0\n",
       "Survived      0      0.0"
      ]
     },
     "execution_count": 337,
     "metadata": {},
     "output_type": "execute_result"
    }
   ],
   "source": [
    "missing_columns(train)"
   ]
  },
  {
   "cell_type": "code",
   "execution_count": 338,
   "metadata": {},
   "outputs": [
    {
     "data": {
      "text/plain": [
       "([array([ 80.,  97., 372.]), array([216., 184., 491.])],\n",
       " array([1.        , 1.66666667, 2.33333333, 3.        ]),\n",
       " <a list of 2 Lists of Patches objects>)"
      ]
     },
     "execution_count": 338,
     "metadata": {},
     "output_type": "execute_result"
    },
    {
     "data": {
      "image/png": "[encoded data removed]",
      "text/plain": [
       "<matplotlib.figure.Figure at 0x7f381013bac8>"
      ]
     },
     "metadata": {},
     "output_type": "display_data"
    }
   ],
   "source": [
    "split_data = []\n",
    "for survived in [0,1]:\n",
    "    split_data.append(train[train.Survived==survived])\n",
    "\n",
    "temp = [i[\"Pclass\"].dropna() for i in split_data]\n",
    "plt.hist(temp, histtype=\"barstacked\", bins=3)"
   ]
  },
  {
   "cell_type": "code",
   "execution_count": 339,
   "metadata": {},
   "outputs": [
    {
     "data": {
      "text/plain": [
       "([array([ 24.,   0.,  61.,   0., 143., 125.,  94.,   0.,   0.,  55.,   0.,\n",
       "          28.,   0.,  13.,   0.,   6.]),\n",
       "  array([ 62.,   0., 102.,   0., 220., 177., 167.,   0.,   0.,  89.,   0.,\n",
       "          48.,   0.,  19.,   0.,   7.])],\n",
       " array([0.    , 0.4375, 0.875 , 1.3125, 1.75  , 2.1875, 2.625 , 3.0625,\n",
       "        3.5   , 3.9375, 4.375 , 4.8125, 5.25  , 5.6875, 6.125 , 6.5625,\n",
       "        7.    ]),\n",
       " <a list of 2 Lists of Patches objects>)"
      ]
     },
     "execution_count": 339,
     "metadata": {},
     "output_type": "execute_result"
    },
    {
     "data": {
      "image/png": "[encoded data removed]",
      "text/plain": [
       "<matplotlib.figure.Figure at 0x7f38100ed358>"
      ]
     },
     "metadata": {},
     "output_type": "display_data"
    }
   ],
   "source": [
    "#欠損値は平均値で補った関係で20代後半が突出\n",
    "temp = [i[\"aboutAge\"].dropna() for i in split_data]\n",
    "plt.hist(temp, histtype=\"barstacked\", bins=16)"
   ]
  },
  {
   "cell_type": "code",
   "execution_count": 340,
   "metadata": {},
   "outputs": [
    {
     "data": {
      "text/plain": [
       "([array([ 81.,   0.,   0., 468.]), array([314.,   0.,   0., 577.])],\n",
       " array([0.  , 0.25, 0.5 , 0.75, 1.  ]),\n",
       " <a list of 2 Lists of Patches objects>)"
      ]
     },
     "execution_count": 340,
     "metadata": {},
     "output_type": "execute_result"
    },
    {
     "data": {
      "image/png": "[encoded data removed]",
      "text/plain": [
       "<matplotlib.figure.Figure at 0x7f380bfcc080>"
      ]
     },
     "metadata": {},
     "output_type": "display_data"
    }
   ],
   "source": [
    "#femaleの方が生存率が高い\n",
    "temp = [i[\"Sex\"].dropna() for i in split_data]\n",
    "plt.hist(temp, histtype=\"barstacked\", bins=4)"
   ]
  },
  {
   "cell_type": "code",
   "execution_count": 341,
   "metadata": {
    "scrolled": true
   },
   "outputs": [
    {
     "data": {
      "text/plain": [
       "([array([398.,   0.,  97.,   0.,  15.,   0.,  12.,   0.,  15.,   0.,   5.,\n",
       "           0.,   0.,   0.,   0.,   7.]),\n",
       "  array([608.,   0., 209.,   0.,  28.,   0.,  16.,   0.,  18.,   0.,   5.,\n",
       "           0.,   0.,   0.,   0.,   7.])],\n",
       " array([0. , 0.5, 1. , 1.5, 2. , 2.5, 3. , 3.5, 4. , 4.5, 5. , 5.5, 6. ,\n",
       "        6.5, 7. , 7.5, 8. ]),\n",
       " <a list of 2 Lists of Patches objects>)"
      ]
     },
     "execution_count": 341,
     "metadata": {},
     "output_type": "execute_result"
    },
    {
     "data": {
      "image/png": "[encoded data removed]",
      "text/plain": [
       "<matplotlib.figure.Figure at 0x7f381003dd68>"
      ]
     },
     "metadata": {},
     "output_type": "display_data"
    }
   ],
   "source": [
    "temp = [i[\"SibSp\"].dropna() for i in split_data]\n",
    "plt.hist(temp, histtype=\"barstacked\", bins=16)"
   ]
  },
  {
   "cell_type": "code",
   "execution_count": 342,
   "metadata": {
    "scrolled": true
   },
   "outputs": [
    {
     "data": {
      "text/plain": [
       "([array([445.,   0.,  53.,   0.,  40.,   0.,   2.,   0.,   4.,   0.,   4.,\n",
       "           1.]),\n",
       "  array([678.,   0., 118.,   0.,  80.,   0.,   5.,   0.,   4.,   0.,   5.,\n",
       "           1.])],\n",
       " array([0. , 0.5, 1. , 1.5, 2. , 2.5, 3. , 3.5, 4. , 4.5, 5. , 5.5, 6. ]),\n",
       " <a list of 2 Lists of Patches objects>)"
      ]
     },
     "execution_count": 342,
     "metadata": {},
     "output_type": "execute_result"
    },
    {
     "data": {
      "image/png": "[encoded data removed]",
      "text/plain": [
       "<matplotlib.figure.Figure at 0x7f380be544a8>"
      ]
     },
     "metadata": {},
     "output_type": "display_data"
    }
   ],
   "source": [
    "temp = [i[\"Parch\"].dropna() for i in split_data]\n",
    "plt.hist(temp, histtype=\"barstacked\", bins=12)"
   ]
  },
  {
   "cell_type": "code",
   "execution_count": 343,
   "metadata": {},
   "outputs": [
    {
     "data": {
      "text/plain": [
       "([array([ 75.,   0.,   0.,  47.,   0., 427.]),\n",
       "  array([168.,   0.,   0.,  77.,   0., 646.])],\n",
       " array([0.        , 0.33333333, 0.66666667, 1.        , 1.33333333,\n",
       "        1.66666667, 2.        ]),\n",
       " <a list of 2 Lists of Patches objects>)"
      ]
     },
     "execution_count": 343,
     "metadata": {},
     "output_type": "execute_result"
    },
    {
     "data": {
      "image/png": "[encoded data removed]",
      "text/plain": [
       "<matplotlib.figure.Figure at 0x7f380be7f630>"
      ]
     },
     "metadata": {},
     "output_type": "display_data"
    }
   ],
   "source": [
    "temp = [i[\"Embarked\"].dropna() for i in split_data]\n",
    "plt.hist(temp, histtype=\"barstacked\", bins=6)"
   ]
  },
  {
   "cell_type": "code",
   "execution_count": 344,
   "metadata": {},
   "outputs": [
    {
     "data": {
      "text/plain": [
       "([array([293.,   0.,   0., 256.]), array([472.,   0.,   0., 419.])],\n",
       " array([0.  , 0.25, 0.5 , 0.75, 1.  ]),\n",
       " <a list of 2 Lists of Patches objects>)"
      ]
     },
     "execution_count": 344,
     "metadata": {},
     "output_type": "execute_result"
    },
    {
     "data": {
      "image/png": "[encoded data removed]",
      "text/plain": [
       "<matplotlib.figure.Figure at 0x7f380be7f198>"
      ]
     },
     "metadata": {},
     "output_type": "display_data"
    }
   ],
   "source": [
    "temp = [i[\"RoomLorR\"].dropna() for i in split_data]\n",
    "plt.hist(temp, histtype=\"barstacked\", bins=4)"
   ]
  },
  {
   "cell_type": "code",
   "execution_count": 345,
   "metadata": {},
   "outputs": [
    {
     "data": {
      "text/plain": [
       "([array([499.,  36.,   8.,   0.,   4.,   2.,   0.,   0.,   0.,   0.]),\n",
       "  array([732., 106.,  31.,   2.,  11.,   6.,   0.,   0.,   0.,   3.])],\n",
       " array([  0.     ,  51.23292, 102.46584, 153.69876, 204.93168, 256.1646 ,\n",
       "        307.39752, 358.63044, 409.86336, 461.09628, 512.3292 ]),\n",
       " <a list of 2 Lists of Patches objects>)"
      ]
     },
     "execution_count": 345,
     "metadata": {},
     "output_type": "execute_result"
    },
    {
     "data": {
      "image/png": "[encoded data removed]",
      "text/plain": [
       "<matplotlib.figure.Figure at 0x7f380bdabd30>"
      ]
     },
     "metadata": {},
     "output_type": "display_data"
    }
   ],
   "source": [
    "temp = [i[\"Fare\"].dropna() for i in split_data]\n",
    "plt.hist(temp, histtype=\"barstacked\", bins=10)"
   ]
  },
  {
   "cell_type": "code",
   "execution_count": 346,
   "metadata": {},
   "outputs": [],
   "source": [
    "train[\"SibSpParch\"] = train[\"SibSp\"] + train[\"Parch\"]\n",
    "test[\"SibSpParch\"] = test[\"SibSp\"] + test[\"Parch\"]\n",
    "train = train.drop(columns=[\"SibSp\", \"Parch\"])\n",
    "test = test.drop(columns=[\"SibSp\", \"Parch\"])"
   ]
  },
  {
   "cell_type": "code",
   "execution_count": 347,
   "metadata": {
    "scrolled": true
   },
   "outputs": [
    {
     "data": {
      "text/html": [
       "<div>\n",
       "<style scoped>\n",
       "    .dataframe tbody tr th:only-of-type {\n",
       "        vertical-align: middle;\n",
       "    }\n",
       "\n",
       "    .dataframe tbody tr th {\n",
       "        vertical-align: top;\n",
       "    }\n",
       "\n",
       "    .dataframe thead th {\n",
       "        text-align: right;\n",
       "    }\n",
       "</style>\n",
       "<table border=\"1\" class=\"dataframe\">\n",
       "  <thead>\n",
       "    <tr style=\"text-align: right;\">\n",
       "      <th></th>\n",
       "      <th>Survived</th>\n",
       "      <th>Pclass</th>\n",
       "      <th>Sex</th>\n",
       "      <th>Fare</th>\n",
       "      <th>Embarked</th>\n",
       "      <th>RoomLorR</th>\n",
       "      <th>aboutAge</th>\n",
       "      <th>SibSpParch</th>\n",
       "    </tr>\n",
       "  </thead>\n",
       "  <tbody>\n",
       "    <tr>\n",
       "      <th>0</th>\n",
       "      <td>0</td>\n",
       "      <td>3</td>\n",
       "      <td>1</td>\n",
       "      <td>7.2500</td>\n",
       "      <td>2</td>\n",
       "      <td>0.0</td>\n",
       "      <td>2.0</td>\n",
       "      <td>1</td>\n",
       "    </tr>\n",
       "    <tr>\n",
       "      <th>1</th>\n",
       "      <td>1</td>\n",
       "      <td>1</td>\n",
       "      <td>0</td>\n",
       "      <td>71.2833</td>\n",
       "      <td>0</td>\n",
       "      <td>0.0</td>\n",
       "      <td>3.0</td>\n",
       "      <td>1</td>\n",
       "    </tr>\n",
       "    <tr>\n",
       "      <th>2</th>\n",
       "      <td>1</td>\n",
       "      <td>3</td>\n",
       "      <td>0</td>\n",
       "      <td>7.9250</td>\n",
       "      <td>2</td>\n",
       "      <td>1.0</td>\n",
       "      <td>2.0</td>\n",
       "      <td>0</td>\n",
       "    </tr>\n",
       "    <tr>\n",
       "      <th>3</th>\n",
       "      <td>1</td>\n",
       "      <td>1</td>\n",
       "      <td>0</td>\n",
       "      <td>53.1000</td>\n",
       "      <td>2</td>\n",
       "      <td>0.0</td>\n",
       "      <td>3.0</td>\n",
       "      <td>1</td>\n",
       "    </tr>\n",
       "    <tr>\n",
       "      <th>4</th>\n",
       "      <td>0</td>\n",
       "      <td>3</td>\n",
       "      <td>1</td>\n",
       "      <td>8.0500</td>\n",
       "      <td>2</td>\n",
       "      <td>1.0</td>\n",
       "      <td>3.0</td>\n",
       "      <td>0</td>\n",
       "    </tr>\n",
       "  </tbody>\n",
       "</table>\n",
       "</div>"
      ],
      "text/plain": [
       "   Survived  Pclass  Sex     Fare  Embarked  RoomLorR  aboutAge  SibSpParch\n",
       "0         0       3    1   7.2500         2       0.0       2.0           1\n",
       "1         1       1    0  71.2833         0       0.0       3.0           1\n",
       "2         1       3    0   7.9250         2       1.0       2.0           0\n",
       "3         1       1    0  53.1000         2       0.0       3.0           1\n",
       "4         0       3    1   8.0500         2       1.0       3.0           0"
      ]
     },
     "execution_count": 347,
     "metadata": {},
     "output_type": "execute_result"
    }
   ],
   "source": [
    "train.head()"
   ]
  },
  {
   "cell_type": "code",
   "execution_count": 348,
   "metadata": {},
   "outputs": [
    {
     "data": {
      "text/plain": [
       "([array([374.,  72.,  43.,   8.,  12.,  19.,   8.,   6.,   0.,   7.]),\n",
       "  array([537., 161., 102.,  29.,  15.,  22.,  12.,   6.,   0.,   7.])],\n",
       " array([ 0.,  1.,  2.,  3.,  4.,  5.,  6.,  7.,  8.,  9., 10.]),\n",
       " <a list of 2 Lists of Patches objects>)"
      ]
     },
     "execution_count": 348,
     "metadata": {},
     "output_type": "execute_result"
    },
    {
     "data": {
      "image/png": "[encoded data removed]",
      "text/plain": [
       "<matplotlib.figure.Figure at 0x7f380be7f780>"
      ]
     },
     "metadata": {},
     "output_type": "display_data"
    }
   ],
   "source": [
    "split_data = []\n",
    "for survived in [0,1]:\n",
    "    split_data.append(train[train.Survived==survived])\n",
    "    \n",
    "temp = [i[\"SibSpParch\"].dropna() for i in split_data]\n",
    "plt.hist(temp, histtype=\"barstacked\", bins=10)"
   ]
  },
  {
   "cell_type": "code",
   "execution_count": 349,
   "metadata": {},
   "outputs": [],
   "source": [
    "#train data と test data をそれぞれ特徴量とラベルに分ける\n",
    "from sklearn.model_selection import train_test_split\n",
    "trainFeatures = train.drop(columns='Survived')\n",
    "trainLabels = train.Survived"
   ]
  },
  {
   "cell_type": "code",
   "execution_count": 350,
   "metadata": {},
   "outputs": [],
   "source": [
    "#light gbm 用データ分割\n",
    "X_train, X_test, y_train, y_test = train_test_split(trainFeatures, trainLabels, test_size=0.2, random_state=72)\n",
    "\n",
    "#モデル用dataset生成\n",
    "import lightgbm as lgb\n",
    "lgbTrain = lgb.Dataset(X_train, y_train)\n",
    "lgbTest = lgb.Dataset(X_test, y_test)\n",
    "lgbFinalTrain = lgb.Dataset(trainFeatures, trainLabels)"
   ]
  },
  {
   "cell_type": "code",
   "execution_count": 351,
   "metadata": {
    "scrolled": true
   },
   "outputs": [
    {
     "name": "stdout",
     "output_type": "stream",
     "text": [
      "Training until validation scores don't improve for 1000 rounds.\n",
      "[20]\tTrain's binary_logloss: 0.616357\tTest's binary_logloss: 0.625672\n",
      "[40]\tTrain's binary_logloss: 0.588174\tTest's binary_logloss: 0.595337\n",
      "[60]\tTrain's binary_logloss: 0.581703\tTest's binary_logloss: 0.588341\n",
      "[80]\tTrain's binary_logloss: 0.5715\tTest's binary_logloss: 0.57732\n",
      "[100]\tTrain's binary_logloss: 0.565653\tTest's binary_logloss: 0.571116\n",
      "[120]\tTrain's binary_logloss: 0.56222\tTest's binary_logloss: 0.567669\n",
      "[140]\tTrain's binary_logloss: 0.552686\tTest's binary_logloss: 0.55782\n",
      "[160]\tTrain's binary_logloss: 0.553899\tTest's binary_logloss: 0.558816\n",
      "[180]\tTrain's binary_logloss: 0.538481\tTest's binary_logloss: 0.544054\n",
      "[200]\tTrain's binary_logloss: 0.524861\tTest's binary_logloss: 0.53149\n",
      "[220]\tTrain's binary_logloss: 0.516517\tTest's binary_logloss: 0.524029\n",
      "[240]\tTrain's binary_logloss: 0.502851\tTest's binary_logloss: 0.51051\n",
      "[260]\tTrain's binary_logloss: 0.496377\tTest's binary_logloss: 0.504682\n",
      "[280]\tTrain's binary_logloss: 0.493122\tTest's binary_logloss: 0.502932\n",
      "[300]\tTrain's binary_logloss: 0.489011\tTest's binary_logloss: 0.498742\n",
      "[320]\tTrain's binary_logloss: 0.483405\tTest's binary_logloss: 0.493649\n",
      "[340]\tTrain's binary_logloss: 0.478836\tTest's binary_logloss: 0.48927\n",
      "[360]\tTrain's binary_logloss: 0.482142\tTest's binary_logloss: 0.491765\n",
      "[380]\tTrain's binary_logloss: 0.476687\tTest's binary_logloss: 0.487219\n",
      "[400]\tTrain's binary_logloss: 0.47099\tTest's binary_logloss: 0.483109\n",
      "[420]\tTrain's binary_logloss: 0.465442\tTest's binary_logloss: 0.477977\n",
      "[440]\tTrain's binary_logloss: 0.458034\tTest's binary_logloss: 0.470447\n",
      "[460]\tTrain's binary_logloss: 0.45494\tTest's binary_logloss: 0.468363\n",
      "[480]\tTrain's binary_logloss: 0.442228\tTest's binary_logloss: 0.456316\n",
      "[500]\tTrain's binary_logloss: 0.442308\tTest's binary_logloss: 0.456798\n",
      "[520]\tTrain's binary_logloss: 0.432798\tTest's binary_logloss: 0.449308\n",
      "[540]\tTrain's binary_logloss: 0.425867\tTest's binary_logloss: 0.44335\n",
      "[560]\tTrain's binary_logloss: 0.425952\tTest's binary_logloss: 0.444167\n",
      "[580]\tTrain's binary_logloss: 0.420211\tTest's binary_logloss: 0.440149\n",
      "[600]\tTrain's binary_logloss: 0.416377\tTest's binary_logloss: 0.437402\n",
      "[620]\tTrain's binary_logloss: 0.417221\tTest's binary_logloss: 0.438051\n",
      "[640]\tTrain's binary_logloss: 0.412108\tTest's binary_logloss: 0.434688\n",
      "[660]\tTrain's binary_logloss: 0.408754\tTest's binary_logloss: 0.432425\n",
      "[680]\tTrain's binary_logloss: 0.406594\tTest's binary_logloss: 0.431691\n",
      "[700]\tTrain's binary_logloss: 0.405698\tTest's binary_logloss: 0.431227\n",
      "[720]\tTrain's binary_logloss: 0.399468\tTest's binary_logloss: 0.427239\n",
      "[740]\tTrain's binary_logloss: 0.398654\tTest's binary_logloss: 0.427002\n",
      "[760]\tTrain's binary_logloss: 0.395966\tTest's binary_logloss: 0.42571\n",
      "[780]\tTrain's binary_logloss: 0.394048\tTest's binary_logloss: 0.42449\n",
      "[800]\tTrain's binary_logloss: 0.389836\tTest's binary_logloss: 0.421616\n",
      "[820]\tTrain's binary_logloss: 0.389629\tTest's binary_logloss: 0.421684\n",
      "[840]\tTrain's binary_logloss: 0.386553\tTest's binary_logloss: 0.418552\n",
      "[860]\tTrain's binary_logloss: 0.383266\tTest's binary_logloss: 0.415582\n",
      "[880]\tTrain's binary_logloss: 0.381705\tTest's binary_logloss: 0.41519\n",
      "[900]\tTrain's binary_logloss: 0.378032\tTest's binary_logloss: 0.412533\n",
      "[920]\tTrain's binary_logloss: 0.375355\tTest's binary_logloss: 0.410784\n",
      "[940]\tTrain's binary_logloss: 0.372201\tTest's binary_logloss: 0.409484\n",
      "[960]\tTrain's binary_logloss: 0.371101\tTest's binary_logloss: 0.408888\n",
      "[980]\tTrain's binary_logloss: 0.36711\tTest's binary_logloss: 0.406718\n",
      "[1000]\tTrain's binary_logloss: 0.362727\tTest's binary_logloss: 0.40382\n",
      "[1020]\tTrain's binary_logloss: 0.362502\tTest's binary_logloss: 0.403986\n",
      "[1040]\tTrain's binary_logloss: 0.360716\tTest's binary_logloss: 0.403036\n",
      "[1060]\tTrain's binary_logloss: 0.358449\tTest's binary_logloss: 0.402394\n",
      "[1080]\tTrain's binary_logloss: 0.356103\tTest's binary_logloss: 0.401033\n",
      "[1100]\tTrain's binary_logloss: 0.355485\tTest's binary_logloss: 0.401106\n",
      "[1120]\tTrain's binary_logloss: 0.355225\tTest's binary_logloss: 0.400944\n",
      "[1140]\tTrain's binary_logloss: 0.353349\tTest's binary_logloss: 0.3996\n",
      "[1160]\tTrain's binary_logloss: 0.35257\tTest's binary_logloss: 0.400113\n",
      "[1180]\tTrain's binary_logloss: 0.352027\tTest's binary_logloss: 0.400886\n",
      "[1200]\tTrain's binary_logloss: 0.349241\tTest's binary_logloss: 0.399448\n",
      "[1220]\tTrain's binary_logloss: 0.348466\tTest's binary_logloss: 0.398955\n",
      "[1240]\tTrain's binary_logloss: 0.345899\tTest's binary_logloss: 0.396929\n",
      "[1260]\tTrain's binary_logloss: 0.343472\tTest's binary_logloss: 0.395117\n",
      "[1280]\tTrain's binary_logloss: 0.341904\tTest's binary_logloss: 0.394217\n",
      "[1300]\tTrain's binary_logloss: 0.339318\tTest's binary_logloss: 0.393001\n",
      "[1320]\tTrain's binary_logloss: 0.33933\tTest's binary_logloss: 0.392884\n",
      "[1340]\tTrain's binary_logloss: 0.337407\tTest's binary_logloss: 0.393087\n",
      "[1360]\tTrain's binary_logloss: 0.335352\tTest's binary_logloss: 0.391959\n",
      "[1380]\tTrain's binary_logloss: 0.33511\tTest's binary_logloss: 0.392304\n",
      "[1400]\tTrain's binary_logloss: 0.334182\tTest's binary_logloss: 0.39191\n",
      "[1420]\tTrain's binary_logloss: 0.331695\tTest's binary_logloss: 0.390759\n",
      "[1440]\tTrain's binary_logloss: 0.330284\tTest's binary_logloss: 0.390188\n",
      "[1460]\tTrain's binary_logloss: 0.328257\tTest's binary_logloss: 0.389478\n",
      "[1480]\tTrain's binary_logloss: 0.326157\tTest's binary_logloss: 0.388485\n",
      "[1500]\tTrain's binary_logloss: 0.323904\tTest's binary_logloss: 0.387027\n",
      "[1520]\tTrain's binary_logloss: 0.322827\tTest's binary_logloss: 0.386353\n",
      "[1540]\tTrain's binary_logloss: 0.321098\tTest's binary_logloss: 0.385908\n",
      "[1560]\tTrain's binary_logloss: 0.31854\tTest's binary_logloss: 0.384957\n",
      "[1580]\tTrain's binary_logloss: 0.316734\tTest's binary_logloss: 0.384395\n",
      "[1600]\tTrain's binary_logloss: 0.315907\tTest's binary_logloss: 0.384316\n",
      "[1620]\tTrain's binary_logloss: 0.316042\tTest's binary_logloss: 0.384431\n",
      "[1640]\tTrain's binary_logloss: 0.314245\tTest's binary_logloss: 0.383914\n",
      "[1660]\tTrain's binary_logloss: 0.314554\tTest's binary_logloss: 0.383939\n",
      "[1680]\tTrain's binary_logloss: 0.313471\tTest's binary_logloss: 0.383884\n",
      "[1700]\tTrain's binary_logloss: 0.311616\tTest's binary_logloss: 0.383823\n",
      "[1720]\tTrain's binary_logloss: 0.310686\tTest's binary_logloss: 0.383887\n",
      "[1740]\tTrain's binary_logloss: 0.308914\tTest's binary_logloss: 0.383992\n",
      "[1760]\tTrain's binary_logloss: 0.30778\tTest's binary_logloss: 0.384098\n",
      "[1780]\tTrain's binary_logloss: 0.306782\tTest's binary_logloss: 0.383819\n",
      "[1800]\tTrain's binary_logloss: 0.305123\tTest's binary_logloss: 0.383597\n",
      "[1820]\tTrain's binary_logloss: 0.304373\tTest's binary_logloss: 0.383667\n",
      "[1840]\tTrain's binary_logloss: 0.303247\tTest's binary_logloss: 0.383409\n",
      "[1860]\tTrain's binary_logloss: 0.301934\tTest's binary_logloss: 0.383023\n",
      "[1880]\tTrain's binary_logloss: 0.30151\tTest's binary_logloss: 0.38302\n",
      "[1900]\tTrain's binary_logloss: 0.299201\tTest's binary_logloss: 0.383249\n",
      "[1920]\tTrain's binary_logloss: 0.299428\tTest's binary_logloss: 0.383324\n",
      "[1940]\tTrain's binary_logloss: 0.298672\tTest's binary_logloss: 0.383335\n",
      "[1960]\tTrain's binary_logloss: 0.297906\tTest's binary_logloss: 0.383468\n",
      "[1980]\tTrain's binary_logloss: 0.296691\tTest's binary_logloss: 0.383445\n",
      "[2000]\tTrain's binary_logloss: 0.295371\tTest's binary_logloss: 0.383175\n",
      "[2020]\tTrain's binary_logloss: 0.294734\tTest's binary_logloss: 0.383726\n",
      "[2040]\tTrain's binary_logloss: 0.29397\tTest's binary_logloss: 0.383769\n",
      "[2060]\tTrain's binary_logloss: 0.29321\tTest's binary_logloss: 0.383536\n",
      "[2080]\tTrain's binary_logloss: 0.29289\tTest's binary_logloss: 0.383777\n",
      "[2100]\tTrain's binary_logloss: 0.291227\tTest's binary_logloss: 0.383959\n",
      "[2120]\tTrain's binary_logloss: 0.289724\tTest's binary_logloss: 0.384392\n",
      "[2140]\tTrain's binary_logloss: 0.289399\tTest's binary_logloss: 0.38458\n",
      "[2160]\tTrain's binary_logloss: 0.288515\tTest's binary_logloss: 0.384856\n",
      "[2180]\tTrain's binary_logloss: 0.287944\tTest's binary_logloss: 0.385055\n",
      "[2200]\tTrain's binary_logloss: 0.286794\tTest's binary_logloss: 0.384909\n",
      "[2220]\tTrain's binary_logloss: 0.286087\tTest's binary_logloss: 0.385359\n",
      "[2240]\tTrain's binary_logloss: 0.285484\tTest's binary_logloss: 0.385694\n",
      "[2260]\tTrain's binary_logloss: 0.284024\tTest's binary_logloss: 0.385994\n",
      "[2280]\tTrain's binary_logloss: 0.282813\tTest's binary_logloss: 0.386134\n",
      "[2300]\tTrain's binary_logloss: 0.281115\tTest's binary_logloss: 0.386429\n",
      "[2320]\tTrain's binary_logloss: 0.280371\tTest's binary_logloss: 0.386967\n",
      "[2340]\tTrain's binary_logloss: 0.280015\tTest's binary_logloss: 0.387257\n",
      "[2360]\tTrain's binary_logloss: 0.279425\tTest's binary_logloss: 0.387561\n"
     ]
    },
    {
     "name": "stdout",
     "output_type": "stream",
     "text": [
      "[2380]\tTrain's binary_logloss: 0.278732\tTest's binary_logloss: 0.38789\n",
      "[2400]\tTrain's binary_logloss: 0.278593\tTest's binary_logloss: 0.388088\n",
      "[2420]\tTrain's binary_logloss: 0.278266\tTest's binary_logloss: 0.388459\n",
      "[2440]\tTrain's binary_logloss: 0.277669\tTest's binary_logloss: 0.388779\n",
      "[2460]\tTrain's binary_logloss: 0.276562\tTest's binary_logloss: 0.389228\n",
      "[2480]\tTrain's binary_logloss: 0.27569\tTest's binary_logloss: 0.3895\n",
      "[2500]\tTrain's binary_logloss: 0.2754\tTest's binary_logloss: 0.389708\n",
      "[2520]\tTrain's binary_logloss: 0.27445\tTest's binary_logloss: 0.389563\n",
      "[2540]\tTrain's binary_logloss: 0.273768\tTest's binary_logloss: 0.389844\n",
      "[2560]\tTrain's binary_logloss: 0.273335\tTest's binary_logloss: 0.38994\n",
      "[2580]\tTrain's binary_logloss: 0.272026\tTest's binary_logloss: 0.390021\n",
      "[2600]\tTrain's binary_logloss: 0.271261\tTest's binary_logloss: 0.390703\n",
      "[2620]\tTrain's binary_logloss: 0.270216\tTest's binary_logloss: 0.391088\n",
      "[2640]\tTrain's binary_logloss: 0.269513\tTest's binary_logloss: 0.391279\n",
      "[2660]\tTrain's binary_logloss: 0.268\tTest's binary_logloss: 0.3917\n",
      "[2680]\tTrain's binary_logloss: 0.267127\tTest's binary_logloss: 0.391755\n",
      "[2700]\tTrain's binary_logloss: 0.266187\tTest's binary_logloss: 0.391799\n",
      "[2720]\tTrain's binary_logloss: 0.264753\tTest's binary_logloss: 0.392888\n",
      "[2740]\tTrain's binary_logloss: 0.264465\tTest's binary_logloss: 0.392809\n",
      "[2760]\tTrain's binary_logloss: 0.263725\tTest's binary_logloss: 0.393556\n",
      "[2780]\tTrain's binary_logloss: 0.26262\tTest's binary_logloss: 0.394114\n",
      "[2800]\tTrain's binary_logloss: 0.261474\tTest's binary_logloss: 0.394333\n",
      "[2820]\tTrain's binary_logloss: 0.260585\tTest's binary_logloss: 0.394789\n",
      "[2840]\tTrain's binary_logloss: 0.259834\tTest's binary_logloss: 0.394865\n",
      "[2860]\tTrain's binary_logloss: 0.2595\tTest's binary_logloss: 0.394922\n",
      "Early stopping, best iteration is:\n",
      "[1870]\tTrain's binary_logloss: 0.301197\tTest's binary_logloss: 0.382914\n"
     ]
    }
   ],
   "source": [
    "#light gbm\n",
    "\n",
    "lgbParams = {\n",
    "    'boosting': 'dart',          # dart (drop out trees) often performs better\n",
    "    'application': 'binary',     # Binary classification\n",
    "    'learning_rate': 0.01,      # Learning rate, controls size of a gradient descent step\n",
    "    'min_data_in_leaf': 20,      # Data set is quite small so reduce this a bit\n",
    "    'feature_fraction': 0.6,     # Proportion of features in each boost, controls overfitting\n",
    "    'num_leaves': 41,            # Controls size of tree since LGBM uses leaf wise splits\n",
    "    'metric': 'binary_logloss',  # Area under ROC curve as the evaulation metric\n",
    "    'drop_rate': 0.15\n",
    "}\n",
    "\n",
    "#学習\n",
    "evaluationResults = {}\n",
    "lgbModel = lgb.train(train_set=lgbTrain,\n",
    "                     params=lgbParams,\n",
    "                     valid_sets=[lgbTrain, lgbTest], \n",
    "                     valid_names=['Train', 'Test'],\n",
    "                     evals_result=evaluationResults,\n",
    "                     num_boost_round=5000,\n",
    "                     early_stopping_rounds=1000,\n",
    "                     verbose_eval=20\n",
    "                    )\n",
    "\n",
    "optimum_boost_rounds = lgbModel.best_iteration"
   ]
  },
  {
   "cell_type": "code",
   "execution_count": 352,
   "metadata": {
    "scrolled": false
   },
   "outputs": [],
   "source": [
    "#from sklearn.ensemble import GradientBoostingClassifier #GBM algorithm\n",
    "#from sklearn.grid_search import GridSearchCV #Perforing grid search\n",
    "\n",
    "#param_test3 = {'min_samples_leaf':list(range(30,71,10))}\n",
    "#gsearch3 = GridSearchCV(estimator = GradientBoostingClassifier(learning_rate=0.1, n_estimators=60, min_samples_split=800, max_depth=7,max_features='sqrt', subsample=0.8, random_state=10), \n",
    "#param_grid = param_test3, scoring='roc_auc',n_jobs=4,iid=False, cv=5)\n",
    "#gsearch3.fit(trainFeatures,trainLabels)\n",
    "#mean_list = []\n",
    "#for s in gsearch3.grid_scores_:\n",
    "#    mean_list.append(s[1])\n",
    "#plt.figure(figsize=(4,2))\n",
    "#plt.plot(list(range(30,71,10)), mean_list)\n",
    "#plt.title(\"GridSearchCV Score\")\n",
    "#plt.xlabel(\"min_samples_leaf\")\n",
    "#plt.show()\n",
    "#gsearch3.grid_scores_, gsearch3.best_params_, gsearch3.best_score_"
   ]
  },
  {
   "cell_type": "code",
   "execution_count": 353,
   "metadata": {},
   "outputs": [
    {
     "data": {
      "image/png": "[encoded data removed]",
      "text/plain": [
       "<matplotlib.figure.Figure at 0x7f380bb88588>"
      ]
     },
     "metadata": {},
     "output_type": "display_data"
    }
   ],
   "source": [
    "fig, axs = plt.subplots(1, 2, figsize=[15, 4])\n",
    "\n",
    "# Plot the log loss during training\n",
    "axs[0].plot(evaluationResults['Train']['binary_logloss'], label='Train')\n",
    "axs[0].plot(evaluationResults['Test']['binary_logloss'], label='Test')\n",
    "axs[0].set_ylabel('Log loss')\n",
    "axs[0].set_xlabel('Boosting round')\n",
    "axs[0].set_title('Training performance')\n",
    "axs[0].legend()\n",
    "\n",
    "# Plot feature importance\n",
    "importances = pd.DataFrame({'features': lgbModel.feature_name(), \n",
    "                            'importance': lgbModel.feature_importance()}).sort_values('importance', ascending=False)\n",
    "axs[1].bar(x=np.arange(len(importances)), height=importances['importance'])\n",
    "axs[1].set_xticks(np.arange(len(importances)))\n",
    "axs[1].set_xticklabels(importances['features'])\n",
    "axs[1].set_ylabel('Feature importance (# times used to split)')\n",
    "axs[1].set_title('Feature importance')\n",
    "\n",
    "plt.show()"
   ]
  },
  {
   "cell_type": "code",
   "execution_count": 354,
   "metadata": {},
   "outputs": [
    {
     "name": "stdout",
     "output_type": "stream",
     "text": [
      "Accuracy score = \t 0.8547486033519553\n",
      "Precision score = \t 0.8194444444444444\n",
      "Recall score =   \t 0.8194444444444444\n",
      "F1 score =      \t 0.8194444444444444\n"
     ]
    }
   ],
   "source": [
    "from sklearn.metrics import accuracy_score, recall_score, precision_score, f1_score\n",
    "preds = np.round(lgbModel.predict(X_test))\n",
    "print('Accuracy score = \\t {}'.format(accuracy_score(y_test, preds)))\n",
    "print('Precision score = \\t {}'.format(precision_score(y_test, preds)))\n",
    "print('Recall score =   \\t {}'.format(recall_score(y_test, preds)))\n",
    "print('F1 score =      \\t {}'.format(f1_score(y_test, preds)))"
   ]
  },
  {
   "cell_type": "code",
   "execution_count": 355,
   "metadata": {},
   "outputs": [],
   "source": [
    "#予測用datasetで予測\n",
    "lgbFinal = lgb.train(train_set=lgbFinalTrain,\n",
    "                      params=lgbParams,\n",
    "                      num_boost_round=optimum_boost_rounds,\n",
    "                      verbose_eval=0\n",
    "                      )\n",
    "\n",
    "lgbPred = np.round(lgbFinal.predict(test)).astype(int)"
   ]
  },
  {
   "cell_type": "code",
   "execution_count": 356,
   "metadata": {},
   "outputs": [],
   "source": [
    "# テスト値を再読み込みして，randomForestでクラス分類したカラムを追加\n",
    "df_out = pd.read_csv(\"./data/test.csv\")\n",
    "testLabels = pd.Series(lgbPred)\n",
    "df_out[\"Survived\"] = testLabels\n",
    "\n",
    "# outputディレクトリに出力する\n",
    "#df_out[[\"PassengerId\",\"Survived\"]].to_csv(\"./data/lgbSubmission5.csv\",index=False)"
   ]
  },
  {
   "cell_type": "code",
   "execution_count": 357,
   "metadata": {},
   "outputs": [],
   "source": [
    "#予測結果でラベル付けしたtest dataを追加して再度学習する"
   ]
  },
  {
   "cell_type": "code",
   "execution_count": 358,
   "metadata": {},
   "outputs": [
    {
     "data": {
      "text/html": [
       "<div>\n",
       "<style scoped>\n",
       "    .dataframe tbody tr th:only-of-type {\n",
       "        vertical-align: middle;\n",
       "    }\n",
       "\n",
       "    .dataframe tbody tr th {\n",
       "        vertical-align: top;\n",
       "    }\n",
       "\n",
       "    .dataframe thead th {\n",
       "        text-align: right;\n",
       "    }\n",
       "</style>\n",
       "<table border=\"1\" class=\"dataframe\">\n",
       "  <thead>\n",
       "    <tr style=\"text-align: right;\">\n",
       "      <th></th>\n",
       "      <th>PassengerId</th>\n",
       "      <th>Pclass</th>\n",
       "      <th>Name</th>\n",
       "      <th>Sex</th>\n",
       "      <th>Age</th>\n",
       "      <th>SibSp</th>\n",
       "      <th>Parch</th>\n",
       "      <th>Ticket</th>\n",
       "      <th>Fare</th>\n",
       "      <th>Cabin</th>\n",
       "      <th>Embarked</th>\n",
       "      <th>Survived</th>\n",
       "    </tr>\n",
       "  </thead>\n",
       "  <tbody>\n",
       "    <tr>\n",
       "      <th>0</th>\n",
       "      <td>892</td>\n",
       "      <td>3</td>\n",
       "      <td>Kelly, Mr. James</td>\n",
       "      <td>male</td>\n",
       "      <td>34.5</td>\n",
       "      <td>0</td>\n",
       "      <td>0</td>\n",
       "      <td>330911</td>\n",
       "      <td>7.8292</td>\n",
       "      <td>NaN</td>\n",
       "      <td>Q</td>\n",
       "      <td>0</td>\n",
       "    </tr>\n",
       "    <tr>\n",
       "      <th>1</th>\n",
       "      <td>893</td>\n",
       "      <td>3</td>\n",
       "      <td>Wilkes, Mrs. James (Ellen Needs)</td>\n",
       "      <td>female</td>\n",
       "      <td>47.0</td>\n",
       "      <td>1</td>\n",
       "      <td>0</td>\n",
       "      <td>363272</td>\n",
       "      <td>7.0000</td>\n",
       "      <td>NaN</td>\n",
       "      <td>S</td>\n",
       "      <td>0</td>\n",
       "    </tr>\n",
       "    <tr>\n",
       "      <th>2</th>\n",
       "      <td>894</td>\n",
       "      <td>2</td>\n",
       "      <td>Myles, Mr. Thomas Francis</td>\n",
       "      <td>male</td>\n",
       "      <td>62.0</td>\n",
       "      <td>0</td>\n",
       "      <td>0</td>\n",
       "      <td>240276</td>\n",
       "      <td>9.6875</td>\n",
       "      <td>NaN</td>\n",
       "      <td>Q</td>\n",
       "      <td>0</td>\n",
       "    </tr>\n",
       "    <tr>\n",
       "      <th>3</th>\n",
       "      <td>895</td>\n",
       "      <td>3</td>\n",
       "      <td>Wirz, Mr. Albert</td>\n",
       "      <td>male</td>\n",
       "      <td>27.0</td>\n",
       "      <td>0</td>\n",
       "      <td>0</td>\n",
       "      <td>315154</td>\n",
       "      <td>8.6625</td>\n",
       "      <td>NaN</td>\n",
       "      <td>S</td>\n",
       "      <td>0</td>\n",
       "    </tr>\n",
       "    <tr>\n",
       "      <th>4</th>\n",
       "      <td>896</td>\n",
       "      <td>3</td>\n",
       "      <td>Hirvonen, Mrs. Alexander (Helga E Lindqvist)</td>\n",
       "      <td>female</td>\n",
       "      <td>22.0</td>\n",
       "      <td>1</td>\n",
       "      <td>1</td>\n",
       "      <td>3101298</td>\n",
       "      <td>12.2875</td>\n",
       "      <td>NaN</td>\n",
       "      <td>S</td>\n",
       "      <td>1</td>\n",
       "    </tr>\n",
       "  </tbody>\n",
       "</table>\n",
       "</div>"
      ],
      "text/plain": [
       "   PassengerId  Pclass                                          Name     Sex  \\\n",
       "0          892       3                              Kelly, Mr. James    male   \n",
       "1          893       3              Wilkes, Mrs. James (Ellen Needs)  female   \n",
       "2          894       2                     Myles, Mr. Thomas Francis    male   \n",
       "3          895       3                              Wirz, Mr. Albert    male   \n",
       "4          896       3  Hirvonen, Mrs. Alexander (Helga E Lindqvist)  female   \n",
       "\n",
       "    Age  SibSp  Parch   Ticket     Fare Cabin Embarked  Survived  \n",
       "0  34.5      0      0   330911   7.8292   NaN        Q         0  \n",
       "1  47.0      1      0   363272   7.0000   NaN        S         0  \n",
       "2  62.0      0      0   240276   9.6875   NaN        Q         0  \n",
       "3  27.0      0      0   315154   8.6625   NaN        S         0  \n",
       "4  22.0      1      1  3101298  12.2875   NaN        S         1  "
      ]
     },
     "execution_count": 358,
     "metadata": {},
     "output_type": "execute_result"
    }
   ],
   "source": [
    "df_out.head()"
   ]
  },
  {
   "cell_type": "code",
   "execution_count": 359,
   "metadata": {},
   "outputs": [],
   "source": [
    "testFeatures = test"
   ]
  },
  {
   "cell_type": "code",
   "execution_count": 360,
   "metadata": {},
   "outputs": [
    {
     "data": {
      "text/html": [
       "<div>\n",
       "<style scoped>\n",
       "    .dataframe tbody tr th:only-of-type {\n",
       "        vertical-align: middle;\n",
       "    }\n",
       "\n",
       "    .dataframe tbody tr th {\n",
       "        vertical-align: top;\n",
       "    }\n",
       "\n",
       "    .dataframe thead th {\n",
       "        text-align: right;\n",
       "    }\n",
       "</style>\n",
       "<table border=\"1\" class=\"dataframe\">\n",
       "  <thead>\n",
       "    <tr style=\"text-align: right;\">\n",
       "      <th></th>\n",
       "      <th>Pclass</th>\n",
       "      <th>Sex</th>\n",
       "      <th>Fare</th>\n",
       "      <th>Embarked</th>\n",
       "      <th>RoomLorR</th>\n",
       "      <th>aboutAge</th>\n",
       "      <th>SibSpParch</th>\n",
       "    </tr>\n",
       "  </thead>\n",
       "  <tbody>\n",
       "    <tr>\n",
       "      <th>0</th>\n",
       "      <td>3</td>\n",
       "      <td>1</td>\n",
       "      <td>7.8292</td>\n",
       "      <td>1</td>\n",
       "      <td>0</td>\n",
       "      <td>3.0</td>\n",
       "      <td>0</td>\n",
       "    </tr>\n",
       "    <tr>\n",
       "      <th>1</th>\n",
       "      <td>3</td>\n",
       "      <td>0</td>\n",
       "      <td>7.0000</td>\n",
       "      <td>2</td>\n",
       "      <td>1</td>\n",
       "      <td>4.0</td>\n",
       "      <td>1</td>\n",
       "    </tr>\n",
       "    <tr>\n",
       "      <th>2</th>\n",
       "      <td>2</td>\n",
       "      <td>1</td>\n",
       "      <td>9.6875</td>\n",
       "      <td>1</td>\n",
       "      <td>1</td>\n",
       "      <td>6.0</td>\n",
       "      <td>0</td>\n",
       "    </tr>\n",
       "    <tr>\n",
       "      <th>3</th>\n",
       "      <td>3</td>\n",
       "      <td>1</td>\n",
       "      <td>8.6625</td>\n",
       "      <td>2</td>\n",
       "      <td>1</td>\n",
       "      <td>2.0</td>\n",
       "      <td>0</td>\n",
       "    </tr>\n",
       "    <tr>\n",
       "      <th>4</th>\n",
       "      <td>3</td>\n",
       "      <td>0</td>\n",
       "      <td>12.2875</td>\n",
       "      <td>2</td>\n",
       "      <td>1</td>\n",
       "      <td>2.0</td>\n",
       "      <td>2</td>\n",
       "    </tr>\n",
       "  </tbody>\n",
       "</table>\n",
       "</div>"
      ],
      "text/plain": [
       "   Pclass  Sex     Fare  Embarked  RoomLorR  aboutAge  SibSpParch\n",
       "0       3    1   7.8292         1         0       3.0           0\n",
       "1       3    0   7.0000         2         1       4.0           1\n",
       "2       2    1   9.6875         1         1       6.0           0\n",
       "3       3    1   8.6625         2         1       2.0           0\n",
       "4       3    0  12.2875         2         1       2.0           2"
      ]
     },
     "execution_count": 360,
     "metadata": {},
     "output_type": "execute_result"
    }
   ],
   "source": [
    "testFeatures.head()"
   ]
  },
  {
   "cell_type": "code",
   "execution_count": 361,
   "metadata": {},
   "outputs": [
    {
     "data": {
      "text/html": [
       "<div>\n",
       "<style scoped>\n",
       "    .dataframe tbody tr th:only-of-type {\n",
       "        vertical-align: middle;\n",
       "    }\n",
       "\n",
       "    .dataframe tbody tr th {\n",
       "        vertical-align: top;\n",
       "    }\n",
       "\n",
       "    .dataframe thead th {\n",
       "        text-align: right;\n",
       "    }\n",
       "</style>\n",
       "<table border=\"1\" class=\"dataframe\">\n",
       "  <thead>\n",
       "    <tr style=\"text-align: right;\">\n",
       "      <th></th>\n",
       "      <th>Pclass</th>\n",
       "      <th>Sex</th>\n",
       "      <th>Fare</th>\n",
       "      <th>Embarked</th>\n",
       "      <th>RoomLorR</th>\n",
       "      <th>aboutAge</th>\n",
       "      <th>SibSpParch</th>\n",
       "    </tr>\n",
       "  </thead>\n",
       "  <tbody>\n",
       "    <tr>\n",
       "      <th>0</th>\n",
       "      <td>3</td>\n",
       "      <td>1</td>\n",
       "      <td>7.2500</td>\n",
       "      <td>2</td>\n",
       "      <td>0.0</td>\n",
       "      <td>2.0</td>\n",
       "      <td>1</td>\n",
       "    </tr>\n",
       "    <tr>\n",
       "      <th>1</th>\n",
       "      <td>1</td>\n",
       "      <td>0</td>\n",
       "      <td>71.2833</td>\n",
       "      <td>0</td>\n",
       "      <td>0.0</td>\n",
       "      <td>3.0</td>\n",
       "      <td>1</td>\n",
       "    </tr>\n",
       "    <tr>\n",
       "      <th>2</th>\n",
       "      <td>3</td>\n",
       "      <td>0</td>\n",
       "      <td>7.9250</td>\n",
       "      <td>2</td>\n",
       "      <td>1.0</td>\n",
       "      <td>2.0</td>\n",
       "      <td>0</td>\n",
       "    </tr>\n",
       "    <tr>\n",
       "      <th>3</th>\n",
       "      <td>1</td>\n",
       "      <td>0</td>\n",
       "      <td>53.1000</td>\n",
       "      <td>2</td>\n",
       "      <td>0.0</td>\n",
       "      <td>3.0</td>\n",
       "      <td>1</td>\n",
       "    </tr>\n",
       "    <tr>\n",
       "      <th>4</th>\n",
       "      <td>3</td>\n",
       "      <td>1</td>\n",
       "      <td>8.0500</td>\n",
       "      <td>2</td>\n",
       "      <td>1.0</td>\n",
       "      <td>3.0</td>\n",
       "      <td>0</td>\n",
       "    </tr>\n",
       "  </tbody>\n",
       "</table>\n",
       "</div>"
      ],
      "text/plain": [
       "   Pclass  Sex     Fare  Embarked  RoomLorR  aboutAge  SibSpParch\n",
       "0       3    1   7.2500         2       0.0       2.0           1\n",
       "1       1    0  71.2833         0       0.0       3.0           1\n",
       "2       3    0   7.9250         2       1.0       2.0           0\n",
       "3       1    0  53.1000         2       0.0       3.0           1\n",
       "4       3    1   8.0500         2       1.0       3.0           0"
      ]
     },
     "execution_count": 361,
     "metadata": {},
     "output_type": "execute_result"
    }
   ],
   "source": [
    "trainFeatures.head()"
   ]
  },
  {
   "cell_type": "code",
   "execution_count": 362,
   "metadata": {},
   "outputs": [],
   "source": [
    "mixDataFeatures = pd.concat([trainFeatures,testFeatures])\n",
    "mixDataLabels = pd.concat([trainLabels, testLabels])"
   ]
  },
  {
   "cell_type": "code",
   "execution_count": 363,
   "metadata": {},
   "outputs": [
    {
     "data": {
      "text/plain": [
       "(1309, 7)"
      ]
     },
     "execution_count": 363,
     "metadata": {},
     "output_type": "execute_result"
    }
   ],
   "source": [
    "mixDataFeatures.shape"
   ]
  },
  {
   "cell_type": "code",
   "execution_count": 364,
   "metadata": {},
   "outputs": [
    {
     "data": {
      "text/html": [
       "<div>\n",
       "<style scoped>\n",
       "    .dataframe tbody tr th:only-of-type {\n",
       "        vertical-align: middle;\n",
       "    }\n",
       "\n",
       "    .dataframe tbody tr th {\n",
       "        vertical-align: top;\n",
       "    }\n",
       "\n",
       "    .dataframe thead th {\n",
       "        text-align: right;\n",
       "    }\n",
       "</style>\n",
       "<table border=\"1\" class=\"dataframe\">\n",
       "  <thead>\n",
       "    <tr style=\"text-align: right;\">\n",
       "      <th></th>\n",
       "      <th>Pclass</th>\n",
       "      <th>Sex</th>\n",
       "      <th>Fare</th>\n",
       "      <th>Embarked</th>\n",
       "      <th>RoomLorR</th>\n",
       "      <th>aboutAge</th>\n",
       "      <th>SibSpParch</th>\n",
       "    </tr>\n",
       "  </thead>\n",
       "  <tbody>\n",
       "    <tr>\n",
       "      <th>0</th>\n",
       "      <td>3</td>\n",
       "      <td>1</td>\n",
       "      <td>7.2500</td>\n",
       "      <td>2</td>\n",
       "      <td>0.0</td>\n",
       "      <td>2.0</td>\n",
       "      <td>1</td>\n",
       "    </tr>\n",
       "    <tr>\n",
       "      <th>1</th>\n",
       "      <td>1</td>\n",
       "      <td>0</td>\n",
       "      <td>71.2833</td>\n",
       "      <td>0</td>\n",
       "      <td>0.0</td>\n",
       "      <td>3.0</td>\n",
       "      <td>1</td>\n",
       "    </tr>\n",
       "    <tr>\n",
       "      <th>2</th>\n",
       "      <td>3</td>\n",
       "      <td>0</td>\n",
       "      <td>7.9250</td>\n",
       "      <td>2</td>\n",
       "      <td>1.0</td>\n",
       "      <td>2.0</td>\n",
       "      <td>0</td>\n",
       "    </tr>\n",
       "    <tr>\n",
       "      <th>3</th>\n",
       "      <td>1</td>\n",
       "      <td>0</td>\n",
       "      <td>53.1000</td>\n",
       "      <td>2</td>\n",
       "      <td>0.0</td>\n",
       "      <td>3.0</td>\n",
       "      <td>1</td>\n",
       "    </tr>\n",
       "    <tr>\n",
       "      <th>4</th>\n",
       "      <td>3</td>\n",
       "      <td>1</td>\n",
       "      <td>8.0500</td>\n",
       "      <td>2</td>\n",
       "      <td>1.0</td>\n",
       "      <td>3.0</td>\n",
       "      <td>0</td>\n",
       "    </tr>\n",
       "  </tbody>\n",
       "</table>\n",
       "</div>"
      ],
      "text/plain": [
       "   Pclass  Sex     Fare  Embarked  RoomLorR  aboutAge  SibSpParch\n",
       "0       3    1   7.2500         2       0.0       2.0           1\n",
       "1       1    0  71.2833         0       0.0       3.0           1\n",
       "2       3    0   7.9250         2       1.0       2.0           0\n",
       "3       1    0  53.1000         2       0.0       3.0           1\n",
       "4       3    1   8.0500         2       1.0       3.0           0"
      ]
     },
     "execution_count": 364,
     "metadata": {},
     "output_type": "execute_result"
    }
   ],
   "source": [
    "mixDataFeatures.head()"
   ]
  },
  {
   "cell_type": "code",
   "execution_count": 365,
   "metadata": {},
   "outputs": [
    {
     "data": {
      "text/plain": [
       "0    0\n",
       "1    1\n",
       "2    1\n",
       "3    1\n",
       "4    0\n",
       "dtype: int64"
      ]
     },
     "execution_count": 365,
     "metadata": {},
     "output_type": "execute_result"
    }
   ],
   "source": [
    "mixDataLabels.head()"
   ]
  },
  {
   "cell_type": "code",
   "execution_count": 366,
   "metadata": {},
   "outputs": [],
   "source": [
    "#light gbm 用データ分割\n",
    "X_train, X_test, y_train, y_test = train_test_split(mixDataFeatures, mixDataLabels, test_size=0.2, random_state=72)\n",
    "\n",
    "#モデル用dataset生成\n",
    "import lightgbm as lgb\n",
    "lgbTrain = lgb.Dataset(X_train, y_train)\n",
    "lgbTest = lgb.Dataset(X_test, y_test)\n",
    "lgbFinalTrain = lgb.Dataset(trainFeatures, trainLabels)"
   ]
  },
  {
   "cell_type": "code",
   "execution_count": 367,
   "metadata": {
    "scrolled": true
   },
   "outputs": [
    {
     "name": "stdout",
     "output_type": "stream",
     "text": [
      "Training until validation scores don't improve for 1000 rounds.\n",
      "[20]\tTrain's binary_logloss: 0.558156\tTest's binary_logloss: 0.556457\n",
      "[40]\tTrain's binary_logloss: 0.505537\tTest's binary_logloss: 0.511397\n",
      "[60]\tTrain's binary_logloss: 0.49275\tTest's binary_logloss: 0.502967\n",
      "[80]\tTrain's binary_logloss: 0.474829\tTest's binary_logloss: 0.487266\n",
      "[100]\tTrain's binary_logloss: 0.464736\tTest's binary_logloss: 0.477244\n",
      "[120]\tTrain's binary_logloss: 0.457678\tTest's binary_logloss: 0.472228\n",
      "[140]\tTrain's binary_logloss: 0.441632\tTest's binary_logloss: 0.457451\n",
      "[160]\tTrain's binary_logloss: 0.443296\tTest's binary_logloss: 0.459112\n",
      "[180]\tTrain's binary_logloss: 0.419472\tTest's binary_logloss: 0.440257\n",
      "[200]\tTrain's binary_logloss: 0.399399\tTest's binary_logloss: 0.423538\n",
      "[220]\tTrain's binary_logloss: 0.38748\tTest's binary_logloss: 0.413471\n",
      "[240]\tTrain's binary_logloss: 0.36941\tTest's binary_logloss: 0.397625\n",
      "[260]\tTrain's binary_logloss: 0.361252\tTest's binary_logloss: 0.390649\n",
      "[280]\tTrain's binary_logloss: 0.356747\tTest's binary_logloss: 0.389201\n",
      "[300]\tTrain's binary_logloss: 0.351271\tTest's binary_logloss: 0.385616\n",
      "[320]\tTrain's binary_logloss: 0.344558\tTest's binary_logloss: 0.380365\n",
      "[340]\tTrain's binary_logloss: 0.339787\tTest's binary_logloss: 0.376709\n",
      "[360]\tTrain's binary_logloss: 0.344411\tTest's binary_logloss: 0.379692\n",
      "[380]\tTrain's binary_logloss: 0.338131\tTest's binary_logloss: 0.374463\n",
      "[400]\tTrain's binary_logloss: 0.33153\tTest's binary_logloss: 0.369932\n",
      "[420]\tTrain's binary_logloss: 0.325636\tTest's binary_logloss: 0.364947\n",
      "[440]\tTrain's binary_logloss: 0.318014\tTest's binary_logloss: 0.358636\n",
      "[460]\tTrain's binary_logloss: 0.314694\tTest's binary_logloss: 0.355896\n",
      "[480]\tTrain's binary_logloss: 0.301195\tTest's binary_logloss: 0.344771\n",
      "[500]\tTrain's binary_logloss: 0.301164\tTest's binary_logloss: 0.345119\n",
      "[520]\tTrain's binary_logloss: 0.291643\tTest's binary_logloss: 0.339848\n",
      "[540]\tTrain's binary_logloss: 0.284911\tTest's binary_logloss: 0.335359\n",
      "[560]\tTrain's binary_logloss: 0.285079\tTest's binary_logloss: 0.335892\n",
      "[580]\tTrain's binary_logloss: 0.278828\tTest's binary_logloss: 0.333105\n",
      "[600]\tTrain's binary_logloss: 0.275056\tTest's binary_logloss: 0.331646\n",
      "[620]\tTrain's binary_logloss: 0.276101\tTest's binary_logloss: 0.331825\n",
      "[640]\tTrain's binary_logloss: 0.271154\tTest's binary_logloss: 0.329487\n",
      "[660]\tTrain's binary_logloss: 0.267708\tTest's binary_logloss: 0.328851\n",
      "[680]\tTrain's binary_logloss: 0.264961\tTest's binary_logloss: 0.330096\n",
      "[700]\tTrain's binary_logloss: 0.264219\tTest's binary_logloss: 0.330402\n",
      "[720]\tTrain's binary_logloss: 0.257501\tTest's binary_logloss: 0.328142\n",
      "[740]\tTrain's binary_logloss: 0.256343\tTest's binary_logloss: 0.328332\n",
      "[760]\tTrain's binary_logloss: 0.25323\tTest's binary_logloss: 0.328883\n",
      "[780]\tTrain's binary_logloss: 0.251366\tTest's binary_logloss: 0.327797\n",
      "[800]\tTrain's binary_logloss: 0.246783\tTest's binary_logloss: 0.327097\n",
      "[820]\tTrain's binary_logloss: 0.246608\tTest's binary_logloss: 0.327755\n",
      "[840]\tTrain's binary_logloss: 0.24357\tTest's binary_logloss: 0.326411\n",
      "[860]\tTrain's binary_logloss: 0.240039\tTest's binary_logloss: 0.325061\n",
      "[880]\tTrain's binary_logloss: 0.238182\tTest's binary_logloss: 0.325156\n",
      "[900]\tTrain's binary_logloss: 0.234999\tTest's binary_logloss: 0.32378\n",
      "[920]\tTrain's binary_logloss: 0.23274\tTest's binary_logloss: 0.323254\n",
      "[940]\tTrain's binary_logloss: 0.229322\tTest's binary_logloss: 0.322887\n",
      "[960]\tTrain's binary_logloss: 0.228001\tTest's binary_logloss: 0.323092\n",
      "[980]\tTrain's binary_logloss: 0.224689\tTest's binary_logloss: 0.321897\n",
      "[1000]\tTrain's binary_logloss: 0.220422\tTest's binary_logloss: 0.320542\n",
      "[1020]\tTrain's binary_logloss: 0.22023\tTest's binary_logloss: 0.321297\n",
      "[1040]\tTrain's binary_logloss: 0.218803\tTest's binary_logloss: 0.321471\n",
      "[1060]\tTrain's binary_logloss: 0.216416\tTest's binary_logloss: 0.322078\n",
      "[1080]\tTrain's binary_logloss: 0.214062\tTest's binary_logloss: 0.322701\n",
      "[1100]\tTrain's binary_logloss: 0.213448\tTest's binary_logloss: 0.32349\n",
      "[1120]\tTrain's binary_logloss: 0.212764\tTest's binary_logloss: 0.324633\n",
      "[1140]\tTrain's binary_logloss: 0.210985\tTest's binary_logloss: 0.32474\n",
      "[1160]\tTrain's binary_logloss: 0.209928\tTest's binary_logloss: 0.324918\n",
      "[1180]\tTrain's binary_logloss: 0.208849\tTest's binary_logloss: 0.325847\n",
      "[1200]\tTrain's binary_logloss: 0.206207\tTest's binary_logloss: 0.326515\n",
      "[1220]\tTrain's binary_logloss: 0.20547\tTest's binary_logloss: 0.326148\n",
      "[1240]\tTrain's binary_logloss: 0.202766\tTest's binary_logloss: 0.327095\n",
      "[1260]\tTrain's binary_logloss: 0.200681\tTest's binary_logloss: 0.326688\n",
      "[1280]\tTrain's binary_logloss: 0.199009\tTest's binary_logloss: 0.326984\n",
      "[1300]\tTrain's binary_logloss: 0.196448\tTest's binary_logloss: 0.327265\n",
      "[1320]\tTrain's binary_logloss: 0.196216\tTest's binary_logloss: 0.327898\n",
      "[1340]\tTrain's binary_logloss: 0.193894\tTest's binary_logloss: 0.328838\n",
      "[1360]\tTrain's binary_logloss: 0.192056\tTest's binary_logloss: 0.328726\n",
      "[1380]\tTrain's binary_logloss: 0.19158\tTest's binary_logloss: 0.329126\n",
      "[1400]\tTrain's binary_logloss: 0.190649\tTest's binary_logloss: 0.328803\n",
      "[1420]\tTrain's binary_logloss: 0.188234\tTest's binary_logloss: 0.32963\n",
      "[1440]\tTrain's binary_logloss: 0.187054\tTest's binary_logloss: 0.329356\n",
      "[1460]\tTrain's binary_logloss: 0.185422\tTest's binary_logloss: 0.329213\n",
      "[1480]\tTrain's binary_logloss: 0.18313\tTest's binary_logloss: 0.329627\n",
      "[1500]\tTrain's binary_logloss: 0.181045\tTest's binary_logloss: 0.329904\n",
      "[1520]\tTrain's binary_logloss: 0.179921\tTest's binary_logloss: 0.329992\n",
      "[1540]\tTrain's binary_logloss: 0.178313\tTest's binary_logloss: 0.330644\n",
      "[1560]\tTrain's binary_logloss: 0.175957\tTest's binary_logloss: 0.331479\n",
      "[1580]\tTrain's binary_logloss: 0.174124\tTest's binary_logloss: 0.332239\n",
      "[1600]\tTrain's binary_logloss: 0.173366\tTest's binary_logloss: 0.332875\n",
      "[1620]\tTrain's binary_logloss: 0.173321\tTest's binary_logloss: 0.333032\n",
      "[1640]\tTrain's binary_logloss: 0.171727\tTest's binary_logloss: 0.333844\n",
      "[1660]\tTrain's binary_logloss: 0.171983\tTest's binary_logloss: 0.333576\n",
      "[1680]\tTrain's binary_logloss: 0.171051\tTest's binary_logloss: 0.33352\n",
      "[1700]\tTrain's binary_logloss: 0.169215\tTest's binary_logloss: 0.334135\n",
      "[1720]\tTrain's binary_logloss: 0.168352\tTest's binary_logloss: 0.335429\n",
      "[1740]\tTrain's binary_logloss: 0.166533\tTest's binary_logloss: 0.336586\n",
      "[1760]\tTrain's binary_logloss: 0.16536\tTest's binary_logloss: 0.337023\n",
      "[1780]\tTrain's binary_logloss: 0.164569\tTest's binary_logloss: 0.337325\n",
      "[1800]\tTrain's binary_logloss: 0.163204\tTest's binary_logloss: 0.338916\n",
      "[1820]\tTrain's binary_logloss: 0.162286\tTest's binary_logloss: 0.339081\n",
      "[1840]\tTrain's binary_logloss: 0.161344\tTest's binary_logloss: 0.338897\n",
      "[1860]\tTrain's binary_logloss: 0.160091\tTest's binary_logloss: 0.338897\n",
      "[1880]\tTrain's binary_logloss: 0.159551\tTest's binary_logloss: 0.339059\n",
      "[1900]\tTrain's binary_logloss: 0.157441\tTest's binary_logloss: 0.341006\n",
      "[1920]\tTrain's binary_logloss: 0.157568\tTest's binary_logloss: 0.341258\n",
      "[1940]\tTrain's binary_logloss: 0.156883\tTest's binary_logloss: 0.341733\n",
      "[1960]\tTrain's binary_logloss: 0.15631\tTest's binary_logloss: 0.342235\n",
      "[1980]\tTrain's binary_logloss: 0.155167\tTest's binary_logloss: 0.342102\n",
      "Early stopping, best iteration is:\n",
      "[995]\tTrain's binary_logloss: 0.221929\tTest's binary_logloss: 0.320297\n"
     ]
    }
   ],
   "source": [
    "#light gbm\n",
    "\n",
    "lgbParams = {\n",
    "    'boosting': 'dart',          # dart (drop out trees) often performs better\n",
    "    'application': 'binary',     # Binary classification\n",
    "    'learning_rate': 0.02,       # Learning rate, controls size of a gradient descent step\n",
    "    'min_data_in_leaf': 20,      # Data set is quite small so reduce this a bit\n",
    "    'feature_fraction': 0.6,     # Proportion of features in each boost, controls overfitting\n",
    "    'num_leaves': 41,            # Controls size of tree since LGBM uses leaf wise splits\n",
    "    'metric': 'binary_logloss',  # Area under ROC curve as the evaulation metric\n",
    "    'drop_rate': 0.15\n",
    "}\n",
    "\n",
    "#学習\n",
    "evaluationResults = {}\n",
    "lgbModel = lgb.train(train_set=lgbTrain,\n",
    "                     params=lgbParams,\n",
    "                     valid_sets=[lgbTrain, lgbTest], \n",
    "                     valid_names=['Train', 'Test'],\n",
    "                     evals_result=evaluationResults,\n",
    "                     num_boost_round=5000,\n",
    "                     early_stopping_rounds=1000,\n",
    "                     verbose_eval=20\n",
    "                    )\n",
    "\n",
    "optimum_boost_rounds = lgbModel.best_iteration"
   ]
  },
  {
   "cell_type": "code",
   "execution_count": 368,
   "metadata": {},
   "outputs": [
    {
     "data": {
      "image/png": "[encoded data removed]",
      "text/plain": [
       "<matplotlib.figure.Figure at 0x7f3810323c88>"
      ]
     },
     "metadata": {},
     "output_type": "display_data"
    }
   ],
   "source": [
    "fig, axs = plt.subplots(1, 2, figsize=[15, 4])\n",
    "\n",
    "# Plot the log loss during training\n",
    "axs[0].plot(evaluationResults['Train']['binary_logloss'], label='Train')\n",
    "axs[0].plot(evaluationResults['Test']['binary_logloss'], label='Test')\n",
    "axs[0].set_ylabel('Log loss')\n",
    "axs[0].set_xlabel('Boosting round')\n",
    "axs[0].set_title('Training performance')\n",
    "axs[0].legend()\n",
    "\n",
    "# Plot feature importance\n",
    "importances = pd.DataFrame({'features': lgbModel.feature_name(), \n",
    "                            'importance': lgbModel.feature_importance()}).sort_values('importance', ascending=False)\n",
    "axs[1].bar(x=np.arange(len(importances)), height=importances['importance'])\n",
    "axs[1].set_xticks(np.arange(len(importances)))\n",
    "axs[1].set_xticklabels(importances['features'])\n",
    "axs[1].set_ylabel('Feature importance (# times used to split)')\n",
    "axs[1].set_title('Feature importance')\n",
    "\n",
    "plt.show()"
   ]
  },
  {
   "cell_type": "code",
   "execution_count": 369,
   "metadata": {},
   "outputs": [
    {
     "name": "stdout",
     "output_type": "stream",
     "text": [
      "Accuracy score = \t 0.9007633587786259\n",
      "Precision score = \t 0.891566265060241\n",
      "Recall score =   \t 0.8131868131868132\n",
      "F1 score =      \t 0.8505747126436781\n"
     ]
    }
   ],
   "source": [
    "from sklearn.metrics import accuracy_score, recall_score, precision_score, f1_score\n",
    "preds = np.round(lgbModel.predict(X_test))\n",
    "print('Accuracy score = \\t {}'.format(accuracy_score(y_test, preds)))\n",
    "print('Precision score = \\t {}'.format(precision_score(y_test, preds)))\n",
    "print('Recall score =   \\t {}'.format(recall_score(y_test, preds)))\n",
    "print('F1 score =      \\t {}'.format(f1_score(y_test, preds)))"
   ]
  },
  {
   "cell_type": "code",
   "execution_count": 370,
   "metadata": {},
   "outputs": [],
   "source": [
    "#予測用datasetで予測\n",
    "lgbFinal = lgb.train(train_set=lgbFinalTrain,\n",
    "                      params=lgbParams,\n",
    "                      num_boost_round=optimum_boost_rounds,\n",
    "                      verbose_eval=0\n",
    "                      )\n",
    "\n",
    "lgbPred = np.round(lgbFinal.predict(test)).astype(int)"
   ]
  },
  {
   "cell_type": "code",
   "execution_count": 371,
   "metadata": {},
   "outputs": [],
   "source": [
    "# テスト値を再読み込みして，randomForestでクラス分類したカラムを追加\n",
    "df_out = pd.read_csv(\"./data/test.csv\")\n",
    "testLabels = pd.Series(lgbPred)\n",
    "df_out[\"Survived\"] = testLabels\n",
    "\n",
    "# outputディレクトリに出力する\n",
    "df_out[[\"PassengerId\",\"Survived\"]].to_csv(\"./data/lgbSubmission8.csv\",index=False)"
   ]
  },
  {
   "cell_type": "code",
   "execution_count": null,
   "metadata": {},
   "outputs": [],
   "source": []
  },
  {
   "cell_type": "code",
   "execution_count": null,
   "metadata": {},
   "outputs": [],
   "source": []
  },
  {
   "cell_type": "code",
   "execution_count": null,
   "metadata": {},
   "outputs": [],
   "source": [
    "#特徴量選択してもう一回"
   ]
  },
  {
   "cell_type": "code",
   "execution_count": null,
   "metadata": {},
   "outputs": [],
   "source": [
    "trainCp = train\n",
    "testCp = test"
   ]
  },
  {
   "cell_type": "code",
   "execution_count": null,
   "metadata": {},
   "outputs": [],
   "source": [
    "#train data と test data をそれぞれ特徴量とラベルに分ける\n",
    "trainFeatures = trainCp.drop(columns='Survived')\n",
    "trainLabels = trainCp.Survived"
   ]
  },
  {
   "cell_type": "code",
   "execution_count": null,
   "metadata": {},
   "outputs": [],
   "source": []
  },
  {
   "cell_type": "code",
   "execution_count": null,
   "metadata": {},
   "outputs": [],
   "source": [
    "#SFSでの特徴選択\n",
    "from sklearn.neighbors import KNeighborsClassifier\n",
    "from mlxtend.feature_selection import SequentialFeatureSelector as SFS\n",
    "from mlxtend.plotting import plot_sequential_feature_selection as plot_sfs\n",
    "import matplotlib.pyplot as plt\n",
    "\n",
    "knn = KNeighborsClassifier(n_neighbors=4)\n",
    "\n",
    "sfs = SFS(knn, #学習器\n",
    "          k_features=7, #特徴の最大選択数\n",
    "          forward=True, #Trueでforward selection, Falseでback\n",
    "          floating=False, #forward selectionの亜種を行うためのもの\n",
    "          scoring='accuracy', #評価指標\n",
    "          cv=5) #クロスバリデーション(cv=0とすると、最終的に選ばれる特徴が変わる)\n",
    "\n",
    "sfs = sfs.fit(trainFeatures, trainLabels)\n",
    "\n",
    "fig1 = plot_sfs(sfs.get_metric_dict(), kind='std_dev')\n",
    "\n",
    "plt.ylim([0.7, 0.9])\n",
    "plt.grid()\n",
    "plt.show()"
   ]
  },
  {
   "cell_type": "code",
   "execution_count": null,
   "metadata": {},
   "outputs": [],
   "source": [
    "sfs = sfs.fit(trainFeatures, trainLabels)\n",
    "sfs.subsets_"
   ]
  },
  {
   "cell_type": "code",
   "execution_count": null,
   "metadata": {},
   "outputs": [],
   "source": [
    "#knnを使ったSFSの結果より4つの特徴を選択\n",
    "trainFeatures = trainFeatures.drop(columns=['SibSp', 'Age', 'Fare'])\n",
    "testCp = testCp.drop(columns=['SibSp', 'Age', 'Fare'])"
   ]
  },
  {
   "cell_type": "code",
   "execution_count": null,
   "metadata": {},
   "outputs": [],
   "source": [
    "#相関関係より4つの特徴を選択\n",
    "#trainFeatures = trainFeatures.drop(columns=['SibSp', 'Age', 'Parch'])\n",
    "#testCp = testCp.drop(columns=['SibSp', 'Age', 'Parch'])"
   ]
  },
  {
   "cell_type": "code",
   "execution_count": null,
   "metadata": {},
   "outputs": [],
   "source": [
    "trainFeatures.head()"
   ]
  },
  {
   "cell_type": "code",
   "execution_count": null,
   "metadata": {},
   "outputs": [],
   "source": [
    "#light gbm 用データ分割\n",
    "X_train, X_test, y_train, y_test = train_test_split(trainFeatures, trainLabels, test_size=0.2, random_state=72)\n",
    "\n",
    "#モデル用dataset生成\n",
    "import lightgbm as lgb\n",
    "lgbTrain = lgb.Dataset(X_train, y_train)\n",
    "lgbTest = lgb.Dataset(X_test, y_test)\n",
    "lgbFinalTrain = lgb.Dataset(trainFeatures, trainLabels)"
   ]
  },
  {
   "cell_type": "code",
   "execution_count": null,
   "metadata": {
    "scrolled": false
   },
   "outputs": [],
   "source": [
    "#light gbm\n",
    "\n",
    "lgbParams = {\n",
    "    'boosting': 'dart',          # dart (drop out trees) often performs better\n",
    "    'application': 'binary',     # Binary classification\n",
    "    'learning_rate': 0.02,       # Learning rate, controls size of a gradient descent step\n",
    "    'min_data_in_leaf': 20,      # Data set is quite small so reduce this a bit\n",
    "    'feature_fraction': 0.7,     # Proportion of features in each boost, controls overfitting\n",
    "    'num_leaves': 41,            # Controls size of tree since LGBM uses leaf wise splits\n",
    "    'metric': 'binary_logloss',  # Area under ROC curve as the evaulation metric\n",
    "    'drop_rate': 0.15\n",
    "}\n",
    "\n",
    "#学習\n",
    "evaluationResults = {}\n",
    "lgbModel = lgb.train(train_set=lgbTrain,\n",
    "                     params=lgbParams,\n",
    "                     valid_sets=[lgbTrain, lgbTest], \n",
    "                     valid_names=['Train', 'Test'],\n",
    "                     evals_result=evaluationResults,\n",
    "                     num_boost_round=500,\n",
    "                     early_stopping_rounds=100,\n",
    "                     verbose_eval=20\n",
    "                    )\n",
    "\n",
    "optimum_boost_rounds = lgbModel.best_iteration"
   ]
  },
  {
   "cell_type": "code",
   "execution_count": null,
   "metadata": {},
   "outputs": [],
   "source": [
    "fig, axs = plt.subplots(1, 2, figsize=[15, 4])\n",
    "\n",
    "# Plot the log loss during training\n",
    "axs[0].plot(evaluationResults['Train']['binary_logloss'], label='Train')\n",
    "axs[0].plot(evaluationResults['Test']['binary_logloss'], label='Test')\n",
    "axs[0].set_ylabel('Log loss')\n",
    "axs[0].set_xlabel('Boosting round')\n",
    "axs[0].set_title('Training performance')\n",
    "axs[0].legend()\n",
    "\n",
    "# Plot feature importance\n",
    "importances = pd.DataFrame({'features': lgbModel.feature_name(), \n",
    "                            'importance': lgbModel.feature_importance()}).sort_values('importance', ascending=False)\n",
    "axs[1].bar(x=np.arange(len(importances)), height=importances['importance'])\n",
    "axs[1].set_xticks(np.arange(len(importances)))\n",
    "axs[1].set_xticklabels(importances['features'])\n",
    "axs[1].set_ylabel('Feature importance (# times used to split)')\n",
    "axs[1].set_title('Feature importance')\n",
    "\n",
    "plt.show()"
   ]
  },
  {
   "cell_type": "code",
   "execution_count": null,
   "metadata": {},
   "outputs": [],
   "source": [
    "preds = np.round(lgbModel.predict(X_test))\n",
    "print('Accuracy score = \\t {}'.format(accuracy_score(y_test, preds)))\n",
    "print('Precision score = \\t {}'.format(precision_score(y_test, preds)))\n",
    "print('Recall score =   \\t {}'.format(recall_score(y_test, preds)))\n",
    "print('F1 score =      \\t {}'.format(f1_score(y_test, preds)))"
   ]
  },
  {
   "cell_type": "code",
   "execution_count": null,
   "metadata": {},
   "outputs": [],
   "source": [
    "#予測用datasetで予測\n",
    "lgbFinal = lgb.train(train_set=lgbFinalTrain,\n",
    "                      params=lgbParams,\n",
    "                      num_boost_round=optimum_boost_rounds,\n",
    "                      verbose_eval=0\n",
    "                      )\n",
    "\n",
    "lgbPred = np.round(lgbFinal.predict(test)).astype(int)"
   ]
  },
  {
   "cell_type": "code",
   "execution_count": null,
   "metadata": {},
   "outputs": [],
   "source": [
    "# テスト値を再読み込みして，randomForestでクラス分類したカラムを追加\n",
    "df_out = pd.read_csv(\"./data/test.csv\")\n",
    "lgbPred = pd.Series(lgbPred)\n",
    "df_out[\"Survived\"] = lgbPred\n",
    "\n",
    "# outputディレクトリに出力する\n",
    "df_out[[\"PassengerId\",\"Survived\"]].to_csv(\"./data/lgbSubmission4.csv\",index=False)"
   ]
  },
  {
   "cell_type": "code",
   "execution_count": null,
   "metadata": {},
   "outputs": [],
   "source": []
  },
  {
   "cell_type": "code",
   "execution_count": null,
   "metadata": {},
   "outputs": [],
   "source": []
  },
  {
   "cell_type": "code",
   "execution_count": null,
   "metadata": {},
   "outputs": [],
   "source": []
  },
  {
   "cell_type": "code",
   "execution_count": null,
   "metadata": {},
   "outputs": [],
   "source": [
    "#PCA\n",
    "from sklearn.decomposition import PCA\n",
    "import seaborn as sns"
   ]
  },
  {
   "cell_type": "code",
   "execution_count": null,
   "metadata": {},
   "outputs": [],
   "source": [
    "sns.pairplot(trainFeatures)"
   ]
  },
  {
   "cell_type": "code",
   "execution_count": null,
   "metadata": {},
   "outputs": [],
   "source": [
    "#次元圧縮\n",
    "pca = PCA(n_components=5)\n",
    "trainFeatures = pca.fit_transform(trainFeatures.values)\n",
    "trainFeatures = pd.DataFrame(trainFeatures)"
   ]
  },
  {
   "cell_type": "code",
   "execution_count": null,
   "metadata": {},
   "outputs": [],
   "source": [
    "trainFeatures.head()"
   ]
  },
  {
   "cell_type": "code",
   "execution_count": null,
   "metadata": {},
   "outputs": [],
   "source": [
    "plt.Figure()\n",
    "plt.scatter(trainFeatures[:,0], trainFeatures[:,1], trainFeatures[:,2])\n",
    "plt.show()"
   ]
  },
  {
   "cell_type": "code",
   "execution_count": null,
   "metadata": {},
   "outputs": [],
   "source": [
    "#light gbm 用データ分割\n",
    "X_train, X_test, y_train, y_test = train_test_split(trainFeatures, trainLabels, test_size=0.2, random_state=72)\n",
    "\n",
    "#モデル用dataset生成\n",
    "import lightgbm as lgb\n",
    "lgbTrain = lgb.Dataset(X_train, y_train)\n",
    "lgbTest = lgb.Dataset(X_test, y_test)\n",
    "lgbFinalTrain = lgb.Dataset(trainFeatures, trainLabels)"
   ]
  },
  {
   "cell_type": "code",
   "execution_count": null,
   "metadata": {},
   "outputs": [],
   "source": [
    "#light gbm\n",
    "\n",
    "lgbParams = {\n",
    "    'boosting': 'dart',          # dart (drop out trees) often performs better\n",
    "    'application': 'binary',     # Binary classification\n",
    "    'learning_rate': 0.02,       # Learning rate, controls size of a gradient descent step\n",
    "    'min_data_in_leaf': 20,      # Data set is quite small so reduce this a bit\n",
    "    'feature_fraction': 0.7,     # Proportion of features in each boost, controls overfitting\n",
    "    'num_leaves': 41,            # Controls size of tree since LGBM uses leaf wise splits\n",
    "    'metric': 'binary_logloss',  # Area under ROC curve as the evaulation metric\n",
    "    'drop_rate': 0.15\n",
    "}\n",
    "\n",
    "#学習\n",
    "evaluationResults = {}\n",
    "lgbModel = lgb.train(train_set=lgbTrain,\n",
    "                     params=lgbParams,\n",
    "                     valid_sets=[lgbTrain, lgbTest], \n",
    "                     valid_names=['Train', 'Test'],\n",
    "                     evals_result=evaluationResults,\n",
    "                     num_boost_round=500,\n",
    "                     early_stopping_rounds=100,\n",
    "                     verbose_eval=20\n",
    "                    )\n",
    "\n",
    "optimum_boost_rounds = lgbModel.best_iteration"
   ]
  },
  {
   "cell_type": "code",
   "execution_count": null,
   "metadata": {},
   "outputs": [],
   "source": [
    "fig, axs = plt.subplots(1, 2, figsize=[15, 4])\n",
    "\n",
    "# Plot the log loss during training\n",
    "axs[0].plot(evaluationResults['Train']['binary_logloss'], label='Train')\n",
    "axs[0].plot(evaluationResults['Test']['binary_logloss'], label='Test')\n",
    "axs[0].set_ylabel('Log loss')\n",
    "axs[0].set_xlabel('Boosting round')\n",
    "axs[0].set_title('Training performance')\n",
    "axs[0].legend()\n",
    "\n",
    "# Plot feature importance\n",
    "importances = pd.DataFrame({'features': lgbModel.feature_name(), \n",
    "                            'importance': lgbModel.feature_importance()}).sort_values('importance', ascending=False)\n",
    "axs[1].bar(x=np.arange(len(importances)), height=importances['importance'])\n",
    "axs[1].set_xticks(np.arange(len(importances)))\n",
    "axs[1].set_xticklabels(importances['features'])\n",
    "axs[1].set_ylabel('Feature importance (# times used to split)')\n",
    "axs[1].set_title('Feature importance')\n",
    "\n",
    "plt.show()"
   ]
  },
  {
   "cell_type": "code",
   "execution_count": null,
   "metadata": {},
   "outputs": [],
   "source": [
    "preds = np.round(lgbModel.predict(X_test))\n",
    "print('Accuracy score = \\t {}'.format(accuracy_score(y_test, preds)))\n",
    "print('Precision score = \\t {}'.format(precision_score(y_test, preds)))\n",
    "print('Recall score =   \\t {}'.format(recall_score(y_test, preds)))\n",
    "print('F1 score =      \\t {}'.format(f1_score(y_test, preds)))"
   ]
  },
  {
   "cell_type": "code",
   "execution_count": null,
   "metadata": {},
   "outputs": [],
   "source": []
  }
 ],
 "metadata": {
  "kernelspec": {
   "display_name": "Python 3",
   "language": "python",
   "name": "python3"
  },
  "language_info": {
   "codemirror_mode": {
    "name": "ipython",
    "version": 3
   },
   "file_extension": ".py",
   "mimetype": "text/x-python",
   "name": "python",
   "nbconvert_exporter": "python",
   "pygments_lexer": "ipython3",
   "version": "3.6.4"
  }
 },
 "nbformat": 4,
 "nbformat_minor": 2
}
